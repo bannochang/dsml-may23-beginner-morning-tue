{
 "cells": [
  {
   "cell_type": "code",
   "execution_count": 1,
   "id": "1929f582",
   "metadata": {},
   "outputs": [
    {
     "name": "stderr",
     "output_type": "stream",
     "text": [
      "/Library/Frameworks/Python.framework/Versions/3.9/lib/python3.9/site-packages/scipy/__init__.py:146: UserWarning: A NumPy version >=1.16.5 and <1.23.0 is required for this version of SciPy (detected version 1.24.3\n",
      "  warnings.warn(f\"A NumPy version >={np_minversion} and <{np_maxversion}\"\n"
     ]
    }
   ],
   "source": [
    "import math\n",
    "import numpy as np\n",
    "import pandas as pd\n",
    "import seaborn as sns\n",
    "import matplotlib.pyplot as plt"
   ]
  },
  {
   "cell_type": "code",
   "execution_count": 6,
   "id": "bf2baed8",
   "metadata": {},
   "outputs": [
    {
     "data": {
      "text/plain": [
       "'H'"
      ]
     },
     "execution_count": 6,
     "metadata": {},
     "output_type": "execute_result"
    }
   ],
   "source": [
    "np.random.choice([\"H\", \"T\"])\n",
    "\n",
    "# Randomly chooses one option from the list of options provided"
   ]
  },
  {
   "cell_type": "code",
   "execution_count": 9,
   "id": "3ad74860",
   "metadata": {},
   "outputs": [
    {
     "data": {
      "text/plain": [
       "'T'"
      ]
     },
     "execution_count": 9,
     "metadata": {},
     "output_type": "execute_result"
    }
   ],
   "source": [
    "np.random.choice([\"H\", \"T\", \"T\"])\n",
    "\n",
    "# Now, probability of \"T\" -> 2/3\n",
    "# Probability of \"H\" -> 1/3"
   ]
  },
  {
   "cell_type": "code",
   "execution_count": 13,
   "id": "ba8975ce",
   "metadata": {},
   "outputs": [
    {
     "data": {
      "text/plain": [
       "array(['H', 'H', 'H', 'H'], dtype='<U1')"
      ]
     },
     "execution_count": 13,
     "metadata": {},
     "output_type": "execute_result"
    }
   ],
   "source": [
    "np.random.choice([\"H\", \"T\"], size = 4)"
   ]
  },
  {
   "cell_type": "code",
   "execution_count": 14,
   "id": "446b0d58",
   "metadata": {},
   "outputs": [],
   "source": [
    "# Let's use this for the casino example"
   ]
  },
  {
   "cell_type": "code",
   "execution_count": 15,
   "id": "9aa0805a",
   "metadata": {},
   "outputs": [
    {
     "data": {
      "text/plain": [
       "'R'"
      ]
     },
     "execution_count": 15,
     "metadata": {},
     "output_type": "execute_result"
    }
   ],
   "source": [
    "np.random.choice([\"R\", \"R\", \"R\", \"B\", \"B\"])"
   ]
  },
  {
   "cell_type": "code",
   "execution_count": 16,
   "id": "5eed76b7",
   "metadata": {},
   "outputs": [
    {
     "data": {
      "text/plain": [
       "array(['B', 'R', 'B', 'B'], dtype='<U1')"
      ]
     },
     "execution_count": 16,
     "metadata": {},
     "output_type": "execute_result"
    }
   ],
   "source": [
    "np.random.choice([\"R\", \"R\", \"R\", \"B\", \"B\"], size = 4)"
   ]
  },
  {
   "cell_type": "code",
   "execution_count": 17,
   "id": "ceba7304",
   "metadata": {},
   "outputs": [
    {
     "data": {
      "text/plain": [
       "3"
      ]
     },
     "execution_count": 17,
     "metadata": {},
     "output_type": "execute_result"
    }
   ],
   "source": [
    "np.count_nonzero([1,2,3,0,0,0,0,0])"
   ]
  },
  {
   "cell_type": "code",
   "execution_count": 18,
   "id": "40812811",
   "metadata": {},
   "outputs": [],
   "source": [
    "draws = np.random.choice([\"R\", \"R\", \"R\", \"B\", \"B\"], size = 4)"
   ]
  },
  {
   "cell_type": "code",
   "execution_count": 19,
   "id": "7a07570a",
   "metadata": {},
   "outputs": [
    {
     "data": {
      "text/plain": [
       "array(['R', 'R', 'R', 'B'], dtype='<U1')"
      ]
     },
     "execution_count": 19,
     "metadata": {},
     "output_type": "execute_result"
    }
   ],
   "source": [
    "draws"
   ]
  },
  {
   "cell_type": "code",
   "execution_count": 20,
   "id": "38567f79",
   "metadata": {},
   "outputs": [
    {
     "data": {
      "text/plain": [
       "array([ True,  True,  True, False])"
      ]
     },
     "execution_count": 20,
     "metadata": {},
     "output_type": "execute_result"
    }
   ],
   "source": [
    "draws == \"R\""
   ]
  },
  {
   "cell_type": "code",
   "execution_count": 22,
   "id": "df31c0c6",
   "metadata": {},
   "outputs": [
    {
     "data": {
      "text/plain": [
       "3"
      ]
     },
     "execution_count": 22,
     "metadata": {},
     "output_type": "execute_result"
    }
   ],
   "source": [
    "np.count_nonzero(draws == \"R\")"
   ]
  },
  {
   "cell_type": "code",
   "execution_count": 56,
   "id": "669ff682",
   "metadata": {},
   "outputs": [],
   "source": [
    "# Let's do this experiment 10000 times\n",
    "\n",
    "red_values = []\n",
    "\n",
    "for i in range(10000):\n",
    "    draws = np.random.choice([\"R\", \"R\", \"R\", \"B\", \"B\"], size = 4)\n",
    "    num_reds = np.count_nonzero(draws == \"R\")\n",
    "    red_values.append(num_reds)"
   ]
  },
  {
   "cell_type": "code",
   "execution_count": 57,
   "id": "26e92468",
   "metadata": {},
   "outputs": [],
   "source": [
    "# red_values"
   ]
  },
  {
   "cell_type": "code",
   "execution_count": 58,
   "id": "d440a0e0",
   "metadata": {},
   "outputs": [
    {
     "data": {
      "text/plain": [
       "2    3505\n",
       "3    3487\n",
       "1    1482\n",
       "4    1275\n",
       "0     251\n",
       "Name: count, dtype: int64"
      ]
     },
     "execution_count": 58,
     "metadata": {},
     "output_type": "execute_result"
    }
   ],
   "source": [
    "pd.value_counts(red_values)"
   ]
  },
  {
   "cell_type": "code",
   "execution_count": 59,
   "id": "119ec629",
   "metadata": {},
   "outputs": [
    {
     "data": {
      "text/plain": [
       "2    0.3505\n",
       "3    0.3487\n",
       "1    0.1482\n",
       "4    0.1275\n",
       "0    0.0251\n",
       "Name: proportion, dtype: float64"
      ]
     },
     "execution_count": 59,
     "metadata": {},
     "output_type": "execute_result"
    }
   ],
   "source": [
    "# Calculating probabilities using value_counts\n",
    "\n",
    "pd.value_counts(red_values, normalize = True)"
   ]
  },
  {
   "cell_type": "code",
   "execution_count": 60,
   "id": "8524fbdc",
   "metadata": {},
   "outputs": [],
   "source": [
    "empirical_expectation = np.mean(red_values)"
   ]
  },
  {
   "cell_type": "code",
   "execution_count": 61,
   "id": "284c4ae1",
   "metadata": {},
   "outputs": [
    {
     "data": {
      "text/plain": [
       "2.4053"
      ]
     },
     "execution_count": 61,
     "metadata": {},
     "output_type": "execute_result"
    }
   ],
   "source": [
    "empirical_expectation"
   ]
  },
  {
   "cell_type": "code",
   "execution_count": 62,
   "id": "1b484de8",
   "metadata": {},
   "outputs": [],
   "source": [
    "# COIN TOSS"
   ]
  },
  {
   "cell_type": "code",
   "execution_count": 32,
   "id": "cac0fcb6",
   "metadata": {},
   "outputs": [
    {
     "data": {
      "text/plain": [
       "H    0.7\n",
       "T    0.3\n",
       "Name: proportion, dtype: float64"
      ]
     },
     "execution_count": 32,
     "metadata": {},
     "output_type": "execute_result"
    }
   ],
   "source": [
    "pd.value_counts(\n",
    "    np.random.choice([\"H\", \"T\"], size = 10),\n",
    "    normalize = True\n",
    ")"
   ]
  },
  {
   "cell_type": "code",
   "execution_count": 36,
   "id": "a7586475",
   "metadata": {},
   "outputs": [
    {
     "data": {
      "text/plain": [
       "H    0.500045\n",
       "T    0.499955\n",
       "Name: proportion, dtype: float64"
      ]
     },
     "execution_count": 36,
     "metadata": {},
     "output_type": "execute_result"
    }
   ],
   "source": [
    "pd.value_counts(\n",
    "    np.random.choice([\"H\", \"T\"], size = 1000000),\n",
    "    normalize = True\n",
    ")"
   ]
  },
  {
   "cell_type": "code",
   "execution_count": 38,
   "id": "0159a30b",
   "metadata": {},
   "outputs": [],
   "source": [
    "# Theoritical values computation"
   ]
  },
  {
   "cell_type": "code",
   "execution_count": 39,
   "id": "498d82e6",
   "metadata": {},
   "outputs": [
    {
     "data": {
      "text/plain": [
       "1"
      ]
     },
     "execution_count": 39,
     "metadata": {},
     "output_type": "execute_result"
    }
   ],
   "source": [
    "math.comb(4,0) # Combination function in the math library"
   ]
  },
  {
   "cell_type": "code",
   "execution_count": 63,
   "id": "a0670730",
   "metadata": {},
   "outputs": [],
   "source": [
    "p_0 = math.comb(4, 0) * (3/5) ** 0 * (2/5) ** 4\n",
    "p_1 = math.comb(4, 1) * (3/5) ** 1 * (2/5) ** 3\n",
    "p_2 = math.comb(4, 2) * (3/5) ** 2 * (2/5) ** 2\n",
    "p_3 = math.comb(4, 3) * (3/5) ** 3 * (2/5) ** 1\n",
    "p_4 = math.comb(4, 4) * (3/5) ** 4 * (2/5) ** 0"
   ]
  },
  {
   "cell_type": "code",
   "execution_count": 44,
   "id": "e01f2895",
   "metadata": {},
   "outputs": [
    {
     "data": {
      "text/plain": [
       "3    0.34562\n",
       "2    0.34482\n",
       "1    0.15444\n",
       "4    0.12937\n",
       "0    0.02575\n",
       "Name: proportion, dtype: float64"
      ]
     },
     "execution_count": 44,
     "metadata": {},
     "output_type": "execute_result"
    }
   ],
   "source": [
    "red_values = []\n",
    "\n",
    "for i in range(100000):\n",
    "    draws = np.random.choice([\"R\", \"R\", \"R\", \"B\", \"B\"], size = 4)\n",
    "    num_reds = np.count_nonzero(draws == \"R\")\n",
    "    red_values.append(num_reds)\n",
    "\n",
    "pd.value_counts(red_values, normalize = True)"
   ]
  },
  {
   "cell_type": "code",
   "execution_count": 42,
   "id": "6171b000",
   "metadata": {},
   "outputs": [
    {
     "name": "stdout",
     "output_type": "stream",
     "text": [
      "0.025600000000000005\n",
      "0.15360000000000004\n",
      "0.3456000000000001\n",
      "0.34559999999999996\n",
      "0.1296\n"
     ]
    }
   ],
   "source": [
    "print(p_0, p_1, p_2, p_3, p_4, sep = \"\\n\")"
   ]
  },
  {
   "cell_type": "code",
   "execution_count": 47,
   "id": "ba866781",
   "metadata": {},
   "outputs": [],
   "source": [
    "x = pd.value_counts(red_values, normalize = True)"
   ]
  },
  {
   "cell_type": "code",
   "execution_count": 49,
   "id": "d8c2fef0",
   "metadata": {},
   "outputs": [
    {
     "data": {
      "image/png": "[encoded data removed]",
      "text/plain": [
       "<Figure size 640x480 with 1 Axes>"
      ]
     },
     "metadata": {},
     "output_type": "display_data"
    }
   ],
   "source": [
    "ax = sns.barplot(x = x.index, y = x.values)\n",
    "\n",
    "for i in ax.containers:\n",
    "    ax.bar_label(i,)"
   ]
  },
  {
   "cell_type": "code",
   "execution_count": 50,
   "id": "bd0e2e85",
   "metadata": {},
   "outputs": [],
   "source": [
    "# PROBABILITY MASS FUNCTION ^"
   ]
  },
  {
   "cell_type": "code",
   "execution_count": 51,
   "id": "2cedc6a4",
   "metadata": {},
   "outputs": [],
   "source": [
    "from scipy.stats import binom"
   ]
  },
  {
   "cell_type": "code",
   "execution_count": 52,
   "id": "f8d94020",
   "metadata": {},
   "outputs": [],
   "source": [
    "prob_0_red = binom.pmf(n = 4, p = 3/5, k = 0)"
   ]
  },
  {
   "cell_type": "code",
   "execution_count": 53,
   "id": "cb380e2c",
   "metadata": {},
   "outputs": [
    {
     "data": {
      "text/plain": [
       "0.025600000000000005"
      ]
     },
     "execution_count": 53,
     "metadata": {},
     "output_type": "execute_result"
    }
   ],
   "source": [
    "prob_0_red"
   ]
  },
  {
   "cell_type": "code",
   "execution_count": 64,
   "id": "10fd40c0",
   "metadata": {},
   "outputs": [],
   "source": [
    "theoritical_expectation = 0 * p_0 + 1 * p_1 + 2 * p_2 + 3 * p_3 + 4 * p_4"
   ]
  },
  {
   "cell_type": "code",
   "execution_count": 65,
   "id": "4ecd3dfa",
   "metadata": {},
   "outputs": [
    {
     "data": {
      "text/plain": [
       "2.4000000000000004"
      ]
     },
     "execution_count": 65,
     "metadata": {},
     "output_type": "execute_result"
    }
   ],
   "source": [
    "theoritical_expectation"
   ]
  },
  {
   "cell_type": "code",
   "execution_count": 66,
   "id": "a576f972",
   "metadata": {},
   "outputs": [
    {
     "data": {
      "text/plain": [
       "2.4053"
      ]
     },
     "execution_count": 66,
     "metadata": {},
     "output_type": "execute_result"
    }
   ],
   "source": [
    "empirical_expectation"
   ]
  },
  {
   "cell_type": "code",
   "execution_count": 67,
   "id": "87a65bb8",
   "metadata": {},
   "outputs": [],
   "source": [
    "# Let's define another random variable\n",
    "# Y -> {150, -10}\n",
    "\n",
    "# P(Y = 150) = P(X = 4)\n",
    "# P(Y = -10) = 1 - P(X = 4)"
   ]
  },
  {
   "cell_type": "code",
   "execution_count": 68,
   "id": "afa73107",
   "metadata": {},
   "outputs": [
    {
     "data": {
      "text/plain": [
       "0.1296"
      ]
     },
     "execution_count": 68,
     "metadata": {},
     "output_type": "execute_result"
    }
   ],
   "source": [
    "p_4"
   ]
  },
  {
   "cell_type": "code",
   "execution_count": 69,
   "id": "7873bcf8",
   "metadata": {},
   "outputs": [],
   "source": [
    "expected_y = 150 * 0.1296 + (-10 * (1 - 0.1296))"
   ]
  },
  {
   "cell_type": "code",
   "execution_count": 70,
   "id": "5ec93a05",
   "metadata": {},
   "outputs": [
    {
     "data": {
      "text/plain": [
       "10.735999999999997"
      ]
     },
     "execution_count": 70,
     "metadata": {},
     "output_type": "execute_result"
    }
   ],
   "source": [
    "expected_y"
   ]
  },
  {
   "cell_type": "code",
   "execution_count": 71,
   "id": "48b8273f",
   "metadata": {},
   "outputs": [
    {
     "data": {
      "text/plain": [
       "'\\nBernoulli Trials - \\nA binomial distribution with a single trial or n = 1.\\n'"
      ]
     },
     "execution_count": 71,
     "metadata": {},
     "output_type": "execute_result"
    }
   ],
   "source": [
    "'''\n",
    "Bernoulli Trials - \n",
    "A binomial distribution with a single trial or n = 1.\n",
    "'''"
   ]
  },
  {
   "cell_type": "code",
   "execution_count": 72,
   "id": "2cc5c1ad",
   "metadata": {},
   "outputs": [
    {
     "data": {
      "text/plain": [
       "'\\nHOMEWORK ->\\n\\nYou toss 2 dice. If both dice are 6, you get Rs 2. \\nElse, if one dice is 6, you get Rs 1.\\nOtherwise, you do not get anything.\\n\\nExpected amount of money to be won.\\n'"
      ]
     },
     "execution_count": 72,
     "metadata": {},
     "output_type": "execute_result"
    }
   ],
   "source": [
    "'''\n",
    "HOMEWORK ->\n",
    "\n",
    "You toss 2 dice. If both dice are 6, you get Rs 2. \n",
    "Else, if one dice is 6, you get Rs 1.\n",
    "Otherwise, you do not get anything.\n",
    "\n",
    "Expected amount of money to be won.\n",
    "'''"
   ]
  },
  {
   "cell_type": "code",
   "execution_count": 73,
   "id": "6b37f10a",
   "metadata": {},
   "outputs": [
    {
     "data": {
      "text/plain": [
       "0.22412490844726585"
      ]
     },
     "execution_count": 73,
     "metadata": {},
     "output_type": "execute_result"
    }
   ],
   "source": [
    "1 - (binom.pmf(n = 10, p = 1/4, k = 0) + binom.pmf(n = 10, p = 1/4, k = 1) + binom.pmf(n = 10, p = 1/4, k = 2) + binom.pmf(n = 10, p = 1/4, k = 3))"
   ]
  },
  {
   "cell_type": "code",
   "execution_count": 75,
   "id": "07e2be82",
   "metadata": {},
   "outputs": [
    {
     "data": {
      "text/plain": [
       "0.22412490844726562"
      ]
     },
     "execution_count": 75,
     "metadata": {},
     "output_type": "execute_result"
    }
   ],
   "source": [
    "1 - binom.cdf(n = 10, p = 1/4, k = 3)\n",
    "\n",
    "# Cumulates all the Probability Values till the given value of k"
   ]
  },
  {
   "cell_type": "code",
   "execution_count": 76,
   "id": "0fb4e972",
   "metadata": {},
   "outputs": [
    {
     "data": {
      "text/plain": [
       "0.28156757354736334"
      ]
     },
     "execution_count": 76,
     "metadata": {},
     "output_type": "execute_result"
    }
   ],
   "source": [
    "binom.pmf(n = 10, p = 1/4, k = 2)"
   ]
  },
  {
   "cell_type": "code",
   "execution_count": null,
   "id": "bda42884",
   "metadata": {},
   "outputs": [],
   "source": []
  }
 ],
 "metadata": {
  "kernelspec": {
   "display_name": "Python 3 (ipykernel)",
   "language": "python",
   "name": "python3"
  },
  "language_info": {
   "codemirror_mode": {
    "name": "ipython",
    "version": 3
   },
   "file_extension": ".py",
   "mimetype": "text/x-python",
   "name": "python",
   "nbconvert_exporter": "python",
   "pygments_lexer": "ipython3",
   "version": "3.9.5"
  }
 },
 "nbformat": 4,
 "nbformat_minor": 5
}
