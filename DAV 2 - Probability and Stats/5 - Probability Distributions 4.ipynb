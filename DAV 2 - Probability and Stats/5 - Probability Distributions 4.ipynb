{
 "cells": [
  {
   "cell_type": "markdown",
   "id": "817edd8d",
   "metadata": {},
   "source": [
    "# Confidence Intervals"
   ]
  },
  {
   "cell_type": "code",
   "execution_count": 1,
   "id": "e93e1b85",
   "metadata": {},
   "outputs": [
    {
     "name": "stderr",
     "output_type": "stream",
     "text": [
      "/Library/Frameworks/Python.framework/Versions/3.9/lib/python3.9/site-packages/scipy/__init__.py:146: UserWarning: A NumPy version >=1.16.5 and <1.23.0 is required for this version of SciPy (detected version 1.24.3\n",
      "  warnings.warn(f\"A NumPy version >={np_minversion} and <{np_maxversion}\"\n"
     ]
    }
   ],
   "source": [
    "from scipy.stats import norm"
   ]
  },
  {
   "cell_type": "code",
   "execution_count": 3,
   "id": "22962288",
   "metadata": {},
   "outputs": [],
   "source": [
    "z1 = norm.ppf(0.025)\n",
    "z2 = norm.ppf(1 - 0.025)"
   ]
  },
  {
   "cell_type": "code",
   "execution_count": 4,
   "id": "bd7a9adb",
   "metadata": {},
   "outputs": [
    {
     "data": {
      "text/plain": [
       "-1.9599639845400545"
      ]
     },
     "execution_count": 4,
     "metadata": {},
     "output_type": "execute_result"
    }
   ],
   "source": [
    "z1"
   ]
  },
  {
   "cell_type": "code",
   "execution_count": 5,
   "id": "5184bce1",
   "metadata": {},
   "outputs": [
    {
     "data": {
      "text/plain": [
       "1.959963984540054"
      ]
     },
     "execution_count": 5,
     "metadata": {},
     "output_type": "execute_result"
    }
   ],
   "source": [
    "z2"
   ]
  },
  {
   "cell_type": "code",
   "execution_count": 6,
   "id": "c4adb0bf",
   "metadata": {},
   "outputs": [
    {
     "data": {
      "text/plain": [
       "'\\nExample 1 ->\\nn = 100\\nmean = 65\\nsigma = 2.5\\n'"
      ]
     },
     "execution_count": 6,
     "metadata": {},
     "output_type": "execute_result"
    }
   ],
   "source": [
    "'''\n",
    "Example 1 ->\n",
    "n = 100\n",
    "mean = 65\n",
    "sigma = 2.5\n",
    "'''"
   ]
  },
  {
   "cell_type": "code",
   "execution_count": 10,
   "id": "7eb1e168",
   "metadata": {},
   "outputs": [],
   "source": [
    "mean = 65"
   ]
  },
  {
   "cell_type": "code",
   "execution_count": 11,
   "id": "fea4893f",
   "metadata": {},
   "outputs": [],
   "source": [
    "std_error = 2.5 / 10"
   ]
  },
  {
   "cell_type": "code",
   "execution_count": 12,
   "id": "6b78973d",
   "metadata": {},
   "outputs": [
    {
     "data": {
      "text/plain": [
       "0.25"
      ]
     },
     "execution_count": 12,
     "metadata": {},
     "output_type": "execute_result"
    }
   ],
   "source": [
    "std_error"
   ]
  },
  {
   "cell_type": "code",
   "execution_count": 16,
   "id": "55bfdbb4",
   "metadata": {},
   "outputs": [],
   "source": [
    "x1 = mean - (-1.96) * std_error\n",
    "x2 = mean - (1.96) * std_error"
   ]
  },
  {
   "cell_type": "code",
   "execution_count": 17,
   "id": "379cc0dc",
   "metadata": {},
   "outputs": [
    {
     "data": {
      "text/plain": [
       "65.49"
      ]
     },
     "execution_count": 17,
     "metadata": {},
     "output_type": "execute_result"
    }
   ],
   "source": [
    "x1"
   ]
  },
  {
   "cell_type": "code",
   "execution_count": 18,
   "id": "504523bf",
   "metadata": {},
   "outputs": [
    {
     "data": {
      "text/plain": [
       "64.51"
      ]
     },
     "execution_count": 18,
     "metadata": {},
     "output_type": "execute_result"
    }
   ],
   "source": [
    "x2"
   ]
  },
  {
   "cell_type": "code",
   "execution_count": 19,
   "id": "df546842",
   "metadata": {},
   "outputs": [
    {
     "data": {
      "text/plain": [
       "[64.51, 65.49]"
      ]
     },
     "execution_count": 19,
     "metadata": {},
     "output_type": "execute_result"
    }
   ],
   "source": [
    "[64.51, 65.49] # 95% confidence interval"
   ]
  },
  {
   "cell_type": "code",
   "execution_count": 20,
   "id": "0d4c8351",
   "metadata": {},
   "outputs": [
    {
     "data": {
      "text/plain": [
       "(64.51000900386498, 65.48999099613502)"
      ]
     },
     "execution_count": 20,
     "metadata": {},
     "output_type": "execute_result"
    }
   ],
   "source": [
    "# norm.interval(confidence, loc (mean), standard error)\n",
    "\n",
    "norm.interval(0.95, loc = 65, scale = std_error)"
   ]
  },
  {
   "cell_type": "code",
   "execution_count": 21,
   "id": "9beabfb2",
   "metadata": {},
   "outputs": [
    {
     "data": {
      "text/plain": [
       "'\\nQuiz 1 -\\nFrom a sample of 80 endangered birds,\\nthe average wingspan was found to be 45 cm, with a population standard deviation of 10 cm.\\nWhat is the correct confidence interval of the mean wingspan of the entire population with 90% confidence.\\n'"
      ]
     },
     "execution_count": 21,
     "metadata": {},
     "output_type": "execute_result"
    }
   ],
   "source": [
    "'''\n",
    "Quiz 1 -\n",
    "From a sample of 80 endangered birds,\n",
    "the average wingspan was found to be 45 cm, with a population standard deviation of 10 cm.\n",
    "What is the correct confidence interval of the mean wingspan of the entire population with 90% confidence.\n",
    "'''"
   ]
  },
  {
   "cell_type": "code",
   "execution_count": 22,
   "id": "e3cb5fff",
   "metadata": {},
   "outputs": [],
   "source": [
    "std_error = 10 / (80 ** 0.5)"
   ]
  },
  {
   "cell_type": "code",
   "execution_count": 23,
   "id": "d66ec67e",
   "metadata": {},
   "outputs": [
    {
     "data": {
      "text/plain": [
       "1.118033988749895"
      ]
     },
     "execution_count": 23,
     "metadata": {},
     "output_type": "execute_result"
    }
   ],
   "source": [
    "std_error"
   ]
  },
  {
   "cell_type": "code",
   "execution_count": 24,
   "id": "e46bbb36",
   "metadata": {},
   "outputs": [
    {
     "data": {
      "text/plain": [
       "(43.16099773854971, 46.83900226145029)"
      ]
     },
     "execution_count": 24,
     "metadata": {},
     "output_type": "execute_result"
    }
   ],
   "source": [
    "norm.interval(0.9, loc = 45, scale = std_error)"
   ]
  },
  {
   "cell_type": "code",
   "execution_count": 25,
   "id": "49e5bd34",
   "metadata": {},
   "outputs": [
    {
     "data": {
      "text/plain": [
       "'\\nExample -\\nIn a software project, the team estimates bug resolution time at an average of 6 hours\\nwith a standard deviation of 2 hours.\\nTo estimate the mean resolution time with 99% confidence, the project manager samples 25 resolved bugs.\\nWhat is the correct confidence interval?\\n'"
      ]
     },
     "execution_count": 25,
     "metadata": {},
     "output_type": "execute_result"
    }
   ],
   "source": [
    "'''\n",
    "Example -\n",
    "In a software project, the team estimates bug resolution time at an average of 6 hours\n",
    "with a standard deviation of 2 hours.\n",
    "To estimate the mean resolution time with 99% confidence, the project manager samples 25 resolved bugs.\n",
    "What is the correct confidence interval?\n",
    "'''"
   ]
  },
  {
   "cell_type": "code",
   "execution_count": 30,
   "id": "d62724c6",
   "metadata": {},
   "outputs": [],
   "source": [
    "# Bootstrapping for CI"
   ]
  },
  {
   "cell_type": "code",
   "execution_count": 80,
   "id": "2671f321",
   "metadata": {},
   "outputs": [],
   "source": [
    "import numpy as np\n",
    "import pandas as pd\n",
    "import matplotlib.pyplot as plt\n",
    "import seaborn as sns"
   ]
  },
  {
   "cell_type": "code",
   "execution_count": 27,
   "id": "cb3b2f3c",
   "metadata": {},
   "outputs": [],
   "source": [
    "survey_1 = [35, 36, 33, 37, 34, 35]\n",
    "survey_2 = [20, 37, 17, 50, 53, 33]"
   ]
  },
  {
   "cell_type": "code",
   "execution_count": 28,
   "id": "c01b957c",
   "metadata": {},
   "outputs": [
    {
     "data": {
      "text/plain": [
       "35.0"
      ]
     },
     "execution_count": 28,
     "metadata": {},
     "output_type": "execute_result"
    }
   ],
   "source": [
    "np.mean(survey_1)"
   ]
  },
  {
   "cell_type": "code",
   "execution_count": 29,
   "id": "d9c811fa",
   "metadata": {},
   "outputs": [
    {
     "data": {
      "text/plain": [
       "35.0"
      ]
     },
     "execution_count": 29,
     "metadata": {},
     "output_type": "execute_result"
    }
   ],
   "source": [
    "np.mean(survey_2)"
   ]
  },
  {
   "cell_type": "code",
   "execution_count": 76,
   "id": "1bd68b0a",
   "metadata": {},
   "outputs": [],
   "source": [
    "n = 6\n",
    "bootstrapped_sample = np.random.choice(survey_2, size = n)"
   ]
  },
  {
   "cell_type": "code",
   "execution_count": 77,
   "id": "5a4e6b56",
   "metadata": {},
   "outputs": [
    {
     "data": {
      "text/plain": [
       "array([50, 20, 50, 37, 50, 53])"
      ]
     },
     "execution_count": 77,
     "metadata": {},
     "output_type": "execute_result"
    }
   ],
   "source": [
    "bootstrapped_sample"
   ]
  },
  {
   "cell_type": "code",
   "execution_count": 78,
   "id": "3b4cbf11",
   "metadata": {},
   "outputs": [
    {
     "data": {
      "text/plain": [
       "43.333333333333336"
      ]
     },
     "execution_count": 78,
     "metadata": {},
     "output_type": "execute_result"
    }
   ],
   "source": [
    "np.mean(bootstrapped_sample)"
   ]
  },
  {
   "cell_type": "code",
   "execution_count": 83,
   "id": "37f7b751",
   "metadata": {},
   "outputs": [
    {
     "data": {
      "text/plain": [
       "<AxesSubplot:ylabel='Count'>"
      ]
     },
     "execution_count": 83,
     "metadata": {},
     "output_type": "execute_result"
    },
    {
     "data": {
      "image/png": "[encoded data removed]",
      "text/plain": [
       "<Figure size 640x480 with 1 Axes>"
      ]
     },
     "metadata": {},
     "output_type": "display_data"
    }
   ],
   "source": [
    "bootstrapped_means_survey_1 = []\n",
    "\n",
    "for reps in range(10000):\n",
    "    bootstrapped_sample = np.random.choice(survey_1, size = n)\n",
    "    bootstrapped_mean = np.mean(bootstrapped_sample)\n",
    "    bootstrapped_means_survey_1.append(bootstrapped_mean)\n",
    "    \n",
    "sns.histplot(bootstrapped_means_survey_1)"
   ]
  },
  {
   "cell_type": "code",
   "execution_count": 87,
   "id": "1fb4189c",
   "metadata": {},
   "outputs": [
    {
     "data": {
      "text/plain": [
       "<AxesSubplot:ylabel='Count'>"
      ]
     },
     "execution_count": 87,
     "metadata": {},
     "output_type": "execute_result"
    },
    {
     "data": {
      "image/png": "[encoded data removed]",
      "text/plain": [
       "<Figure size 640x480 with 1 Axes>"
      ]
     },
     "metadata": {},
     "output_type": "display_data"
    }
   ],
   "source": [
    "bootstrapped_means_survey_2 = []\n",
    "\n",
    "for reps in range(10000):\n",
    "    bootstrapped_sample = np.random.choice(survey_2, size = n)\n",
    "    bootstrapped_mean = np.mean(bootstrapped_sample)\n",
    "    bootstrapped_means_survey_2.append(bootstrapped_mean)\n",
    "    \n",
    "sns.histplot(bootstrapped_means_survey_2)"
   ]
  },
  {
   "cell_type": "code",
   "execution_count": 89,
   "id": "7049d03c",
   "metadata": {},
   "outputs": [],
   "source": [
    "x1 = np.percentile(bootstrapped_means_survey_1, 2.5)\n",
    "x2 = np.percentile(bootstrapped_means_survey_1, 97.5)"
   ]
  },
  {
   "cell_type": "code",
   "execution_count": 90,
   "id": "0cc94909",
   "metadata": {},
   "outputs": [
    {
     "name": "stdout",
     "output_type": "stream",
     "text": [
      "34.0 36.0\n"
     ]
    }
   ],
   "source": [
    "print(x1, x2)"
   ]
  },
  {
   "cell_type": "code",
   "execution_count": 91,
   "id": "017c33cd",
   "metadata": {},
   "outputs": [],
   "source": [
    "x1 = np.percentile(bootstrapped_means_survey_2, 2.5)\n",
    "x2 = np.percentile(bootstrapped_means_survey_2, 97.5)"
   ]
  },
  {
   "cell_type": "code",
   "execution_count": 92,
   "id": "e6c67cd7",
   "metadata": {},
   "outputs": [
    {
     "name": "stdout",
     "output_type": "stream",
     "text": [
      "24.0 46.0\n"
     ]
    }
   ],
   "source": [
    "print(x1, x2)"
   ]
  },
  {
   "cell_type": "markdown",
   "id": "9c177916",
   "metadata": {},
   "source": [
    "# Log Normal Distribution"
   ]
  },
  {
   "cell_type": "code",
   "execution_count": 93,
   "id": "a3a34dd3",
   "metadata": {},
   "outputs": [
    {
     "data": {
      "text/html": [
       "<div>\n",
       "<style scoped>\n",
       "    .dataframe tbody tr th:only-of-type {\n",
       "        vertical-align: middle;\n",
       "    }\n",
       "\n",
       "    .dataframe tbody tr th {\n",
       "        vertical-align: top;\n",
       "    }\n",
       "\n",
       "    .dataframe thead th {\n",
       "        text-align: right;\n",
       "    }\n",
       "</style>\n",
       "<table border=\"1\" class=\"dataframe\">\n",
       "  <thead>\n",
       "    <tr style=\"text-align: right;\">\n",
       "      <th></th>\n",
       "      <th>time</th>\n",
       "    </tr>\n",
       "  </thead>\n",
       "  <tbody>\n",
       "    <tr>\n",
       "      <th>0</th>\n",
       "      <td>184.003075</td>\n",
       "    </tr>\n",
       "    <tr>\n",
       "      <th>1</th>\n",
       "      <td>36.721521</td>\n",
       "    </tr>\n",
       "    <tr>\n",
       "      <th>2</th>\n",
       "      <td>29.970417</td>\n",
       "    </tr>\n",
       "    <tr>\n",
       "      <th>3</th>\n",
       "      <td>75.640285</td>\n",
       "    </tr>\n",
       "    <tr>\n",
       "      <th>4</th>\n",
       "      <td>61.489439</td>\n",
       "    </tr>\n",
       "  </tbody>\n",
       "</table>\n",
       "</div>"
      ],
      "text/plain": [
       "         time\n",
       "0  184.003075\n",
       "1   36.721521\n",
       "2   29.970417\n",
       "3   75.640285\n",
       "4   61.489439"
      ]
     },
     "execution_count": 93,
     "metadata": {},
     "output_type": "execute_result"
    }
   ],
   "source": [
    "data = pd.read_csv(\"waiting_time.csv\")\n",
    "data.head()"
   ]
  },
  {
   "cell_type": "code",
   "execution_count": 94,
   "id": "3fc09679",
   "metadata": {},
   "outputs": [
    {
     "data": {
      "text/plain": [
       "<AxesSubplot:ylabel='Count'>"
      ]
     },
     "execution_count": 94,
     "metadata": {},
     "output_type": "execute_result"
    },
    {
     "data": {
      "image/png": "[encoded data removed]",
      "text/plain": [
       "<Figure size 640x480 with 1 Axes>"
      ]
     },
     "metadata": {},
     "output_type": "display_data"
    }
   ],
   "source": [
    "sns.histplot(data, bins = 100)"
   ]
  },
  {
   "cell_type": "code",
   "execution_count": 95,
   "id": "d81a0c4e",
   "metadata": {},
   "outputs": [],
   "source": [
    "data_log = np.log(data)"
   ]
  },
  {
   "cell_type": "code",
   "execution_count": 96,
   "id": "7e0bf6d7",
   "metadata": {},
   "outputs": [
    {
     "data": {
      "text/html": [
       "<div>\n",
       "<style scoped>\n",
       "    .dataframe tbody tr th:only-of-type {\n",
       "        vertical-align: middle;\n",
       "    }\n",
       "\n",
       "    .dataframe tbody tr th {\n",
       "        vertical-align: top;\n",
       "    }\n",
       "\n",
       "    .dataframe thead th {\n",
       "        text-align: right;\n",
       "    }\n",
       "</style>\n",
       "<table border=\"1\" class=\"dataframe\">\n",
       "  <thead>\n",
       "    <tr style=\"text-align: right;\">\n",
       "      <th></th>\n",
       "      <th>time</th>\n",
       "    </tr>\n",
       "  </thead>\n",
       "  <tbody>\n",
       "    <tr>\n",
       "      <th>0</th>\n",
       "      <td>5.214952</td>\n",
       "    </tr>\n",
       "    <tr>\n",
       "      <th>1</th>\n",
       "      <td>3.603363</td>\n",
       "    </tr>\n",
       "    <tr>\n",
       "      <th>2</th>\n",
       "      <td>3.400211</td>\n",
       "    </tr>\n",
       "    <tr>\n",
       "      <th>3</th>\n",
       "      <td>4.325989</td>\n",
       "    </tr>\n",
       "    <tr>\n",
       "      <th>4</th>\n",
       "      <td>4.118865</td>\n",
       "    </tr>\n",
       "    <tr>\n",
       "      <th>...</th>\n",
       "      <td>...</td>\n",
       "    </tr>\n",
       "    <tr>\n",
       "      <th>90041</th>\n",
       "      <td>4.911816</td>\n",
       "    </tr>\n",
       "    <tr>\n",
       "      <th>90042</th>\n",
       "      <td>2.722871</td>\n",
       "    </tr>\n",
       "    <tr>\n",
       "      <th>90043</th>\n",
       "      <td>5.336766</td>\n",
       "    </tr>\n",
       "    <tr>\n",
       "      <th>90044</th>\n",
       "      <td>4.945125</td>\n",
       "    </tr>\n",
       "    <tr>\n",
       "      <th>90045</th>\n",
       "      <td>3.926311</td>\n",
       "    </tr>\n",
       "  </tbody>\n",
       "</table>\n",
       "<p>90046 rows × 1 columns</p>\n",
       "</div>"
      ],
      "text/plain": [
       "           time\n",
       "0      5.214952\n",
       "1      3.603363\n",
       "2      3.400211\n",
       "3      4.325989\n",
       "4      4.118865\n",
       "...         ...\n",
       "90041  4.911816\n",
       "90042  2.722871\n",
       "90043  5.336766\n",
       "90044  4.945125\n",
       "90045  3.926311\n",
       "\n",
       "[90046 rows x 1 columns]"
      ]
     },
     "execution_count": 96,
     "metadata": {},
     "output_type": "execute_result"
    }
   ],
   "source": [
    "data_log"
   ]
  },
  {
   "cell_type": "code",
   "execution_count": 97,
   "id": "e0158899",
   "metadata": {},
   "outputs": [
    {
     "data": {
      "text/plain": [
       "<AxesSubplot:ylabel='Count'>"
      ]
     },
     "execution_count": 97,
     "metadata": {},
     "output_type": "execute_result"
    },
    {
     "data": {
      "image/png": "[encoded data removed]",
      "text/plain": [
       "<Figure size 640x480 with 1 Axes>"
      ]
     },
     "metadata": {},
     "output_type": "display_data"
    }
   ],
   "source": [
    "sns.histplot(data_log, bins = 100)"
   ]
  },
  {
   "cell_type": "markdown",
   "id": "28ecdd00",
   "metadata": {},
   "source": [
    "# Poisson Distribution"
   ]
  },
  {
   "cell_type": "code",
   "execution_count": 100,
   "id": "c0743b43",
   "metadata": {},
   "outputs": [
    {
     "data": {
      "text/plain": [
       "'\\nModelling for a number of events that occur in a fixed interval of time\\n\\nToll booth on a highway - \\n    - Fixed Interval - 1 hour\\n    - Average Rate - 30 vehicles per hour\\n'"
      ]
     },
     "execution_count": 100,
     "metadata": {},
     "output_type": "execute_result"
    }
   ],
   "source": [
    "'''\n",
    "Modelling for a number of events that occur in a fixed interval of time\n",
    "\n",
    "Toll booth on a highway - \n",
    "    - Fixed Interval - 1 hour\n",
    "    - Average Rate - 30 vehicles per hour\n",
    "'''"
   ]
  },
  {
   "cell_type": "code",
   "execution_count": 101,
   "id": "2203abce",
   "metadata": {},
   "outputs": [],
   "source": [
    "from scipy.stats import poisson"
   ]
  },
  {
   "cell_type": "code",
   "execution_count": 102,
   "id": "2c937db2",
   "metadata": {},
   "outputs": [],
   "source": [
    "# poisson.pmf(k, mu)\n",
    "\n",
    "# k -> Number of events (exact)\n",
    "# mu -> Average Rate"
   ]
  },
  {
   "cell_type": "code",
   "execution_count": 103,
   "id": "f6ad32f7",
   "metadata": {},
   "outputs": [
    {
     "data": {
      "text/plain": [
       "0.2706705664732254"
      ]
     },
     "execution_count": 103,
     "metadata": {},
     "output_type": "execute_result"
    }
   ],
   "source": [
    "poisson.pmf(k = 1, mu = 2)"
   ]
  },
  {
   "cell_type": "code",
   "execution_count": 104,
   "id": "9c1984fe",
   "metadata": {},
   "outputs": [
    {
     "data": {
      "text/plain": [
       "\"\\nRules / Conditions for Poisson's Distribution ->\\n    - Events should be countable and discrete\\n    - Events should be independent\\n    - Rate should be known and remain constant\\n    - Events should not occur simultaneously\\n\""
      ]
     },
     "execution_count": 104,
     "metadata": {},
     "output_type": "execute_result"
    }
   ],
   "source": [
    "'''\n",
    "Rules / Conditions for Poisson's Distribution ->\n",
    "    - Events should be countable and discrete\n",
    "    - Events should be independent\n",
    "    - Rate should be known and remain constant\n",
    "    - Events should not occur simultaneously\n",
    "'''"
   ]
  },
  {
   "cell_type": "code",
   "execution_count": 105,
   "id": "078f4261",
   "metadata": {},
   "outputs": [
    {
     "data": {
      "text/plain": [
       "'\\nHOMEWORK EXAMPLES ->\\n\\n1. A city sees 3 accidents per day on average.\\nFind the probability that there will be 5 accidents tomorrow.\\n\\n2. Find the probability that there will be 5 or fewer accidents tomorrow.\\n\\n3. Let “X” be the number of typos in a page in a printed book, with mean of 3 typos per page.\\nWhat is the probability that a randomly selected page has atmost 1 typo?\\n\\n4. The shop is open for 8 hours. The average number of customers is 74 - assume Poisson distributed.  \\n(a) What is the probability that in 2 hours, there will be at most 15 customers?  \\n(b)What is the probability that in 2 hours, there will be at least 7 customers?\\n'"
      ]
     },
     "execution_count": 105,
     "metadata": {},
     "output_type": "execute_result"
    }
   ],
   "source": [
    "'''\n",
    "HOMEWORK EXAMPLES ->\n",
    "\n",
    "1. A city sees 3 accidents per day on average.\n",
    "Find the probability that there will be 5 accidents tomorrow.\n",
    "\n",
    "2. Find the probability that there will be 5 or fewer accidents tomorrow.\n",
    "\n",
    "3. Let “X” be the number of typos in a page in a printed book, with mean of 3 typos per page.\n",
    "What is the probability that a randomly selected page has atmost 1 typo?\n",
    "\n",
    "4. The shop is open for 8 hours. The average number of customers is 74 - assume Poisson distributed.  \n",
    "(a) What is the probability that in 2 hours, there will be at most 15 customers?  \n",
    "(b)What is the probability that in 2 hours, there will be at least 7 customers?\n",
    "'''"
   ]
  },
  {
   "cell_type": "markdown",
   "id": "438265ee",
   "metadata": {},
   "source": [
    "# Geometric Distribution"
   ]
  },
  {
   "cell_type": "markdown",
   "id": "415cce70",
   "metadata": {},
   "source": [
    "Imagine, you're in a job search and you're giving interviews till you land your first job.\n",
    "\n",
    "What are the possible outcomes? -> S or F\n",
    "\n",
    "S = {s, fs, ffs, fffs....}\n",
    "P = {0.1, 0.9 * 0.1, 0.9 * 0.9 * 0.1...}\n",
    "\n",
    "Success Rate = p = 0.1\n",
    "Failure Rate = 1 - p = 0.9\n",
    "\n",
    "`P(X = k) = ((1 - p) ** (k-1)) * p`"
   ]
  },
  {
   "cell_type": "code",
   "execution_count": 1,
   "id": "7d568673",
   "metadata": {},
   "outputs": [
    {
     "ename": "NameError",
     "evalue": "name 'np' is not defined",
     "output_type": "error",
     "traceback": [
      "\u001b[0;31m---------------------------------------------------------------------------\u001b[0m",
      "\u001b[0;31mNameError\u001b[0m                                 Traceback (most recent call last)",
      "Cell \u001b[0;32mIn[1], line 1\u001b[0m\n\u001b[0;32m----> 1\u001b[0m x_vals \u001b[38;5;241m=\u001b[39m \u001b[43mnp\u001b[49m\u001b[38;5;241m.\u001b[39marange(\u001b[38;5;241m1\u001b[39m, \u001b[38;5;241m20\u001b[39m)\n\u001b[1;32m      2\u001b[0m p \u001b[38;5;241m=\u001b[39m \u001b[38;5;241m0.1\u001b[39m\n",
      "\u001b[0;31mNameError\u001b[0m: name 'np' is not defined"
     ]
    }
   ],
   "source": [
    "x_vals = np.arange(1, 20)\n",
    "p = 0.1"
   ]
  },
  {
   "cell_type": "code",
   "execution_count": null,
   "id": "3f30df0e",
   "metadata": {},
   "outputs": [],
   "source": []
  }
 ],
 "metadata": {
  "kernelspec": {
   "display_name": "Python 3 (ipykernel)",
   "language": "python",
   "name": "python3"
  },
  "language_info": {
   "codemirror_mode": {
    "name": "ipython",
    "version": 3
   },
   "file_extension": ".py",
   "mimetype": "text/x-python",
   "name": "python",
   "nbconvert_exporter": "python",
   "pygments_lexer": "ipython3",
   "version": "3.9.5"
  }
 },
 "nbformat": 4,
 "nbformat_minor": 5
}
