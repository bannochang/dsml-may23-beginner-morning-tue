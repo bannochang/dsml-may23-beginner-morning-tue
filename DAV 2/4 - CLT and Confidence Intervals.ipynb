{
 "cells": [
  {
   "cell_type": "code",
   "execution_count": 1,
   "id": "86d15c36",
   "metadata": {},
   "outputs": [
    {
     "name": "stderr",
     "output_type": "stream",
     "text": [
      "/Library/Frameworks/Python.framework/Versions/3.9/lib/python3.9/site-packages/scipy/__init__.py:146: UserWarning: A NumPy version >=1.16.5 and <1.23.0 is required for this version of SciPy (detected version 1.24.3\n",
      "  warnings.warn(f\"A NumPy version >={np_minversion} and <{np_maxversion}\"\n"
     ]
    }
   ],
   "source": [
    "import numpy as np\n",
    "import pandas as pd\n",
    "import seaborn as sns\n",
    "import matplotlib.pyplot as plt\n",
    "from scipy.stats import norm"
   ]
  },
  {
   "cell_type": "code",
   "execution_count": 3,
   "id": "4bd71324",
   "metadata": {},
   "outputs": [],
   "source": [
    "df = pd.read_csv(\"weight-height.csv\")"
   ]
  },
  {
   "cell_type": "code",
   "execution_count": 4,
   "id": "bbd44802",
   "metadata": {},
   "outputs": [
    {
     "data": {
      "text/html": [
       "<div>\n",
       "<style scoped>\n",
       "    .dataframe tbody tr th:only-of-type {\n",
       "        vertical-align: middle;\n",
       "    }\n",
       "\n",
       "    .dataframe tbody tr th {\n",
       "        vertical-align: top;\n",
       "    }\n",
       "\n",
       "    .dataframe thead th {\n",
       "        text-align: right;\n",
       "    }\n",
       "</style>\n",
       "<table border=\"1\" class=\"dataframe\">\n",
       "  <thead>\n",
       "    <tr style=\"text-align: right;\">\n",
       "      <th></th>\n",
       "      <th>Gender</th>\n",
       "      <th>Height</th>\n",
       "      <th>Weight</th>\n",
       "    </tr>\n",
       "  </thead>\n",
       "  <tbody>\n",
       "    <tr>\n",
       "      <th>0</th>\n",
       "      <td>Male</td>\n",
       "      <td>73.847017</td>\n",
       "      <td>241.893563</td>\n",
       "    </tr>\n",
       "    <tr>\n",
       "      <th>1</th>\n",
       "      <td>Male</td>\n",
       "      <td>68.781904</td>\n",
       "      <td>162.310473</td>\n",
       "    </tr>\n",
       "    <tr>\n",
       "      <th>2</th>\n",
       "      <td>Male</td>\n",
       "      <td>74.110105</td>\n",
       "      <td>212.740856</td>\n",
       "    </tr>\n",
       "    <tr>\n",
       "      <th>3</th>\n",
       "      <td>Male</td>\n",
       "      <td>71.730978</td>\n",
       "      <td>220.042470</td>\n",
       "    </tr>\n",
       "    <tr>\n",
       "      <th>4</th>\n",
       "      <td>Male</td>\n",
       "      <td>69.881796</td>\n",
       "      <td>206.349801</td>\n",
       "    </tr>\n",
       "  </tbody>\n",
       "</table>\n",
       "</div>"
      ],
      "text/plain": [
       "  Gender     Height      Weight\n",
       "0   Male  73.847017  241.893563\n",
       "1   Male  68.781904  162.310473\n",
       "2   Male  74.110105  212.740856\n",
       "3   Male  71.730978  220.042470\n",
       "4   Male  69.881796  206.349801"
      ]
     },
     "execution_count": 4,
     "metadata": {},
     "output_type": "execute_result"
    }
   ],
   "source": [
    "df.head()"
   ]
  },
  {
   "cell_type": "code",
   "execution_count": 5,
   "id": "2e604ed9",
   "metadata": {},
   "outputs": [
    {
     "data": {
      "text/plain": [
       "0    73.847017\n",
       "1    68.781904\n",
       "2    74.110105\n",
       "3    71.730978\n",
       "4    69.881796\n",
       "Name: Height, dtype: float64"
      ]
     },
     "execution_count": 5,
     "metadata": {},
     "output_type": "execute_result"
    }
   ],
   "source": [
    "df_height = df[\"Height\"]\n",
    "df_height.head()"
   ]
  },
  {
   "cell_type": "code",
   "execution_count": 6,
   "id": "2750286e",
   "metadata": {},
   "outputs": [
    {
     "data": {
      "text/plain": [
       "<AxesSubplot:xlabel='Height', ylabel='Count'>"
      ]
     },
     "execution_count": 6,
     "metadata": {},
     "output_type": "execute_result"
    },
    {
     "data": {
      "image/png": "[encoded data removed]",
      "text/plain": [
       "<Figure size 640x480 with 1 Axes>"
      ]
     },
     "metadata": {},
     "output_type": "display_data"
    }
   ],
   "source": [
    "sns.histplot(df_height)"
   ]
  },
  {
   "cell_type": "code",
   "execution_count": 7,
   "id": "b6d08b89",
   "metadata": {},
   "outputs": [],
   "source": [
    "mu_population = df_height.mean() # Mean"
   ]
  },
  {
   "cell_type": "code",
   "execution_count": 8,
   "id": "631ea536",
   "metadata": {},
   "outputs": [
    {
     "data": {
      "text/plain": [
       "66.36755975482124"
      ]
     },
     "execution_count": 8,
     "metadata": {},
     "output_type": "execute_result"
    }
   ],
   "source": [
    "mu_population"
   ]
  },
  {
   "cell_type": "code",
   "execution_count": 9,
   "id": "53ccdd74",
   "metadata": {},
   "outputs": [],
   "source": [
    "sigma_population = df_height.std() # Standard Deviation"
   ]
  },
  {
   "cell_type": "code",
   "execution_count": 10,
   "id": "e0568b98",
   "metadata": {},
   "outputs": [
    {
     "data": {
      "text/plain": [
       "3.8475281207732293"
      ]
     },
     "execution_count": 10,
     "metadata": {},
     "output_type": "execute_result"
    }
   ],
   "source": [
    "sigma_population"
   ]
  },
  {
   "cell_type": "code",
   "execution_count": 11,
   "id": "f582749a",
   "metadata": {},
   "outputs": [
    {
     "data": {
      "text/plain": [
       "1452    74.053846\n",
       "2834    69.022974\n",
       "6890    62.190672\n",
       "5107    64.498866\n",
       "4560    68.106109\n",
       "Name: Height, dtype: float64"
      ]
     },
     "execution_count": 11,
     "metadata": {},
     "output_type": "execute_result"
    }
   ],
   "source": [
    "df_height.sample(5)"
   ]
  },
  {
   "cell_type": "code",
   "execution_count": 25,
   "id": "252d0250",
   "metadata": {},
   "outputs": [
    {
     "data": {
      "text/plain": [
       "65.1853818475618"
      ]
     },
     "execution_count": 25,
     "metadata": {},
     "output_type": "execute_result"
    }
   ],
   "source": [
    "np.mean(df_height.sample(5))"
   ]
  },
  {
   "cell_type": "code",
   "execution_count": 26,
   "id": "e9b51f49",
   "metadata": {},
   "outputs": [],
   "source": [
    "sample_5 = [np.mean(df_height.sample(5)) for i in range(10000) ]"
   ]
  },
  {
   "cell_type": "code",
   "execution_count": 28,
   "id": "4873e8e4",
   "metadata": {},
   "outputs": [
    {
     "data": {
      "text/plain": [
       "<AxesSubplot:ylabel='Count'>"
      ]
     },
     "execution_count": 28,
     "metadata": {},
     "output_type": "execute_result"
    },
    {
     "data": {
      "image/png": "[encoded data removed]",
      "text/plain": [
       "<Figure size 640x480 with 1 Axes>"
      ]
     },
     "metadata": {},
     "output_type": "display_data"
    }
   ],
   "source": [
    "sns.histplot(sample_5)"
   ]
  },
  {
   "cell_type": "code",
   "execution_count": 29,
   "id": "a718ed78",
   "metadata": {},
   "outputs": [],
   "source": [
    "mu_sample_5 = np.mean(sample_5)"
   ]
  },
  {
   "cell_type": "code",
   "execution_count": 30,
   "id": "750e85be",
   "metadata": {},
   "outputs": [
    {
     "data": {
      "text/plain": [
       "66.37729344240124"
      ]
     },
     "execution_count": 30,
     "metadata": {},
     "output_type": "execute_result"
    }
   ],
   "source": [
    "mu_sample_5"
   ]
  },
  {
   "cell_type": "code",
   "execution_count": 31,
   "id": "4c0b8f11",
   "metadata": {},
   "outputs": [
    {
     "data": {
      "text/plain": [
       "66.36755975482124"
      ]
     },
     "execution_count": 31,
     "metadata": {},
     "output_type": "execute_result"
    }
   ],
   "source": [
    "mu_population"
   ]
  },
  {
   "cell_type": "code",
   "execution_count": 32,
   "id": "8c6c6e76",
   "metadata": {},
   "outputs": [],
   "source": [
    "sigma_sample_5 = np.std(sample_5)"
   ]
  },
  {
   "cell_type": "code",
   "execution_count": 33,
   "id": "38f59163",
   "metadata": {},
   "outputs": [
    {
     "data": {
      "text/plain": [
       "1.7118882715867885"
      ]
     },
     "execution_count": 33,
     "metadata": {},
     "output_type": "execute_result"
    }
   ],
   "source": [
    "sigma_sample_5"
   ]
  },
  {
   "cell_type": "code",
   "execution_count": 34,
   "id": "12338f4b",
   "metadata": {},
   "outputs": [
    {
     "data": {
      "text/plain": [
       "3.8475281207732293"
      ]
     },
     "execution_count": 34,
     "metadata": {},
     "output_type": "execute_result"
    }
   ],
   "source": [
    "sigma_population"
   ]
  },
  {
   "cell_type": "code",
   "execution_count": 35,
   "id": "ad2979b3",
   "metadata": {},
   "outputs": [],
   "source": [
    "# Data still varies a lot between 60 and 72"
   ]
  },
  {
   "cell_type": "code",
   "execution_count": 36,
   "id": "947fff4f",
   "metadata": {},
   "outputs": [],
   "source": [
    "sample_20 = [np.mean(df_height.sample(20)) for i in range(10000) ]"
   ]
  },
  {
   "cell_type": "code",
   "execution_count": 37,
   "id": "ab7355fb",
   "metadata": {},
   "outputs": [
    {
     "data": {
      "text/plain": [
       "<AxesSubplot:ylabel='Count'>"
      ]
     },
     "execution_count": 37,
     "metadata": {},
     "output_type": "execute_result"
    },
    {
     "data": {
      "image/png": "[encoded data removed]",
      "text/plain": [
       "<Figure size 640x480 with 1 Axes>"
      ]
     },
     "metadata": {},
     "output_type": "display_data"
    }
   ],
   "source": [
    "sns.histplot(sample_20)"
   ]
  },
  {
   "cell_type": "code",
   "execution_count": 38,
   "id": "84c22ea3",
   "metadata": {},
   "outputs": [],
   "source": [
    "mu_sample_20 = np.mean(sample_20)\n",
    "sigma_sample_20 = np.std(sample_20)"
   ]
  },
  {
   "cell_type": "code",
   "execution_count": 40,
   "id": "e5acb8ad",
   "metadata": {},
   "outputs": [
    {
     "name": "stdout",
     "output_type": "stream",
     "text": [
      "Statistic | Population | Sample 5 | Sample 20\n",
      "Mean | 66.36755975482124 | 66.37729344240124 | 66.35717193507861\n",
      "Std Dev | 3.8475281207732293 | 1.7118882715867885 | 0.8560981254316138\n"
     ]
    }
   ],
   "source": [
    "print(\"Statistic | Population | Sample 5 | Sample 20\")\n",
    "print(f\"Mean | {mu_population} | {mu_sample_5} | {mu_sample_20}\")\n",
    "print(f\"Std Dev | {sigma_population} | {sigma_sample_5} | {sigma_sample_20}\")"
   ]
  },
  {
   "cell_type": "code",
   "execution_count": 41,
   "id": "07c3c8ec",
   "metadata": {},
   "outputs": [
    {
     "data": {
      "text/plain": [
       "0.8849303297782918"
      ]
     },
     "execution_count": 41,
     "metadata": {},
     "output_type": "execute_result"
    }
   ],
   "source": [
    "norm.cdf(1.2)"
   ]
  },
  {
   "cell_type": "code",
   "execution_count": 42,
   "id": "0c9f664f",
   "metadata": {},
   "outputs": [
    {
     "data": {
      "text/plain": [
       "0.11506967022170822"
      ]
     },
     "execution_count": 42,
     "metadata": {},
     "output_type": "execute_result"
    }
   ],
   "source": [
    "1 - norm.cdf(1.2)"
   ]
  },
  {
   "cell_type": "code",
   "execution_count": 43,
   "id": "0515b35a",
   "metadata": {},
   "outputs": [
    {
     "data": {
      "text/plain": [
       "'\\nQuiz Question ->\\nWeekly toothpaste sales have a mean 1000 and std dev 200. Sample is taken of size 4.\\nWhat is the probability that the average weekly sales next month is more than 1110?\\n'"
      ]
     },
     "execution_count": 43,
     "metadata": {},
     "output_type": "execute_result"
    }
   ],
   "source": [
    "'''\n",
    "Quiz Question ->\n",
    "Weekly toothpaste sales have a mean 1000 and std dev 200. Sample is taken of size 4.\n",
    "What is the probability that the average weekly sales next month is more than 1110?\n",
    "'''"
   ]
  },
  {
   "cell_type": "code",
   "execution_count": 44,
   "id": "8289ed9b",
   "metadata": {},
   "outputs": [],
   "source": [
    "mu = 1000\n",
    "sigma = 200\n",
    "n = 4\n",
    "x = 1110 # greater than x"
   ]
  },
  {
   "cell_type": "code",
   "execution_count": 45,
   "id": "26f62bd2",
   "metadata": {},
   "outputs": [],
   "source": [
    "# Updated sigma value for the sample\n",
    "\n",
    "sigma = sigma / np.sqrt(n)"
   ]
  },
  {
   "cell_type": "code",
   "execution_count": 46,
   "id": "8ce7d096",
   "metadata": {},
   "outputs": [
    {
     "data": {
      "text/plain": [
       "100.0"
      ]
     },
     "execution_count": 46,
     "metadata": {},
     "output_type": "execute_result"
    }
   ],
   "source": [
    "sigma"
   ]
  },
  {
   "cell_type": "code",
   "execution_count": 47,
   "id": "14d49283",
   "metadata": {},
   "outputs": [],
   "source": [
    "z_score = (x - mu) / sigma"
   ]
  },
  {
   "cell_type": "code",
   "execution_count": 48,
   "id": "06b65d73",
   "metadata": {},
   "outputs": [
    {
     "data": {
      "text/plain": [
       "1.1"
      ]
     },
     "execution_count": 48,
     "metadata": {},
     "output_type": "execute_result"
    }
   ],
   "source": [
    "z_score"
   ]
  },
  {
   "cell_type": "code",
   "execution_count": 49,
   "id": "4db1e3bc",
   "metadata": {},
   "outputs": [],
   "source": [
    "probability = 1 - norm.cdf(z_score)"
   ]
  },
  {
   "cell_type": "code",
   "execution_count": 50,
   "id": "6d7c6a66",
   "metadata": {},
   "outputs": [
    {
     "data": {
      "text/plain": [
       "0.13566606094638267"
      ]
     },
     "execution_count": 50,
     "metadata": {},
     "output_type": "execute_result"
    }
   ],
   "source": [
    "probability"
   ]
  },
  {
   "cell_type": "code",
   "execution_count": 51,
   "id": "1339d9cc",
   "metadata": {},
   "outputs": [
    {
     "data": {
      "text/plain": [
       "'\\nQuiz Question ->\\nIn an e-commerce website, the average purchase amount per customer is $80 with a standard deviation of $15.\\nIf we randomly select a sample of 50 customers,\\nwhat is the probability that the average purchase amount in the sample will be less than $75?\\n'"
      ]
     },
     "execution_count": 51,
     "metadata": {},
     "output_type": "execute_result"
    }
   ],
   "source": [
    "'''\n",
    "Quiz Question ->\n",
    "In an e-commerce website, the average purchase amount per customer is $80 with a standard deviation of $15.\n",
    "If we randomly select a sample of 50 customers,\n",
    "what is the probability that the average purchase amount in the sample will be less than $75?\n",
    "'''"
   ]
  },
  {
   "cell_type": "code",
   "execution_count": 52,
   "id": "fc23c4bb",
   "metadata": {},
   "outputs": [],
   "source": [
    "mu = 80\n",
    "sigma = 15\n",
    "n = 50\n",
    "x = 75 # less than x"
   ]
  },
  {
   "cell_type": "code",
   "execution_count": 53,
   "id": "ea8e3c6a",
   "metadata": {},
   "outputs": [],
   "source": [
    "# Updated sigma value for the sample\n",
    "\n",
    "sigma = sigma / np.sqrt(n)"
   ]
  },
  {
   "cell_type": "code",
   "execution_count": 54,
   "id": "efda7a21",
   "metadata": {},
   "outputs": [
    {
     "data": {
      "text/plain": [
       "2.1213203435596424"
      ]
     },
     "execution_count": 54,
     "metadata": {},
     "output_type": "execute_result"
    }
   ],
   "source": [
    "sigma"
   ]
  },
  {
   "cell_type": "code",
   "execution_count": 55,
   "id": "d36b1142",
   "metadata": {},
   "outputs": [],
   "source": [
    "z_score = (x - mu) / sigma"
   ]
  },
  {
   "cell_type": "code",
   "execution_count": 56,
   "id": "6b89205d",
   "metadata": {},
   "outputs": [
    {
     "data": {
      "text/plain": [
       "-2.3570226039551585"
      ]
     },
     "execution_count": 56,
     "metadata": {},
     "output_type": "execute_result"
    }
   ],
   "source": [
    "z_score"
   ]
  },
  {
   "cell_type": "code",
   "execution_count": 57,
   "id": "cf24ac65",
   "metadata": {},
   "outputs": [],
   "source": [
    "probability = norm.cdf(z_score)"
   ]
  },
  {
   "cell_type": "code",
   "execution_count": 58,
   "id": "e5e07c68",
   "metadata": {},
   "outputs": [
    {
     "data": {
      "text/plain": [
       "0.009211062727049501"
      ]
     },
     "execution_count": 58,
     "metadata": {},
     "output_type": "execute_result"
    }
   ],
   "source": [
    "probability"
   ]
  },
  {
   "cell_type": "code",
   "execution_count": null,
   "id": "62477e54",
   "metadata": {},
   "outputs": [],
   "source": []
  }
 ],
 "metadata": {
  "kernelspec": {
   "display_name": "Python 3 (ipykernel)",
   "language": "python",
   "name": "python3"
  },
  "language_info": {
   "codemirror_mode": {
    "name": "ipython",
    "version": 3
   },
   "file_extension": ".py",
   "mimetype": "text/x-python",
   "name": "python",
   "nbconvert_exporter": "python",
   "pygments_lexer": "ipython3",
   "version": "3.9.5"
  }
 },
 "nbformat": 4,
 "nbformat_minor": 5
}
