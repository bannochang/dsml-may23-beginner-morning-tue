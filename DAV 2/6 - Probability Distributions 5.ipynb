{
 "cells": [
  {
   "cell_type": "markdown",
   "id": "87495541",
   "metadata": {},
   "source": [
    "#### Example 1 ->\n",
    "\n",
    "There are 80 students in a kindergarten class.\n",
    "Each one of them has a 0.015 probability of forgetting their lunch on any given day.\n",
    "\n",
    "(a) What is the average or expected number of students who forgot lunch in the class?  \n",
    "(b) What is the probability that exactly 3 of them will forget their lunch today?"
   ]
  },
  {
   "cell_type": "code",
   "execution_count": 12,
   "id": "1796b078",
   "metadata": {},
   "outputs": [],
   "source": [
    "import numpy as np\n",
    "import pandas as pd\n",
    "from scipy.stats import norm, poisson, binom\n",
    "import matplotlib.pyplot as plt\n",
    "import seaborn as sns"
   ]
  },
  {
   "cell_type": "code",
   "execution_count": 2,
   "id": "98df7ee2",
   "metadata": {},
   "outputs": [],
   "source": [
    "rate = 80 * 0.015"
   ]
  },
  {
   "cell_type": "code",
   "execution_count": 4,
   "id": "ca206423",
   "metadata": {},
   "outputs": [
    {
     "data": {
      "text/plain": [
       "1.2"
      ]
     },
     "execution_count": 4,
     "metadata": {},
     "output_type": "execute_result"
    }
   ],
   "source": [
    "rate # this is lambda"
   ]
  },
  {
   "cell_type": "code",
   "execution_count": 8,
   "id": "7f4d3aa9",
   "metadata": {},
   "outputs": [
    {
     "data": {
      "text/plain": [
       "0.08674393303071422"
      ]
     },
     "execution_count": 8,
     "metadata": {},
     "output_type": "execute_result"
    }
   ],
   "source": [
    "poisson.pmf(k = 3, mu = 1.2)"
   ]
  },
  {
   "cell_type": "code",
   "execution_count": 9,
   "id": "40a97bac",
   "metadata": {},
   "outputs": [],
   "source": [
    "# Let's try to model this as a Binomial Question"
   ]
  },
  {
   "cell_type": "code",
   "execution_count": 11,
   "id": "ebb794b3",
   "metadata": {},
   "outputs": [
    {
     "data": {
      "text/plain": [
       "'\\nP(Success) = Forgetting Lunch = 0.015\\nP(Failure) = 1 - P(Success) = 0.985\\n\\n\\n80 trials and 3 successes,\\n\\n80C3 * [(0.015) ** 3] * [(1 - 0.015) ** 77]\\n'"
      ]
     },
     "execution_count": 11,
     "metadata": {},
     "output_type": "execute_result"
    }
   ],
   "source": [
    "'''\n",
    "P(Success) = Forgetting Lunch = 0.015\n",
    "P(Failure) = 1 - P(Success) = 0.985\n",
    "\n",
    "\n",
    "80 trials and 3 successes,\n",
    "\n",
    "80C3 * [(0.015) ** 3] * [(1 - 0.015) ** 77]\n",
    "'''"
   ]
  },
  {
   "cell_type": "code",
   "execution_count": 13,
   "id": "06023982",
   "metadata": {},
   "outputs": [
    {
     "data": {
      "text/plain": [
       "0.08660120920447566"
      ]
     },
     "execution_count": 13,
     "metadata": {},
     "output_type": "execute_result"
    }
   ],
   "source": [
    "binom.pmf(k = 3, n = 80, p = 0.015)"
   ]
  },
  {
   "cell_type": "code",
   "execution_count": 14,
   "id": "85beb0f7",
   "metadata": {},
   "outputs": [
    {
     "data": {
      "text/plain": [
       "'\\nFor Poisson and Binomial Approximation to be reasonable ->\\n\\n    - The number of trials should be high\\n    - The probability of success should be low\\n    - Lambda = n*p (number of trials * probability of success)\\n'"
      ]
     },
     "execution_count": 14,
     "metadata": {},
     "output_type": "execute_result"
    }
   ],
   "source": [
    "'''\n",
    "For Poisson and Binomial Approximation to be reasonable ->\n",
    "\n",
    "    - The number of trials should be high\n",
    "    - The probability of success should be low\n",
    "    - Lambda = n*p (number of trials * probability of success)\n",
    "'''"
   ]
  },
  {
   "cell_type": "markdown",
   "id": "700432c5",
   "metadata": {},
   "source": [
    "# Exponential Distribution"
   ]
  },
  {
   "cell_type": "code",
   "execution_count": 15,
   "id": "b28a2fc4",
   "metadata": {},
   "outputs": [],
   "source": [
    "from scipy.stats import expon, geom"
   ]
  },
  {
   "cell_type": "markdown",
   "id": "e3328afe",
   "metadata": {},
   "source": [
    "#### Example 2 ->\n",
    "\n",
    "You receive 240 messages per hour on average - assume Poisson distributed. Rate of messages arriving per second is 1/15.\n",
    "\n",
    "1. Probability of having 0 messages in 10 seconds.\n",
    "2. What is the probability of waiting for more than 10 seconds for the next message?\n",
    "3. What is the probability of waiting less than or equal to 10 seconds?"
   ]
  },
  {
   "cell_type": "code",
   "execution_count": 16,
   "id": "eec2bc79",
   "metadata": {},
   "outputs": [],
   "source": [
    "rate = 10/15"
   ]
  },
  {
   "cell_type": "code",
   "execution_count": 17,
   "id": "87f67c5f",
   "metadata": {},
   "outputs": [
    {
     "data": {
      "text/plain": [
       "0.513417119032592"
      ]
     },
     "execution_count": 17,
     "metadata": {},
     "output_type": "execute_result"
    }
   ],
   "source": [
    "poisson.pmf(k = 0, mu = 10/15)"
   ]
  },
  {
   "cell_type": "code",
   "execution_count": 20,
   "id": "b407380e",
   "metadata": {},
   "outputs": [],
   "source": [
    "scale = 1/(1/15)"
   ]
  },
  {
   "cell_type": "code",
   "execution_count": 21,
   "id": "ff245f5d",
   "metadata": {},
   "outputs": [
    {
     "data": {
      "text/plain": [
       "15.0"
      ]
     },
     "execution_count": 21,
     "metadata": {},
     "output_type": "execute_result"
    }
   ],
   "source": [
    "scale"
   ]
  },
  {
   "cell_type": "code",
   "execution_count": 23,
   "id": "1f9c6ae5",
   "metadata": {},
   "outputs": [
    {
     "data": {
      "text/plain": [
       "0.513417119032592"
      ]
     },
     "execution_count": 23,
     "metadata": {},
     "output_type": "execute_result"
    }
   ],
   "source": [
    "1 - expon.cdf(x = 10, scale = 15)"
   ]
  },
  {
   "cell_type": "code",
   "execution_count": 24,
   "id": "d041b41b",
   "metadata": {},
   "outputs": [
    {
     "data": {
      "text/plain": [
       "0.486582880967408"
      ]
     },
     "execution_count": 24,
     "metadata": {},
     "output_type": "execute_result"
    }
   ],
   "source": [
    "expon.cdf(x = 10, scale = 15)"
   ]
  },
  {
   "cell_type": "markdown",
   "id": "21900a8e",
   "metadata": {},
   "source": [
    "### Poisson Distribution:\n",
    "\n",
    "Use Case: Models the number of events in a fixed interval of time or space.\n",
    "\n",
    "Example Question:\n",
    "\n",
    "- \"How many customers will enter a store in the next hour?\"\n",
    "- \"How many messages will you receive in next 15 mins?\"\n",
    "- \"How many calls can the call center expect in the next 30 minutes?\"\n",
    "\n",
    "Parameter: Rate (λ) represents the average number of events in the specified interval.\n",
    "\n",
    "\n",
    "\n",
    "### Exponential Distribution:\n",
    "\n",
    "Use Case: Models the time between consecutive events.\n",
    "\n",
    "Example Question:\n",
    "\n",
    "- \"How long do I have to wait for the next message?\"\n",
    "- \"On average, how much time will a customer spend waiting for service in a queue?\"\n",
    "- \"How long, on average, will passengers wait between consecutive bus arrivals?\"\n",
    "\n",
    "Parameter: Scale represents the average time between events. It's the reciprocal of the rate.\n",
    "\n",
    "Relation: Rate and Scale are reciprocals; as one increases, the other decreases."
   ]
  },
  {
   "cell_type": "markdown",
   "id": "dab9dc8c",
   "metadata": {},
   "source": [
    "#### Example 3 ->\n",
    "\n",
    "You are working as a data engineer who has to resolve any bugs/\n",
    "failures of machine learning models in production.\n",
    "The time taken to debug is exponentially distributed with mean of 5 minutes.\n",
    "\n",
    "1. Find the probability of debugging in 4 to 5 minutes.\n",
    "2. Find the probability of needing more than 6 minutes to debug.\n",
    "3. Given that you have already spent 3 minutes, what is the probability of needing more than 9 minutes total."
   ]
  },
  {
   "cell_type": "code",
   "execution_count": 25,
   "id": "13531bff",
   "metadata": {},
   "outputs": [],
   "source": [
    "rate = 1 / 5\n",
    "scale = 1 / rate"
   ]
  },
  {
   "cell_type": "code",
   "execution_count": 26,
   "id": "ad3a5d5a",
   "metadata": {},
   "outputs": [
    {
     "data": {
      "text/plain": [
       "5.0"
      ]
     },
     "execution_count": 26,
     "metadata": {},
     "output_type": "execute_result"
    }
   ],
   "source": [
    "scale"
   ]
  },
  {
   "cell_type": "code",
   "execution_count": 27,
   "id": "54ed1f4c",
   "metadata": {},
   "outputs": [],
   "source": [
    "# P[4 < T < 5] = P[T <= 5] - P[T <= 4]\n",
    "prob1 = expon.cdf(x = 5, scale = 5) - expon.cdf(x = 4, scale = 5)"
   ]
  },
  {
   "cell_type": "code",
   "execution_count": 28,
   "id": "3e1b6fa2",
   "metadata": {},
   "outputs": [
    {
     "data": {
      "text/plain": [
       "0.08144952294577923"
      ]
     },
     "execution_count": 28,
     "metadata": {},
     "output_type": "execute_result"
    }
   ],
   "source": [
    "prob1"
   ]
  },
  {
   "cell_type": "code",
   "execution_count": 30,
   "id": "ef9633b5",
   "metadata": {},
   "outputs": [],
   "source": [
    "# P[T > 6] = 1 - P[T <= 6]\n",
    "prob2 = 1 - expon.cdf(x = 6, scale = 5)"
   ]
  },
  {
   "cell_type": "code",
   "execution_count": 31,
   "id": "89163017",
   "metadata": {},
   "outputs": [
    {
     "data": {
      "text/plain": [
       "0.3011942119122022"
      ]
     },
     "execution_count": 31,
     "metadata": {},
     "output_type": "execute_result"
    }
   ],
   "source": [
    "prob2"
   ]
  },
  {
   "cell_type": "code",
   "execution_count": 34,
   "id": "41016e1f",
   "metadata": {},
   "outputs": [],
   "source": [
    "# P[T > 9 | T > 3] = (1 - P[T > 9]) / (1 - P[T > 3])\n",
    "prob3 = (1 - expon.cdf(x = 9, scale = 5)) / (1 - expon.cdf(x = 3, scale = 5))"
   ]
  },
  {
   "cell_type": "code",
   "execution_count": 35,
   "id": "73f6eb3d",
   "metadata": {},
   "outputs": [
    {
     "data": {
      "text/plain": [
       "0.3011942119122021"
      ]
     },
     "execution_count": 35,
     "metadata": {},
     "output_type": "execute_result"
    }
   ],
   "source": [
    "prob3"
   ]
  },
  {
   "cell_type": "markdown",
   "id": "fce06a34",
   "metadata": {},
   "source": [
    "#### Memoryless Property of Exponential Distribution - \n",
    "The memoryless property essentially means that the time you've already spent on an event doesn't affect the future waiting time.\n",
    "\n",
    "In the context of the exponential distribution, it means that the probability of needing more time in the future is the same, regardless of how much time has already passed."
   ]
  },
  {
   "cell_type": "code",
   "execution_count": 37,
   "id": "1ce910d2",
   "metadata": {},
   "outputs": [],
   "source": [
    "failure_rate = 1 / 50\n",
    "time_interval = 20\n",
    "\n",
    "prob = expon.cdf(x = time_interval, scale = 1 / failure_rate)"
   ]
  },
  {
   "cell_type": "code",
   "execution_count": 38,
   "id": "6dcf2c90",
   "metadata": {},
   "outputs": [
    {
     "data": {
      "text/plain": [
       "0.3296799539643607"
      ]
     },
     "execution_count": 38,
     "metadata": {},
     "output_type": "execute_result"
    }
   ],
   "source": [
    "prob"
   ]
  },
  {
   "cell_type": "markdown",
   "id": "5865f648",
   "metadata": {},
   "source": [
    "# Box Cox Transformation"
   ]
  },
  {
   "cell_type": "code",
   "execution_count": 39,
   "id": "e4324c17",
   "metadata": {},
   "outputs": [],
   "source": [
    "from scipy.stats import boxcox"
   ]
  },
  {
   "cell_type": "code",
   "execution_count": 40,
   "id": "6c7fcd32",
   "metadata": {},
   "outputs": [],
   "source": [
    "np.random.seed(0)"
   ]
  },
  {
   "cell_type": "code",
   "execution_count": 41,
   "id": "7f191a9d",
   "metadata": {},
   "outputs": [],
   "source": [
    "data = np.random.exponential(size = 1000)"
   ]
  },
  {
   "cell_type": "markdown",
   "id": "65fdbf24",
   "metadata": {},
   "source": [
    "File fox boxcox code -> https://colab.research.google.com/drive/111qkQaaH6QyT_t03nHqR_-pAqHR41HOz?usp=sharing"
   ]
  },
  {
   "cell_type": "markdown",
   "id": "f0c79113",
   "metadata": {},
   "source": [
    "# GEOMETRIC DISTRIBUTION"
   ]
  },
  {
   "cell_type": "markdown",
   "id": "66acdd30",
   "metadata": {},
   "source": [
    "Imagine, you're in a job search and you're giving interviews till you land your first job.\n",
    "\n",
    "What are the possible outcomes? -> S or F\n",
    "\n",
    "S = {s, fs, ffs, fffs....}\n",
    "P = {0.1, 0.9 * 0.1, 0.9 * 0.9 * 0.1...}\n",
    "\n",
    "Success Rate = p = 0.1\n",
    "Failure Rate = 1 - p = 0.9\n",
    "\n",
    "`P(X = k) = ((1 - p) ** (k-1)) * p`"
   ]
  },
  {
   "cell_type": "code",
   "execution_count": 53,
   "id": "ed5a9930",
   "metadata": {},
   "outputs": [],
   "source": [
    "x_vals = np.arange(1, 20)\n",
    "p = 0.1"
   ]
  },
  {
   "cell_type": "code",
   "execution_count": 54,
   "id": "870e8e34",
   "metadata": {},
   "outputs": [],
   "source": [
    "probs_geom = geom.pmf(x_vals, p = p)"
   ]
  },
  {
   "cell_type": "code",
   "execution_count": 55,
   "id": "673c4bcf",
   "metadata": {},
   "outputs": [
    {
     "data": {
      "text/plain": [
       "array([0.1       , 0.09      , 0.081     , 0.0729    , 0.06561   ,\n",
       "       0.059049  , 0.0531441 , 0.04782969, 0.04304672, 0.03874205,\n",
       "       0.03486784, 0.03138106, 0.02824295, 0.02541866, 0.02287679,\n",
       "       0.02058911, 0.0185302 , 0.01667718, 0.01500946])"
      ]
     },
     "execution_count": 55,
     "metadata": {},
     "output_type": "execute_result"
    }
   ],
   "source": [
    "probs_geom"
   ]
  },
  {
   "cell_type": "code",
   "execution_count": 56,
   "id": "a4672232",
   "metadata": {},
   "outputs": [
    {
     "data": {
      "text/plain": [
       "<AxesSubplot:>"
      ]
     },
     "execution_count": 56,
     "metadata": {},
     "output_type": "execute_result"
    },
    {
     "data": {
      "image/png": "[encoded data removed]",
      "text/plain": [
       "<Figure size 640x480 with 1 Axes>"
      ]
     },
     "metadata": {},
     "output_type": "display_data"
    }
   ],
   "source": [
    "sns.barplot(x = x_vals, y = probs_geom)"
   ]
  },
  {
   "cell_type": "code",
   "execution_count": 59,
   "id": "c1909dc5",
   "metadata": {},
   "outputs": [],
   "source": [
    "# Geometric Distribution Mean\n",
    "# Average number of attempts required to achieve success in a series of trials"
   ]
  },
  {
   "cell_type": "code",
   "execution_count": 58,
   "id": "27d36d22",
   "metadata": {},
   "outputs": [
    {
     "data": {
      "text/plain": [
       "'\\nMean = 1 / probability_of_success\\n'"
      ]
     },
     "execution_count": 58,
     "metadata": {},
     "output_type": "execute_result"
    }
   ],
   "source": [
    "'''\n",
    "Mean = 1 / probability_of_success\n",
    "'''"
   ]
  },
  {
   "cell_type": "code",
   "execution_count": 60,
   "id": "3a57ab44",
   "metadata": {},
   "outputs": [
    {
     "data": {
      "text/plain": [
       "0.21"
      ]
     },
     "execution_count": 60,
     "metadata": {},
     "output_type": "execute_result"
    }
   ],
   "source": [
    "geom.pmf(k = 2, p = 0.3)"
   ]
  },
  {
   "cell_type": "code",
   "execution_count": 61,
   "id": "d5675369",
   "metadata": {},
   "outputs": [
    {
     "data": {
      "text/plain": [
       "0.0975"
      ]
     },
     "execution_count": 61,
     "metadata": {},
     "output_type": "execute_result"
    }
   ],
   "source": [
    "geom.pmf(k = 1, p = 0.05) + geom.pmf(k = 2, p = 0.05)"
   ]
  },
  {
   "cell_type": "code",
   "execution_count": 62,
   "id": "41615392",
   "metadata": {},
   "outputs": [
    {
     "data": {
      "text/plain": [
       "0.0975"
      ]
     },
     "execution_count": 62,
     "metadata": {},
     "output_type": "execute_result"
    }
   ],
   "source": [
    "geom.cdf(k = 2, p = 0.05)"
   ]
  },
  {
   "cell_type": "code",
   "execution_count": null,
   "id": "61044266",
   "metadata": {},
   "outputs": [],
   "source": []
  }
 ],
 "metadata": {
  "kernelspec": {
   "display_name": "Python 3 (ipykernel)",
   "language": "python",
   "name": "python3"
  },
  "language_info": {
   "codemirror_mode": {
    "name": "ipython",
    "version": 3
   },
   "file_extension": ".py",
   "mimetype": "text/x-python",
   "name": "python",
   "nbconvert_exporter": "python",
   "pygments_lexer": "ipython3",
   "version": "3.9.5"
  }
 },
 "nbformat": 4,
 "nbformat_minor": 5
}
