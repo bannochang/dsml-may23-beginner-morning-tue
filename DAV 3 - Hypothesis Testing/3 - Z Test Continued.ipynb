{
 "cells": [
  {
   "cell_type": "markdown",
   "id": "40e5c007",
   "metadata": {},
   "source": [
    "# Power of Test"
   ]
  },
  {
   "cell_type": "code",
   "execution_count": 1,
   "id": "a99eaab3",
   "metadata": {},
   "outputs": [
    {
     "data": {
      "text/plain": [
       "'\\nQuality Control Manager - Chocolate Factory.\\nResponsible for maintaining the average weight of chocolate bars produced.\\n\\naverage = 50 grams\\nstandard deviation = 2 grams\\nsample size = 30\\nsignificance level = 0.05\\n\\ndata = [55, 45, 52, 48, 55, 52, 52, 53, 48, 52, 53, 47, 54, 51, 52, 51, 48, 52, 53, 54, 51, 51, 52, 54, 47, 52, 53, 48, 51, 54]\\n\\nH0: sample_mean = average = 50\\nHa: sample_mean != average\\n\\nCALCULATE POWER!\\n'"
      ]
     },
     "execution_count": 1,
     "metadata": {},
     "output_type": "execute_result"
    }
   ],
   "source": [
    "'''\n",
    "Quality Control Manager - Chocolate Factory.\n",
    "Responsible for maintaining the average weight of chocolate bars produced.\n",
    "\n",
    "average = 50 grams\n",
    "standard deviation = 2 grams\n",
    "sample size = 30\n",
    "significance level = 0.05\n",
    "\n",
    "data = [55, 45, 52, 48, 55, 52, 52, 53, 48, 52, 53, 47, 54, 51, 52, 51, 48, 52, 53, 54, 51, 51, 52, 54, 47, 52, 53, 48, 51, 54]\n",
    "\n",
    "H0: sample_mean = average = 50\n",
    "Ha: sample_mean != average\n",
    "\n",
    "CALCULATE POWER!\n",
    "'''"
   ]
  },
  {
   "cell_type": "code",
   "execution_count": 2,
   "id": "d08bc5dd",
   "metadata": {},
   "outputs": [
    {
     "name": "stderr",
     "output_type": "stream",
     "text": [
      "/Library/Frameworks/Python.framework/Versions/3.9/lib/python3.9/site-packages/scipy/__init__.py:146: UserWarning: A NumPy version >=1.16.5 and <1.23.0 is required for this version of SciPy (detected version 1.24.3\n",
      "  warnings.warn(f\"A NumPy version >={np_minversion} and <{np_maxversion}\"\n"
     ]
    }
   ],
   "source": [
    "import numpy as np\n",
    "from scipy import stats\n",
    "from statsmodels.stats import power"
   ]
  },
  {
   "cell_type": "code",
   "execution_count": 9,
   "id": "afb4bfe8",
   "metadata": {},
   "outputs": [],
   "source": [
    "population_mean = 50\n",
    "population_standard_deviation = 2\n",
    "sample_size = 30\n",
    "alpha = 0.05"
   ]
  },
  {
   "cell_type": "code",
   "execution_count": 10,
   "id": "680ef407",
   "metadata": {},
   "outputs": [],
   "source": [
    "confidence_level = 1 - (alpha / 2) # 95% confidence level in a two tailed test"
   ]
  },
  {
   "cell_type": "code",
   "execution_count": 11,
   "id": "0159b214",
   "metadata": {},
   "outputs": [],
   "source": [
    "z_critical = np.abs(round(stats.norm.isf(q = alpha / 2), 4))"
   ]
  },
  {
   "cell_type": "code",
   "execution_count": 12,
   "id": "0005005e",
   "metadata": {},
   "outputs": [
    {
     "data": {
      "text/plain": [
       "1.96"
      ]
     },
     "execution_count": 12,
     "metadata": {},
     "output_type": "execute_result"
    }
   ],
   "source": [
    "z_critical"
   ]
  },
  {
   "cell_type": "code",
   "execution_count": 13,
   "id": "827b31dd",
   "metadata": {},
   "outputs": [],
   "source": [
    "data = [55, 45, 52, 48, 55, 52, 52, 53, 48, 52, 53, 47, 54, 51, 52, 51, 48, 52, 53, 54, 51, 51, 52, 54, 47, 52, 53, 48, 51, 54]"
   ]
  },
  {
   "cell_type": "code",
   "execution_count": 14,
   "id": "e81fc08c",
   "metadata": {},
   "outputs": [],
   "source": [
    "sample_mean = np.mean(data)\n",
    "sample_standard_deviation = np.std(data)"
   ]
  },
  {
   "cell_type": "code",
   "execution_count": 15,
   "id": "56abdd40",
   "metadata": {},
   "outputs": [],
   "source": [
    "effective_size = (sample_mean - population_mean) / sample_standard_deviation"
   ]
  },
  {
   "cell_type": "code",
   "execution_count": 16,
   "id": "f8e3f01e",
   "metadata": {},
   "outputs": [
    {
     "data": {
      "text/plain": [
       "0.5261336417646574"
      ]
     },
     "execution_count": 16,
     "metadata": {},
     "output_type": "execute_result"
    }
   ],
   "source": [
    "effective_size"
   ]
  },
  {
   "cell_type": "code",
   "execution_count": 17,
   "id": "0b5fdfcf",
   "metadata": {},
   "outputs": [],
   "source": [
    "power = power.zt_ind_solve_power(\n",
    "    effect_size = effective_size,\n",
    "    nobs1 = sample_size,\n",
    "    alpha = alpha,\n",
    "    ratio = 0,\n",
    "    alternative = \"two-sided\"\n",
    ")"
   ]
  },
  {
   "cell_type": "code",
   "execution_count": 18,
   "id": "e79ca185",
   "metadata": {},
   "outputs": [
    {
     "data": {
      "text/plain": [
       "0.8216812302268112"
      ]
     },
     "execution_count": 18,
     "metadata": {},
     "output_type": "execute_result"
    }
   ],
   "source": [
    "power"
   ]
  },
  {
   "cell_type": "markdown",
   "id": "5ee2d4ba",
   "metadata": {},
   "source": [
    "# Two Sample Z Test"
   ]
  },
  {
   "cell_type": "code",
   "execution_count": 19,
   "id": "17e07f8a",
   "metadata": {},
   "outputs": [
    {
     "data": {
      "text/plain": [
       "'\\nExample 1 ->\\n\\nFDA - Two different medicines M1 and M2 have equal recovery time.\\n\\nH0: t1 = t2\\nHa: t1 != t2\\n\\nFor M1, you have data from 100 (n1) patients. -> x1 (mean)\\nFor M2, you have data from 90 (n2) patients. -> x2 (mean)\\n'"
      ]
     },
     "execution_count": 19,
     "metadata": {},
     "output_type": "execute_result"
    }
   ],
   "source": [
    "'''\n",
    "Example 1 ->\n",
    "\n",
    "FDA - Two different medicines M1 and M2 have equal recovery time.\n",
    "\n",
    "H0: t1 = t2\n",
    "Ha: t1 != t2\n",
    "\n",
    "For M1, you have data from 100 (n1) patients. -> x1 (mean)\n",
    "For M2, you have data from 90 (n2) patients. -> x2 (mean)\n",
    "'''"
   ]
  },
  {
   "cell_type": "code",
   "execution_count": 22,
   "id": "2caf889e",
   "metadata": {},
   "outputs": [
    {
     "name": "stdout",
     "output_type": "stream",
     "text": [
      "[6.0, 6.0, 11.0, 7.0, 19.0, 6.0, 13.0, 10.0, 18.0, 7.0, 10.0, 10.0, 9.0, 5.0, 12.0, 6.0, 14.0, 6.0, 10.0, 12.0, 19.0, 6.0, 7.0, 17.0, 5.0, 19.0, 14.0, 9.0, 18.0, 17.0, 10.0, 17.0, 8.0, 14.0, 13.0, 17.0, 10.0, 11.0, 17.0, 13.0, 15.0, 15.0, 15.0, 18.0, 12.0, 15.0, 11.0, 5.0, 16.0, 8.0, 17.0, 19.0, 15.0, 8.0, 10.0, 11.0, 6.0, 12.0, 14.0, 10.0, 8.0, 6.0, 14.0, 5.0, 10.0, 8.0, 13.0, 16.0, 19.0, 15.0, 20.0, 19.0, 14.0, 9.0, 12.0, 8.0, 20.0, 12.0, 16.0, 6.0, 7.0, 8.0, 9.0, 10.0, 9.0, 12.0, 11.0, 7.0, 6.0, 10.0, 6.0, 11.0, 5.0, 13.0, 6.0, 15.0, 11.0, 20.0, 9.0, 12.0]\n",
      "[24.0, 13.0, 14.0, 21.0, 29.0, 27.0, 15.0, 23.0, 22.0, 14.0, 11.0, 7.0, 27.0, 6.0, 18.0, 18.0, 9.0, 21.0, 28.0, 24.0, 15.0, 8.0, 29.0, 18.0, 21.0, 25.0, 15.0, 7.0, 8.0, 22.0, 14.0, 27.0, 24.0, 30.0, 22.0, 13.0, 25.0, 6.0, 18.0, 27.0, 18.0, 8.0, 18.0, 19.0, 14.0, 27.0, 14.0, 12.0, 18.0, 10.0, 13.0, 15.0, 28.0, 7.0, 10.0, 10.0, 30.0, 27.0, 10.0, 19.0, 7.0, 13.0, 14.0, 18.0, 28.0, 25.0, 18.0, 25.0, 17.0, 23.0, 24.0, 11.0, 26.0, 19.0, 17.0, 15.0, 11.0, 18.0, 8.0, 21.0, 27.0, 25.0, 20.0, 17.0, 22.0, 8.0, 6.0, 27.0, 14.0, 22.0]\n"
     ]
    }
   ],
   "source": [
    "import random\n",
    "\n",
    "random.seed(123)\n",
    "\n",
    "m1_data = []\n",
    "\n",
    "for _ in range(100):\n",
    "    recovery_time = random.uniform(5.0, 20.0)\n",
    "    m1_data.append(np.round(recovery_time))\n",
    "    \n",
    "print(m1_data)\n",
    "    \n",
    "m2_data = []\n",
    "\n",
    "for _ in range(90):\n",
    "    recovery_time = random.uniform(5.0, 30.0)\n",
    "    m2_data.append(np.round(recovery_time))\n",
    "    \n",
    "print(m2_data)"
   ]
  },
  {
   "cell_type": "code",
   "execution_count": 24,
   "id": "941132d8",
   "metadata": {},
   "outputs": [],
   "source": [
    "from statsmodels.stats import weightstats as stests"
   ]
  },
  {
   "cell_type": "code",
   "execution_count": 25,
   "id": "ae36a961",
   "metadata": {},
   "outputs": [],
   "source": [
    "z_score, p_val = stests.ztest(\n",
    "    x1 = m1_data,\n",
    "    x2 = m2_data,\n",
    "    value = 0,\n",
    "    alternative = \"two-sided\"\n",
    ")"
   ]
  },
  {
   "cell_type": "code",
   "execution_count": 26,
   "id": "7a9de3b0",
   "metadata": {},
   "outputs": [
    {
     "data": {
      "text/plain": [
       "-7.68917478890992"
      ]
     },
     "execution_count": 26,
     "metadata": {},
     "output_type": "execute_result"
    }
   ],
   "source": [
    "z_score"
   ]
  },
  {
   "cell_type": "code",
   "execution_count": 27,
   "id": "e440c66c",
   "metadata": {},
   "outputs": [
    {
     "data": {
      "text/plain": [
       "1.4808703984296164e-14"
      ]
     },
     "execution_count": 27,
     "metadata": {},
     "output_type": "execute_result"
    }
   ],
   "source": [
    "p_val"
   ]
  },
  {
   "cell_type": "code",
   "execution_count": 28,
   "id": "6bfc6bda",
   "metadata": {},
   "outputs": [],
   "source": [
    "# Since p_val is much less than alpha (0.01)\n",
    "# We reject the null hypothesis -> Two medicines have different recovery times"
   ]
  },
  {
   "cell_type": "code",
   "execution_count": 29,
   "id": "1f139ed2",
   "metadata": {},
   "outputs": [
    {
     "data": {
      "text/plain": [
       "'\\nExample 2 ->\\n\\nCar manufacturer comparing efficiencies of two engine models X and Y.\\n\\nH0: Both have the same efficiency.\\nHa: Both have different efficiencies.\\n\\nX ->\\n    n = 50\\n    mean = 30\\n    std_dev = 3\\n    \\nY ->\\n    n = 60\\n    mean = 32\\n    std_dev = 2.5\\n    \\nSignificance Level = 0.05\\n'"
      ]
     },
     "execution_count": 29,
     "metadata": {},
     "output_type": "execute_result"
    }
   ],
   "source": [
    "'''\n",
    "Example 2 ->\n",
    "\n",
    "Car manufacturer comparing efficiencies of two engine models X and Y.\n",
    "\n",
    "H0: Both have the same efficiency.\n",
    "Ha: Both have different efficiencies.\n",
    "\n",
    "X ->\n",
    "    n = 50\n",
    "    mean = 30\n",
    "    std_dev = 3\n",
    "    \n",
    "Y ->\n",
    "    n = 60\n",
    "    mean = 32\n",
    "    std_dev = 2.5\n",
    "    \n",
    "Significance Level = 0.05\n",
    "'''"
   ]
  },
  {
   "cell_type": "code",
   "execution_count": 36,
   "id": "9d1e4ea6",
   "metadata": {},
   "outputs": [],
   "source": [
    "def two_sample_z_test(sample_mean_1, sample_mean_2, sample_sd_1, sample_sd_2, n1, n2):\n",
    "    denominator = np.sqrt((sample_sd_1 ** 2 / n1) + (sample_sd_2 ** 2 / n2))\n",
    "    z_score = (sample_mean_1 - sample_mean_2) / denominator\n",
    "    \n",
    "    return z_score"
   ]
  },
  {
   "cell_type": "code",
   "execution_count": 37,
   "id": "40fcd29e",
   "metadata": {},
   "outputs": [],
   "source": [
    "sample_mean_X = 30\n",
    "sample_mean_y = 32\n",
    "sample_sd_X = 3\n",
    "sample_sd_Y = 2.5\n",
    "sample_size_X = 50\n",
    "sample_size_Y = 60"
   ]
  },
  {
   "cell_type": "code",
   "execution_count": 38,
   "id": "e03e51df",
   "metadata": {},
   "outputs": [],
   "source": [
    "z_score = two_sample_z_test(\n",
    "    sample_mean_X,\n",
    "    sample_mean_y,\n",
    "    sample_sd_X,\n",
    "    sample_sd_Y,\n",
    "    sample_size_X,\n",
    "    sample_size_Y\n",
    ")"
   ]
  },
  {
   "cell_type": "code",
   "execution_count": 39,
   "id": "919c2830",
   "metadata": {},
   "outputs": [
    {
     "data": {
      "text/plain": [
       "-3.751832396884334"
      ]
     },
     "execution_count": 39,
     "metadata": {},
     "output_type": "execute_result"
    }
   ],
   "source": [
    "z_score"
   ]
  },
  {
   "cell_type": "code",
   "execution_count": 40,
   "id": "db8801bf",
   "metadata": {},
   "outputs": [],
   "source": [
    "p_val = 2 * (1 - stats.norm.cdf(abs(z_score)))"
   ]
  },
  {
   "cell_type": "code",
   "execution_count": 41,
   "id": "0841747a",
   "metadata": {},
   "outputs": [
    {
     "data": {
      "text/plain": [
       "0.00017554681014564366"
      ]
     },
     "execution_count": 41,
     "metadata": {},
     "output_type": "execute_result"
    }
   ],
   "source": [
    "p_val"
   ]
  },
  {
   "cell_type": "code",
   "execution_count": 42,
   "id": "b3145cde",
   "metadata": {},
   "outputs": [],
   "source": [
    "# p_val is less than the alpha which means that I can reject the null hypothesis"
   ]
  },
  {
   "cell_type": "markdown",
   "id": "f17b17ab",
   "metadata": {},
   "source": [
    "### Conditions for Two Sample Z Test\n",
    "\n",
    "- Populations must have finite and known means and std dev\n",
    "- While sampling, size of sample >= 30\n",
    "- Works only on continuous data\n",
    "- Normal distribution in data\n",
    "- n1 and n2 need not be the same"
   ]
  },
  {
   "cell_type": "code",
   "execution_count": 43,
   "id": "f1551c29",
   "metadata": {},
   "outputs": [],
   "source": [
    "# Quiz 1\n",
    "\n",
    "heights_a = [14, 16, 13, 17, 12, 18]\n",
    "heights_b = [18, 19, 16, 17, 15, 20]\n",
    "\n",
    "alpha = 0.1\n",
    "\n",
    "z_stat, p_val = stests.ztest(\n",
    "    heights_a,\n",
    "    heights_b,\n",
    "    value = 0,\n",
    "    alternative = \"two-sided\"\n",
    ")"
   ]
  },
  {
   "cell_type": "code",
   "execution_count": 44,
   "id": "4d84b034",
   "metadata": {},
   "outputs": [
    {
     "data": {
      "text/plain": [
       "-2.029994857352875"
      ]
     },
     "execution_count": 44,
     "metadata": {},
     "output_type": "execute_result"
    }
   ],
   "source": [
    "z_stat"
   ]
  },
  {
   "cell_type": "code",
   "execution_count": 45,
   "id": "56ed3fbe",
   "metadata": {},
   "outputs": [
    {
     "data": {
      "text/plain": [
       "0.042357062026854894"
      ]
     },
     "execution_count": 45,
     "metadata": {},
     "output_type": "execute_result"
    }
   ],
   "source": [
    "p_val"
   ]
  },
  {
   "cell_type": "code",
   "execution_count": 46,
   "id": "bdd0dd06",
   "metadata": {},
   "outputs": [],
   "source": [
    "# p_val < alpha -> NULL HYPOTHESIS REJECTED!"
   ]
  },
  {
   "cell_type": "markdown",
   "id": "04c108bf",
   "metadata": {},
   "source": [
    "# Z Proportions Test"
   ]
  },
  {
   "cell_type": "code",
   "execution_count": 47,
   "id": "4aace8fb",
   "metadata": {},
   "outputs": [
    {
     "data": {
      "text/plain": [
       "'\\nProduct Manager at XYZ gauging customer satisfaction with new product.\\n\\nH0: Proportion of satisfied customers is equal to 70%. \\nHa: Proportion of satisfied customers is not equal to specified value of 70%.\\n'"
      ]
     },
     "execution_count": 47,
     "metadata": {},
     "output_type": "execute_result"
    }
   ],
   "source": [
    "'''\n",
    "Product Manager at XYZ gauging customer satisfaction with new product.\n",
    "\n",
    "H0: Proportion of satisfied customers is equal to 70%. \n",
    "Ha: Proportion of satisfied customers is not equal to specified value of 70%.\n",
    "'''"
   ]
  },
  {
   "cell_type": "code",
   "execution_count": 48,
   "id": "fd51c911",
   "metadata": {},
   "outputs": [
    {
     "data": {
      "text/plain": [
       "'\\nQuiz 2 ->\\n\\nA fast-food restaurant claims that 80% of their customers prefer their new burger over the old one.\\nIn a random sample of 100 customers, 85 said they preferred the new burger.\\nWhat is the null and alternative hypothesis?\\n'"
      ]
     },
     "execution_count": 48,
     "metadata": {},
     "output_type": "execute_result"
    }
   ],
   "source": [
    "'''\n",
    "Quiz 2 ->\n",
    "\n",
    "A fast-food restaurant claims that 80% of their customers prefer their new burger over the old one.\n",
    "In a random sample of 100 customers, 85 said they preferred the new burger.\n",
    "What is the null and alternative hypothesis?\n",
    "'''"
   ]
  },
  {
   "cell_type": "code",
   "execution_count": 49,
   "id": "08b5dbd1",
   "metadata": {},
   "outputs": [
    {
     "data": {
      "text/plain": [
       "'\\nExample ->\\n\\nProduct Manager at XYZ gauging customer satisfaction with new product.\\n\\nH0: Proportion of satisfied customers is equal to 70%. \\nHa: Proportion of satisfied customers is not equal to specified value of 70%.\\n\\nSampling was done on 150 people and 115 expressed satisfaction.\\n'"
      ]
     },
     "execution_count": 49,
     "metadata": {},
     "output_type": "execute_result"
    }
   ],
   "source": [
    "'''\n",
    "Example ->\n",
    "\n",
    "Product Manager at XYZ gauging customer satisfaction with new product.\n",
    "\n",
    "H0: Proportion of satisfied customers is equal to 70%. \n",
    "Ha: Proportion of satisfied customers is not equal to specified value of 70%.\n",
    "\n",
    "Sampling was done on 150 people and 115 expressed satisfaction.\n",
    "'''"
   ]
  },
  {
   "cell_type": "code",
   "execution_count": 51,
   "id": "abbe4f2a",
   "metadata": {},
   "outputs": [],
   "source": [
    "satisfied_customers = 115\n",
    "total_customers = 150\n",
    "\n",
    "target_satisfaction = 0.7\n",
    "\n",
    "population_proportion = target_satisfaction\n",
    "p = population_proportion\n",
    "\n",
    "sample_proportion = satisfied_customers / total_customers\n",
    "p_hat = sample_proportion\n",
    "\n",
    "n = total_customers\n",
    "\n",
    "Z = (p_hat - p) / np.sqrt((p * (1 - p)) / n)\n",
    "\n",
    "p_val = 2 * (1 - stats.norm.cdf(np.abs(Z)))"
   ]
  },
  {
   "cell_type": "code",
   "execution_count": 53,
   "id": "9e5c3e87",
   "metadata": {},
   "outputs": [
    {
     "data": {
      "text/plain": [
       "0.07479137758694376"
      ]
     },
     "execution_count": 53,
     "metadata": {},
     "output_type": "execute_result"
    }
   ],
   "source": [
    "p_val"
   ]
  },
  {
   "cell_type": "code",
   "execution_count": 54,
   "id": "f2e3680d",
   "metadata": {},
   "outputs": [],
   "source": [
    "# Assuming alpha to be 0.05."
   ]
  },
  {
   "cell_type": "code",
   "execution_count": null,
   "id": "17343548",
   "metadata": {},
   "outputs": [],
   "source": []
  }
 ],
 "metadata": {
  "kernelspec": {
   "display_name": "Python 3 (ipykernel)",
   "language": "python",
   "name": "python3"
  },
  "language_info": {
   "codemirror_mode": {
    "name": "ipython",
    "version": 3
   },
   "file_extension": ".py",
   "mimetype": "text/x-python",
   "name": "python",
   "nbconvert_exporter": "python",
   "pygments_lexer": "ipython3",
   "version": "3.9.5"
  }
 },
 "nbformat": 4,
 "nbformat_minor": 5
}
