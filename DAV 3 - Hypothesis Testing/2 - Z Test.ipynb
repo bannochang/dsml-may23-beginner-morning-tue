{
 "cells": [
  {
   "cell_type": "code",
   "execution_count": 2,
   "id": "3996c57c",
   "metadata": {},
   "outputs": [
    {
     "data": {
      "text/plain": [
       "0.171875"
      ]
     },
     "execution_count": 2,
     "metadata": {},
     "output_type": "execute_result"
    }
   ],
   "source": [
    "# Scenario 1 -> 7+ Heads out of 10 Iterations\n",
    "# H0 -> Coin is fair.\n",
    "# Ha -> Coin is biased towards heads. -> Ha: P(Heads) > 0.5\n",
    "# P(No. of Heads = 7 | 8 | 9 | 10)\n",
    "\n",
    "from scipy.stats import binom\n",
    "\n",
    "1 - binom.cdf(k = 6, n = 10, p = 0.5)"
   ]
  },
  {
   "cell_type": "code",
   "execution_count": 3,
   "id": "6d086d54",
   "metadata": {},
   "outputs": [
    {
     "data": {
      "text/plain": [
       "0.17187499999999994"
      ]
     },
     "execution_count": 3,
     "metadata": {},
     "output_type": "execute_result"
    }
   ],
   "source": [
    "binom.pmf(k = 7, n = 10, p = 0.5) + binom.pmf(k = 8, n = 10, p = 0.5) + binom.pmf(k = 9, n = 10, p = 0.5) + binom.pmf(k = 10, n = 10, p = 0.5)"
   ]
  },
  {
   "cell_type": "code",
   "execution_count": 4,
   "id": "3bc2134c",
   "metadata": {},
   "outputs": [],
   "source": [
    "# p - value is greater than 0.05 ie. Significance Level\n",
    "# Therefore, Null Hypothesis can't be rejected"
   ]
  },
  {
   "cell_type": "code",
   "execution_count": 5,
   "id": "57fefa51",
   "metadata": {},
   "outputs": [
    {
     "data": {
      "text/plain": [
       "3.925069822796612e-05"
      ]
     },
     "execution_count": 5,
     "metadata": {},
     "output_type": "execute_result"
    }
   ],
   "source": [
    "# Scenario 2 -> 70+ Heads out of 100 Iterations\n",
    "# H0 -> Coin is fair.\n",
    "# Ha -> Coin is biased towards heads. -> Ha: P(Heads) > 0.5\n",
    "# P(No. of Heads >= 70)\n",
    "\n",
    "1 - binom.cdf(k = 69, n = 100, p = 0.5)"
   ]
  },
  {
   "cell_type": "code",
   "execution_count": 6,
   "id": "42117100",
   "metadata": {},
   "outputs": [],
   "source": [
    "# p - value is much smaller than 0.05\n",
    "# Therefore, We can reject the Null Hypothesis"
   ]
  },
  {
   "cell_type": "markdown",
   "id": "5090bdbd",
   "metadata": {},
   "source": [
    "# Hypothesis Testing Framework\n",
    "\n",
    "- Setup a Null and Alternate Hypothesis\n",
    "- Choose the distribution (Gaussian, Binomial...)\n",
    "- Select the left / right / two-tailed test as per the hypothesis\n",
    "- Compute the p - value\n",
    "- Compare p - value to significance level"
   ]
  },
  {
   "cell_type": "markdown",
   "id": "77a49c6d",
   "metadata": {},
   "source": [
    "# Marketing Case Study\n",
    "\n",
    "- Retail Chain with `2000` stores in India\n",
    "- Shampoo Sales in consideration\n",
    "    - Mean -> `1800`\n",
    "    - Standard Deviation -> `100`\n",
    "- Marketing team to be hired.\n",
    "    - Not cheap\n",
    "    - Can't give all stores to a team\n",
    "    - Need Trial run first\n",
    "    \n",
    "Experiment with 2 marketing firms - \n",
    "- Firm A - \n",
    "    - Worked on `50` stores\n",
    "    - Average `1850` bottles sold\n",
    "- Firm B - \n",
    "    - Worked on `5` stores\n",
    "    - Average `1900` bottles sold"
   ]
  },
  {
   "cell_type": "code",
   "execution_count": 7,
   "id": "042d7c12",
   "metadata": {},
   "outputs": [],
   "source": [
    "# Let's set the Significance Level to 0.01\n",
    "# Confidence Level = 99%!"
   ]
  },
  {
   "cell_type": "code",
   "execution_count": 9,
   "id": "2fbb27a6",
   "metadata": {},
   "outputs": [],
   "source": [
    "mu = 1800\n",
    "std_dev = 100"
   ]
  },
  {
   "cell_type": "code",
   "execution_count": 8,
   "id": "1783727d",
   "metadata": {},
   "outputs": [
    {
     "data": {
      "text/plain": [
       "'\\nFirm A ->\\n\\nH0: Marketing firm has no effect on sales. mu = 1800.\\nHa: Marketing firm has a positive effect on sales. mu > 1800.\\n'"
      ]
     },
     "execution_count": 8,
     "metadata": {},
     "output_type": "execute_result"
    }
   ],
   "source": [
    "'''\n",
    "Firm A ->\n",
    "\n",
    "H0: Marketing firm has no effect on sales. mu = 1800.\n",
    "Ha: Marketing firm has a positive effect on sales. mu > 1800.\n",
    "'''"
   ]
  },
  {
   "cell_type": "code",
   "execution_count": 10,
   "id": "c18c3b54",
   "metadata": {},
   "outputs": [],
   "source": [
    "# 50 stores -> CLT possible -> Sampling 1000 times -> Gaussian\n",
    "\n",
    "mu_a = 1800\n",
    "std_dev_a = 100 / (50 ** 0.5)"
   ]
  },
  {
   "cell_type": "code",
   "execution_count": 11,
   "id": "2bb89db9",
   "metadata": {},
   "outputs": [],
   "source": [
    "# Right tailed test as sales > 1800\n",
    "\n",
    "observed_mu_a = 1850\n",
    "\n",
    "# P(m > 1850 | H0 is True)"
   ]
  },
  {
   "cell_type": "code",
   "execution_count": 14,
   "id": "cdd318ba",
   "metadata": {},
   "outputs": [],
   "source": [
    "z_a = (1850 - mu_a) / std_dev_a "
   ]
  },
  {
   "cell_type": "code",
   "execution_count": 16,
   "id": "6fededc8",
   "metadata": {},
   "outputs": [
    {
     "data": {
      "text/plain": [
       "3.5355339059327378"
      ]
     },
     "execution_count": 16,
     "metadata": {},
     "output_type": "execute_result"
    }
   ],
   "source": [
    "z_a # Z - STATISTIC or TEST STATISTIC"
   ]
  },
  {
   "cell_type": "code",
   "execution_count": 17,
   "id": "13739137",
   "metadata": {},
   "outputs": [],
   "source": [
    "import numpy as np\n",
    "from scipy.stats import norm"
   ]
  },
  {
   "cell_type": "code",
   "execution_count": 18,
   "id": "469bfa8b",
   "metadata": {},
   "outputs": [
    {
     "name": "stdout",
     "output_type": "stream",
     "text": [
      "P - Value for Firm A - 0.00020347600872250293\n"
     ]
    }
   ],
   "source": [
    "p_a = 1 - norm.cdf(z_a)\n",
    "\n",
    "print(f\"P - Value for Firm A - {p_a}\")"
   ]
  },
  {
   "cell_type": "code",
   "execution_count": 19,
   "id": "50b1bfd9",
   "metadata": {},
   "outputs": [],
   "source": [
    "# Since p value is much lesser than the significance level\n",
    "# We can reject the Null Hypothesis!"
   ]
  },
  {
   "cell_type": "code",
   "execution_count": 20,
   "id": "a2d13b7e",
   "metadata": {},
   "outputs": [
    {
     "data": {
      "text/plain": [
       "'\\nFirm B ->\\n\\nH0: Marketing firm has no effect on sales. mu = 1800.\\nHa: Marketing firm has a positive effect on sales. mu > 1800.\\n'"
      ]
     },
     "execution_count": 20,
     "metadata": {},
     "output_type": "execute_result"
    }
   ],
   "source": [
    "'''\n",
    "Firm B ->\n",
    "\n",
    "H0: Marketing firm has no effect on sales. mu = 1800.\n",
    "Ha: Marketing firm has a positive effect on sales. mu > 1800.\n",
    "'''"
   ]
  },
  {
   "cell_type": "code",
   "execution_count": 24,
   "id": "574bf12e",
   "metadata": {},
   "outputs": [],
   "source": [
    "# 5 stores -> Approximation that it follows Gaussian Distribution\n",
    "\n",
    "mu_b = 1800\n",
    "std_dev_b = 100 / (5 ** 0.5)"
   ]
  },
  {
   "cell_type": "code",
   "execution_count": 22,
   "id": "08d46ce3",
   "metadata": {},
   "outputs": [],
   "source": [
    "# Right tailed test as sales > 1800\n",
    "\n",
    "observed_mu_b = 1900\n",
    "\n",
    "# P(m > 1900 | H0 is True)"
   ]
  },
  {
   "cell_type": "code",
   "execution_count": 25,
   "id": "9c485dd5",
   "metadata": {},
   "outputs": [],
   "source": [
    "z_b = (1900 - mu_b) / std_dev_b"
   ]
  },
  {
   "cell_type": "code",
   "execution_count": 26,
   "id": "b4b4412a",
   "metadata": {},
   "outputs": [
    {
     "data": {
      "text/plain": [
       "2.23606797749979"
      ]
     },
     "execution_count": 26,
     "metadata": {},
     "output_type": "execute_result"
    }
   ],
   "source": [
    "z_b"
   ]
  },
  {
   "cell_type": "code",
   "execution_count": 27,
   "id": "c5fb91e3",
   "metadata": {},
   "outputs": [],
   "source": [
    "p_b = 1 - norm.cdf(z_b)"
   ]
  },
  {
   "cell_type": "code",
   "execution_count": 28,
   "id": "8c58e2ca",
   "metadata": {},
   "outputs": [
    {
     "name": "stdout",
     "output_type": "stream",
     "text": [
      "P - Value for Firm B - 0.0126736593387341\n"
     ]
    }
   ],
   "source": [
    "print(f\"P - Value for Firm B - {p_b}\")"
   ]
  },
  {
   "cell_type": "code",
   "execution_count": 29,
   "id": "4adb6fea",
   "metadata": {},
   "outputs": [],
   "source": [
    "# P value is bigger than the significance level.\n",
    "# Null Hypothesis is accepted."
   ]
  },
  {
   "cell_type": "code",
   "execution_count": 31,
   "id": "f1ba546a",
   "metadata": {},
   "outputs": [
    {
     "data": {
      "text/plain": [
       "\"\\nQuiz 4 - \\n\\nA fitness App claims that its users walk an average of 8,000 steps per day.\\nA random sample of 30 users showed an average of 7,600 steps per day with a standard deviation of 1,200 steps.\\nConduct a right-tailed Z-test at a 5% significance level to determine if the App's claim is supported.\\nWhat is the p-value?\\n\""
      ]
     },
     "execution_count": 31,
     "metadata": {},
     "output_type": "execute_result"
    }
   ],
   "source": [
    "'''\n",
    "Quiz 4 - \n",
    "\n",
    "A fitness App claims that its users walk an average of 8,000 steps per day.\n",
    "A random sample of 30 users showed an average of 7,600 steps per day with a standard deviation of 1,200 steps.\n",
    "Conduct a right-tailed Z-test at a 5% significance level to determine if the App's claim is supported.\n",
    "What is the p-value?\n",
    "'''"
   ]
  },
  {
   "cell_type": "code",
   "execution_count": 32,
   "id": "c2634357",
   "metadata": {},
   "outputs": [],
   "source": [
    "population_mean = 8000\n",
    "population_std_dev = 1200\n",
    "sample_size = 30\n",
    "sample_mean = 7600\n",
    "alpha = 0.05 # significance level"
   ]
  },
  {
   "cell_type": "code",
   "execution_count": 33,
   "id": "07b15dfe",
   "metadata": {},
   "outputs": [],
   "source": [
    "z_score = (sample_mean - population_mean) / (population_std_dev / (sample_size ** 0.5))"
   ]
  },
  {
   "cell_type": "code",
   "execution_count": 34,
   "id": "31009fc4",
   "metadata": {},
   "outputs": [
    {
     "data": {
      "text/plain": [
       "-1.8257418583505536"
      ]
     },
     "execution_count": 34,
     "metadata": {},
     "output_type": "execute_result"
    }
   ],
   "source": [
    "z_score"
   ]
  },
  {
   "cell_type": "code",
   "execution_count": 35,
   "id": "ce623f76",
   "metadata": {},
   "outputs": [],
   "source": [
    "p_value = 1 - norm.cdf(z_score)"
   ]
  },
  {
   "cell_type": "code",
   "execution_count": 36,
   "id": "c1551173",
   "metadata": {},
   "outputs": [
    {
     "data": {
      "text/plain": [
       "0.9660554225690855"
      ]
     },
     "execution_count": 36,
     "metadata": {},
     "output_type": "execute_result"
    }
   ],
   "source": [
    "p_value"
   ]
  },
  {
   "cell_type": "markdown",
   "id": "1ac9c494",
   "metadata": {},
   "source": [
    "## Marketing Case Study Continued\n",
    "\n",
    "- What should be the minimmum weekly average sales for Firm A / B to convince us that their marketing efforts had a positive effect with confidence level of 99%."
   ]
  },
  {
   "cell_type": "code",
   "execution_count": 37,
   "id": "4e60cb17",
   "metadata": {},
   "outputs": [],
   "source": [
    "mu = 1800\n",
    "std_dev = 100"
   ]
  },
  {
   "cell_type": "code",
   "execution_count": 38,
   "id": "7250f1f2",
   "metadata": {},
   "outputs": [],
   "source": [
    "# Firm A\n",
    "\n",
    "mu_a = 1800\n",
    "std_dev_a = 100 / (50 ** 0.5)"
   ]
  },
  {
   "cell_type": "code",
   "execution_count": 39,
   "id": "f9e553cf",
   "metadata": {},
   "outputs": [],
   "source": [
    "# z = x - mu_a / std_dev_a"
   ]
  },
  {
   "cell_type": "code",
   "execution_count": 40,
   "id": "1118e5d6",
   "metadata": {},
   "outputs": [],
   "source": [
    "# At the Critical Points, p - value is equal to the significance level"
   ]
  },
  {
   "cell_type": "code",
   "execution_count": 47,
   "id": "b5ee87b4",
   "metadata": {},
   "outputs": [],
   "source": [
    "p_a = 0.01\n",
    "z_critical = norm.ppf(0.99)"
   ]
  },
  {
   "cell_type": "code",
   "execution_count": 48,
   "id": "2a2d090d",
   "metadata": {},
   "outputs": [
    {
     "data": {
      "text/plain": [
       "2.3263478740408408"
      ]
     },
     "execution_count": 48,
     "metadata": {},
     "output_type": "execute_result"
    }
   ],
   "source": [
    "z_critical"
   ]
  },
  {
   "cell_type": "code",
   "execution_count": 43,
   "id": "278ced10",
   "metadata": {},
   "outputs": [],
   "source": [
    "# Another function to calculate z in such a case using significance level"
   ]
  },
  {
   "cell_type": "code",
   "execution_count": 45,
   "id": "f77552c1",
   "metadata": {},
   "outputs": [
    {
     "data": {
      "text/plain": [
       "2.3263478740408408"
      ]
     },
     "execution_count": 45,
     "metadata": {},
     "output_type": "execute_result"
    }
   ],
   "source": [
    "norm.isf(q = 0.01)"
   ]
  },
  {
   "cell_type": "code",
   "execution_count": 49,
   "id": "40f0cc83",
   "metadata": {},
   "outputs": [],
   "source": [
    "x = z_critical * std_dev_a + mu_a"
   ]
  },
  {
   "cell_type": "code",
   "execution_count": 50,
   "id": "0e2ac0f2",
   "metadata": {},
   "outputs": [
    {
     "data": {
      "text/plain": [
       "1832.8995271426638"
      ]
     },
     "execution_count": 50,
     "metadata": {},
     "output_type": "execute_result"
    }
   ],
   "source": [
    "x"
   ]
  },
  {
   "cell_type": "code",
   "execution_count": 51,
   "id": "b943ff37",
   "metadata": {},
   "outputs": [],
   "source": [
    "# Firm B\n",
    "\n",
    "mu_b = 1800\n",
    "std_dev_b = 100 / (5 ** 0.5) "
   ]
  },
  {
   "cell_type": "code",
   "execution_count": 52,
   "id": "a7d16f14",
   "metadata": {},
   "outputs": [],
   "source": [
    "# Since p - value is same i.e. 0.01\n",
    "# z - value will also come out as same"
   ]
  },
  {
   "cell_type": "code",
   "execution_count": 53,
   "id": "cf0c49ba",
   "metadata": {},
   "outputs": [],
   "source": [
    "z_b = norm.ppf(0.99)"
   ]
  },
  {
   "cell_type": "code",
   "execution_count": 54,
   "id": "f97ad7c5",
   "metadata": {},
   "outputs": [
    {
     "data": {
      "text/plain": [
       "2.3263478740408408"
      ]
     },
     "execution_count": 54,
     "metadata": {},
     "output_type": "execute_result"
    }
   ],
   "source": [
    "z_b"
   ]
  },
  {
   "cell_type": "code",
   "execution_count": 55,
   "id": "40304a32",
   "metadata": {},
   "outputs": [],
   "source": [
    "x = z_b * std_dev_b + mu_b"
   ]
  },
  {
   "cell_type": "code",
   "execution_count": 56,
   "id": "ea47a56a",
   "metadata": {},
   "outputs": [
    {
     "data": {
      "text/plain": [
       "1904.0374397133487"
      ]
     },
     "execution_count": 56,
     "metadata": {},
     "output_type": "execute_result"
    }
   ],
   "source": [
    "x"
   ]
  },
  {
   "cell_type": "code",
   "execution_count": 57,
   "id": "71788783",
   "metadata": {},
   "outputs": [
    {
     "data": {
      "text/plain": [
       "'\\nQuiz 5 - \\n\\nIn a dataset of exam scores with a mean of 60 and a standard deviation of 15,\\nWhat is the critical value for the corresponding Z-score at a 95% confidence level?\\n'"
      ]
     },
     "execution_count": 57,
     "metadata": {},
     "output_type": "execute_result"
    }
   ],
   "source": [
    "'''\n",
    "Quiz 5 - \n",
    "\n",
    "In a dataset of exam scores with a mean of 60 and a standard deviation of 15,\n",
    "What is the critical value for the corresponding Z-score at a 95% confidence level?\n",
    "'''"
   ]
  },
  {
   "cell_type": "code",
   "execution_count": 58,
   "id": "06787931",
   "metadata": {},
   "outputs": [],
   "source": [
    "x = norm.ppf(0.95) * 15 + 60"
   ]
  },
  {
   "cell_type": "code",
   "execution_count": 59,
   "id": "a1e8e5fb",
   "metadata": {},
   "outputs": [
    {
     "data": {
      "text/plain": [
       "84.67280440427209"
      ]
     },
     "execution_count": 59,
     "metadata": {},
     "output_type": "execute_result"
    }
   ],
   "source": [
    "x"
   ]
  },
  {
   "cell_type": "code",
   "execution_count": 60,
   "id": "6efe4b26",
   "metadata": {},
   "outputs": [],
   "source": [
    "# Confidence Interval -> point estimate +- margin of error"
   ]
  },
  {
   "cell_type": "code",
   "execution_count": 62,
   "id": "c948ca7a",
   "metadata": {},
   "outputs": [],
   "source": [
    "# CI = Sample Mean +- (Z * (SD / sqrt(Sample Size)))"
   ]
  },
  {
   "cell_type": "code",
   "execution_count": 63,
   "id": "833d860c",
   "metadata": {},
   "outputs": [
    {
     "data": {
      "text/plain": [
       "(1817.1, 1882.9)"
      ]
     },
     "execution_count": 63,
     "metadata": {},
     "output_type": "execute_result"
    }
   ],
   "source": [
    "# Firm A\n",
    "(1817.1, 1882.9)"
   ]
  },
  {
   "cell_type": "code",
   "execution_count": 64,
   "id": "6dc3141c",
   "metadata": {},
   "outputs": [
    {
     "data": {
      "text/plain": [
       "(1795.9, 200.4)"
      ]
     },
     "execution_count": 64,
     "metadata": {},
     "output_type": "execute_result"
    }
   ],
   "source": [
    "# Firm B\n",
    "(1795.9, 2004)"
   ]
  },
  {
   "cell_type": "code",
   "execution_count": 68,
   "id": "06542e8d",
   "metadata": {},
   "outputs": [],
   "source": [
    "margin_of_error_b = norm.ppf(0.99) * (100 / (5 ** 0.5))"
   ]
  },
  {
   "cell_type": "code",
   "execution_count": 69,
   "id": "fc8c7398",
   "metadata": {},
   "outputs": [
    {
     "data": {
      "text/plain": [
       "(1795.9625602866513, 2004.0374397133487)"
      ]
     },
     "execution_count": 69,
     "metadata": {},
     "output_type": "execute_result"
    }
   ],
   "source": [
    "(1900 - margin_of_error_b, 1900 + margin_of_error_b)"
   ]
  },
  {
   "cell_type": "code",
   "execution_count": 70,
   "id": "718deaf5",
   "metadata": {},
   "outputs": [],
   "source": [
    "margin_of_error_a = norm.ppf(0.99) * (100 / (50 ** 0.5))"
   ]
  },
  {
   "cell_type": "code",
   "execution_count": 72,
   "id": "2d20f51f",
   "metadata": {},
   "outputs": [
    {
     "data": {
      "text/plain": [
       "(1817.1004728573362, 1882.8995271426638)"
      ]
     },
     "execution_count": 72,
     "metadata": {},
     "output_type": "execute_result"
    }
   ],
   "source": [
    "(1850 - margin_of_error_a, 1850 + margin_of_error_a)"
   ]
  },
  {
   "cell_type": "code",
   "execution_count": 73,
   "id": "01ddeee5",
   "metadata": {},
   "outputs": [
    {
     "data": {
      "text/plain": [
       "(1813.572272645631, 1886.427727354369)"
      ]
     },
     "execution_count": 73,
     "metadata": {},
     "output_type": "execute_result"
    }
   ],
   "source": [
    "norm.interval(0.99, loc = 1850, scale = 100 / (50 ** 0.5))"
   ]
  },
  {
   "cell_type": "code",
   "execution_count": null,
   "id": "8c252698",
   "metadata": {},
   "outputs": [],
   "source": []
  }
 ],
 "metadata": {
  "kernelspec": {
   "display_name": "Python 3 (ipykernel)",
   "language": "python",
   "name": "python3"
  },
  "language_info": {
   "codemirror_mode": {
    "name": "ipython",
    "version": 3
   },
   "file_extension": ".py",
   "mimetype": "text/x-python",
   "name": "python",
   "nbconvert_exporter": "python",
   "pygments_lexer": "ipython3",
   "version": "3.9.5"
  }
 },
 "nbformat": 4,
 "nbformat_minor": 5
}
