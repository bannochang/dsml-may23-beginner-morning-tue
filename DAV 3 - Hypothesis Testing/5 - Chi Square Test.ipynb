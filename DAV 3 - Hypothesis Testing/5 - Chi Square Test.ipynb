{
 "cells": [
  {
   "cell_type": "markdown",
   "id": "10b509b2",
   "metadata": {},
   "source": [
    "# Degrees of Freedom"
   ]
  },
  {
   "cell_type": "code",
   "execution_count": 1,
   "id": "eabc218c",
   "metadata": {},
   "outputs": [
    {
     "data": {
      "text/plain": [
       "'\\nSetup 1 - \\n\\nSalaries for 3 people.\\ns1 = 36\\ns2 = 35\\naverage = 35\\n\\nWhat is s3? -> 34 (Answer)\\n'"
      ]
     },
     "execution_count": 1,
     "metadata": {},
     "output_type": "execute_result"
    }
   ],
   "source": [
    "'''\n",
    "Setup 1 - \n",
    "\n",
    "Salaries for 3 people.\n",
    "s1 = 36\n",
    "s2 = 35\n",
    "average = 35\n",
    "\n",
    "What is s3? -> 34 (Answer)\n",
    "'''"
   ]
  },
  {
   "cell_type": "code",
   "execution_count": 2,
   "id": "4ae9fea8",
   "metadata": {},
   "outputs": [
    {
     "data": {
      "text/plain": [
       "'\\nSetup 2 - \\n\\nSalaries for 4 people.\\ns1 = 35\\ns2 = 30\\ns3 = 36\\naverage = 37\\n\\nWhat is s4? -> 47 (Answer)\\n'"
      ]
     },
     "execution_count": 2,
     "metadata": {},
     "output_type": "execute_result"
    }
   ],
   "source": [
    "'''\n",
    "Setup 2 - \n",
    "\n",
    "Salaries for 4 people.\n",
    "s1 = 35\n",
    "s2 = 30\n",
    "s3 = 36\n",
    "average = 37\n",
    "\n",
    "What is s4? -> 47 (Answer)\n",
    "'''"
   ]
  },
  {
   "cell_type": "code",
   "execution_count": 3,
   "id": "1c5b7ed5",
   "metadata": {},
   "outputs": [
    {
     "data": {
      "text/plain": [
       "'\\nDegrees of Freedom ->\\n\\nn elements in the data and the average is known.\\nn - 1 elements can be freely chosen while the last element can be predetermined using the average.\\n\\n\"n - 1 -> Degrees of Freedom\"\\n'"
      ]
     },
     "execution_count": 3,
     "metadata": {},
     "output_type": "execute_result"
    }
   ],
   "source": [
    "'''\n",
    "Degrees of Freedom ->\n",
    "\n",
    "n elements in the data and the average is known.\n",
    "n - 1 elements can be freely chosen while the last element can be predetermined using the average.\n",
    "\n",
    "\"n - 1 -> Degrees of Freedom\"\n",
    "'''"
   ]
  },
  {
   "cell_type": "markdown",
   "id": "c43daa83",
   "metadata": {},
   "source": [
    "# Chi Square Test for Fit"
   ]
  },
  {
   "cell_type": "code",
   "execution_count": 14,
   "id": "72ba31e0",
   "metadata": {},
   "outputs": [],
   "source": [
    "import numpy as np\n",
    "import pandas as pd\n",
    "import seaborn as sns\n",
    "import matplotlib.pyplot as plt\n",
    "\n",
    "from scipy.stats import chisquare\n",
    "from scipy.stats import chi2_contingency"
   ]
  },
  {
   "cell_type": "code",
   "execution_count": 5,
   "id": "78a0b7cf",
   "metadata": {},
   "outputs": [],
   "source": [
    "chi_stat, p_val = chisquare(\n",
    "    [28, 22], # observed values\n",
    "    [25, 25] # expected values\n",
    ")"
   ]
  },
  {
   "cell_type": "code",
   "execution_count": 6,
   "id": "7ff6b3e2",
   "metadata": {},
   "outputs": [
    {
     "data": {
      "text/plain": [
       "0.72"
      ]
     },
     "execution_count": 6,
     "metadata": {},
     "output_type": "execute_result"
    }
   ],
   "source": [
    "chi_stat"
   ]
  },
  {
   "cell_type": "code",
   "execution_count": 7,
   "id": "ddc53eb4",
   "metadata": {},
   "outputs": [
    {
     "data": {
      "text/plain": [
       "0.3961439091520741"
      ]
     },
     "execution_count": 7,
     "metadata": {},
     "output_type": "execute_result"
    }
   ],
   "source": [
    "p_val"
   ]
  },
  {
   "cell_type": "code",
   "execution_count": 8,
   "id": "8f9630f9",
   "metadata": {},
   "outputs": [
    {
     "name": "stdout",
     "output_type": "stream",
     "text": [
      "Accept H0. Coin is fair.\n"
     ]
    }
   ],
   "source": [
    "alpha = 0.05\n",
    "\n",
    "if p_val < alpha: # or chi_stat > chi_stat at the given DOF and alpha\n",
    "    print(\"Reject H0. Coin is biased.\")\n",
    "else:\n",
    "    print(\"Accept H0. Coin is fair.\")"
   ]
  },
  {
   "cell_type": "code",
   "execution_count": 9,
   "id": "b4791a4b",
   "metadata": {},
   "outputs": [],
   "source": [
    "chi_stat, p_val = chisquare(\n",
    "    [45, 5], # observed values\n",
    "    [25, 25] # expected values\n",
    ")"
   ]
  },
  {
   "cell_type": "code",
   "execution_count": 10,
   "id": "dd0e279f",
   "metadata": {},
   "outputs": [
    {
     "data": {
      "text/plain": [
       "32.0"
      ]
     },
     "execution_count": 10,
     "metadata": {},
     "output_type": "execute_result"
    }
   ],
   "source": [
    "chi_stat"
   ]
  },
  {
   "cell_type": "code",
   "execution_count": 11,
   "id": "50e22ab8",
   "metadata": {},
   "outputs": [
    {
     "data": {
      "text/plain": [
       "1.5417257900280013e-08"
      ]
     },
     "execution_count": 11,
     "metadata": {},
     "output_type": "execute_result"
    }
   ],
   "source": [
    "p_val"
   ]
  },
  {
   "cell_type": "code",
   "execution_count": 12,
   "id": "01e790e1",
   "metadata": {},
   "outputs": [
    {
     "name": "stdout",
     "output_type": "stream",
     "text": [
      "Reject H0. Coin is biased.\n"
     ]
    }
   ],
   "source": [
    "alpha = 0.05\n",
    "\n",
    "if p_val < alpha: # or chi_stat > chi_stat at the given DOF and alpha\n",
    "    print(\"Reject H0. Coin is biased.\")\n",
    "else:\n",
    "    print(\"Accept H0. Coin is fair.\")"
   ]
  },
  {
   "cell_type": "markdown",
   "id": "88ab5ea5",
   "metadata": {},
   "source": [
    "# Chi Square Test for Independence"
   ]
  },
  {
   "cell_type": "code",
   "execution_count": 17,
   "id": "1ae531f3",
   "metadata": {},
   "outputs": [],
   "source": [
    "# H0 -> Gender and Sales Medium are independent\n",
    "# Ha -> Gender and Sales are dependent"
   ]
  },
  {
   "cell_type": "code",
   "execution_count": 15,
   "id": "ec2f3dc1",
   "metadata": {},
   "outputs": [],
   "source": [
    "observed = [\n",
    "    [527, 72],\n",
    "    [206, 102]\n",
    "]\n",
    "\n",
    "chi_stat, p_val, df, exp_freq = chi2_contingency(observed)"
   ]
  },
  {
   "cell_type": "code",
   "execution_count": 16,
   "id": "ccc1c32f",
   "metadata": {},
   "outputs": [
    {
     "name": "stdout",
     "output_type": "stream",
     "text": [
      "Chi Stat - 57.04098674049609\n",
      "P Value - 4.268230756875865e-14\n"
     ]
    }
   ],
   "source": [
    "print(f\"Chi Stat - {chi_stat}\")\n",
    "print(f\"P Value - {p_val}\")"
   ]
  },
  {
   "cell_type": "code",
   "execution_count": 18,
   "id": "6617faf7",
   "metadata": {},
   "outputs": [
    {
     "data": {
      "text/plain": [
       "1"
      ]
     },
     "execution_count": 18,
     "metadata": {},
     "output_type": "execute_result"
    }
   ],
   "source": [
    "df"
   ]
  },
  {
   "cell_type": "code",
   "execution_count": 19,
   "id": "2a95f70d",
   "metadata": {},
   "outputs": [
    {
     "data": {
      "text/plain": [
       "array([[484.08710033, 114.91289967],\n",
       "       [248.91289967,  59.08710033]])"
      ]
     },
     "execution_count": 19,
     "metadata": {},
     "output_type": "execute_result"
    }
   ],
   "source": [
    "exp_freq"
   ]
  },
  {
   "cell_type": "code",
   "execution_count": null,
   "id": "b8f643b9",
   "metadata": {},
   "outputs": [],
   "source": []
  }
 ],
 "metadata": {
  "kernelspec": {
   "display_name": "Python 3 (ipykernel)",
   "language": "python",
   "name": "python3"
  },
  "language_info": {
   "codemirror_mode": {
    "name": "ipython",
    "version": 3
   },
   "file_extension": ".py",
   "mimetype": "text/x-python",
   "name": "python",
   "nbconvert_exporter": "python",
   "pygments_lexer": "ipython3",
   "version": "3.9.5"
  }
 },
 "nbformat": 4,
 "nbformat_minor": 5
}
