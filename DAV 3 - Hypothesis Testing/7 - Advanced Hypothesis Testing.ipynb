{
  "nbformat": 4,
  "nbformat_minor": 0,
  "metadata": {
    "colab": {
      "provenance": []
    },
    "kernelspec": {
      "name": "python3",
      "display_name": "Python 3"
    },
    "language_info": {
      "name": "python"
    }
  },
  "cells": [
    {
      "cell_type": "code",
      "source": [
        "'''\n",
        "Agenda -\n",
        "\n",
        "  - Two Way Anova\n",
        "  - KS Test\n",
        "  - A/B Testing\n",
        "  - Parametric v/s Non Parametric Tests\n",
        "'''"
      ],
      "metadata": {
        "id": "rR-UkAhBHxzj"
      },
      "execution_count": null,
      "outputs": []
    },
    {
      "cell_type": "code",
      "execution_count": null,
      "metadata": {
        "id": "6X9s96j0F3UM"
      },
      "outputs": [],
      "source": [
        "import numpy as np\n",
        "import pandas as pd"
      ]
    },
    {
      "cell_type": "markdown",
      "source": [
        "# 2 WAY ANOVA"
      ],
      "metadata": {
        "id": "rHM7YzoiRPIf"
      }
    },
    {
      "cell_type": "code",
      "source": [
        "'''\n",
        "Data Scientist at a beverage company.\n",
        "Company wants to analyse the influence of two different independent factors on the \"Sales\" of the drink.\n",
        "  - Location (North, South, East, West)\n",
        "  - Flavour (Lemon, Cola, Orange)\n",
        "\n",
        "2 independent variables -> Location and Flavour\n",
        "1 dependent variable -> Sales\n",
        "\n",
        "Main Effects - Effect of each independent variable on sales individually.\n",
        "Interaction Effects - Effect of the correlation between flavour and location and then on sales.\n",
        "'''"
      ],
      "metadata": {
        "colab": {
          "base_uri": "https://localhost:8080/",
          "height": 87
        },
        "id": "5pzHMibbHCcA",
        "outputId": "b69b24d3-739f-48da-8a81-f76daa500b4d"
      },
      "execution_count": null,
      "outputs": [
        {
          "output_type": "execute_result",
          "data": {
            "text/plain": [
              "'\\nData Scientist at a beverage company. \\nCompany wants to analyse the influence of two different independent factors on the \"Sales\" of the drink.\\n  - Location (North, South, East, West)\\n  - Flavour (Lemon, Cola, Orange)\\n\\n2 independent variables -> Location and Flavour\\n1 dependent variable -> Sales\\n\\nMain Effects - Effect of each independent variable on sales individually.\\nInteraction Effects - Effect of the correlation between flavour and location and then on sales.\\n'"
            ],
            "application/vnd.google.colaboratory.intrinsic+json": {
              "type": "string"
            }
          },
          "metadata": {},
          "execution_count": 2
        }
      ]
    },
    {
      "cell_type": "code",
      "source": [
        "import statsmodels.api as sm\n",
        "from statsmodels.formula.api import ols"
      ],
      "metadata": {
        "id": "IA6WkUr9JghK"
      },
      "execution_count": null,
      "outputs": []
    },
    {
      "cell_type": "code",
      "source": [
        "!gdown 1Vy0OPYInhYxuZzSn415DsguHWVH7ROe0"
      ],
      "metadata": {
        "colab": {
          "base_uri": "https://localhost:8080/"
        },
        "id": "PPTelJ-QKOjS",
        "outputId": "f31dd6ec-bfa9-4eea-a32c-697fef5d072b"
      },
      "execution_count": null,
      "outputs": [
        {
          "output_type": "stream",
          "name": "stdout",
          "text": [
            "Downloading...\n",
            "From: https://drive.google.com/uc?id=1Vy0OPYInhYxuZzSn415DsguHWVH7ROe0\n",
            "To: /content/two_way_anova.csv\n",
            "\r  0% 0.00/1.54k [00:00<?, ?B/s]\r100% 1.54k/1.54k [00:00<00:00, 5.49MB/s]\n"
          ]
        }
      ]
    },
    {
      "cell_type": "code",
      "source": [
        "df = pd.read_csv(\"/content/two_way_anova.csv\")"
      ],
      "metadata": {
        "id": "OuI0ivJ7KWzE"
      },
      "execution_count": null,
      "outputs": []
    },
    {
      "cell_type": "code",
      "source": [
        "df.head()"
      ],
      "metadata": {
        "colab": {
          "base_uri": "https://localhost:8080/",
          "height": 206
        },
        "id": "FW4z8C1FKcgs",
        "outputId": "763da7b4-76f0-4698-99c5-2f973b8e697c"
      },
      "execution_count": null,
      "outputs": [
        {
          "output_type": "execute_result",
          "data": {
            "text/plain": [
              "  Flavour Location  Sales\n",
              "0  Orange     West    141\n",
              "1   Lemon     West    178\n",
              "2  Orange     West    170\n",
              "3  Orange     East     76\n",
              "4   Lemon     East    170"
            ],
            "text/html": [
              "\n",
              "  <div id=\"df-81f07ca9-2d89-434f-aa67-5bdf327a262b\" class=\"colab-df-container\">\n",
              "    <div>\n",
              "<style scoped>\n",
              "    .dataframe tbody tr th:only-of-type {\n",
              "        vertical-align: middle;\n",
              "    }\n",
              "\n",
              "    .dataframe tbody tr th {\n",
              "        vertical-align: top;\n",
              "    }\n",
              "\n",
              "    .dataframe thead th {\n",
              "        text-align: right;\n",
              "    }\n",
              "</style>\n",
              "<table border=\"1\" class=\"dataframe\">\n",
              "  <thead>\n",
              "    <tr style=\"text-align: right;\">\n",
              "      <th></th>\n",
              "      <th>Flavour</th>\n",
              "      <th>Location</th>\n",
              "      <th>Sales</th>\n",
              "    </tr>\n",
              "  </thead>\n",
              "  <tbody>\n",
              "    <tr>\n",
              "      <th>0</th>\n",
              "      <td>Orange</td>\n",
              "      <td>West</td>\n",
              "      <td>141</td>\n",
              "    </tr>\n",
              "    <tr>\n",
              "      <th>1</th>\n",
              "      <td>Lemon</td>\n",
              "      <td>West</td>\n",
              "      <td>178</td>\n",
              "    </tr>\n",
              "    <tr>\n",
              "      <th>2</th>\n",
              "      <td>Orange</td>\n",
              "      <td>West</td>\n",
              "      <td>170</td>\n",
              "    </tr>\n",
              "    <tr>\n",
              "      <th>3</th>\n",
              "      <td>Orange</td>\n",
              "      <td>East</td>\n",
              "      <td>76</td>\n",
              "    </tr>\n",
              "    <tr>\n",
              "      <th>4</th>\n",
              "      <td>Lemon</td>\n",
              "      <td>East</td>\n",
              "      <td>170</td>\n",
              "    </tr>\n",
              "  </tbody>\n",
              "</table>\n",
              "</div>\n",
              "    <div class=\"colab-df-buttons\">\n",
              "\n",
              "  <div class=\"colab-df-container\">\n",
              "    <button class=\"colab-df-convert\" onclick=\"convertToInteractive('df-81f07ca9-2d89-434f-aa67-5bdf327a262b')\"\n",
              "            title=\"Convert this dataframe to an interactive table.\"\n",
              "            style=\"display:none;\">\n",
              "\n",
              "  <svg xmlns=\"http://www.w3.org/2000/svg\" height=\"24px\" viewBox=\"0 -960 960 960\">\n",
              "    <path d=\"M120-120v-720h720v720H120Zm60-500h600v-160H180v160Zm220 220h160v-160H400v160Zm0 220h160v-160H400v160ZM180-400h160v-160H180v160Zm440 0h160v-160H620v160ZM180-180h160v-160H180v160Zm440 0h160v-160H620v160Z\"/>\n",
              "  </svg>\n",
              "    </button>\n",
              "\n",
              "  <style>\n",
              "    .colab-df-container {\n",
              "      display:flex;\n",
              "      gap: 12px;\n",
              "    }\n",
              "\n",
              "    .colab-df-convert {\n",
              "      background-color: #E8F0FE;\n",
              "      border: none;\n",
              "      border-radius: 50%;\n",
              "      cursor: pointer;\n",
              "      display: none;\n",
              "      fill: #1967D2;\n",
              "      height: 32px;\n",
              "      padding: 0 0 0 0;\n",
              "      width: 32px;\n",
              "    }\n",
              "\n",
              "    .colab-df-convert:hover {\n",
              "      background-color: #E2EBFA;\n",
              "      box-shadow: 0px 1px 2px rgba(60, 64, 67, 0.3), 0px 1px 3px 1px rgba(60, 64, 67, 0.15);\n",
              "      fill: #174EA6;\n",
              "    }\n",
              "\n",
              "    .colab-df-buttons div {\n",
              "      margin-bottom: 4px;\n",
              "    }\n",
              "\n",
              "    [theme=dark] .colab-df-convert {\n",
              "      background-color: #3B4455;\n",
              "      fill: #D2E3FC;\n",
              "    }\n",
              "\n",
              "    [theme=dark] .colab-df-convert:hover {\n",
              "      background-color: #434B5C;\n",
              "      box-shadow: 0px 1px 3px 1px rgba(0, 0, 0, 0.15);\n",
              "      filter: drop-shadow(0px 1px 2px rgba(0, 0, 0, 0.3));\n",
              "      fill: #FFFFFF;\n",
              "    }\n",
              "  </style>\n",
              "\n",
              "    <script>\n",
              "      const buttonEl =\n",
              "        document.querySelector('#df-81f07ca9-2d89-434f-aa67-5bdf327a262b button.colab-df-convert');\n",
              "      buttonEl.style.display =\n",
              "        google.colab.kernel.accessAllowed ? 'block' : 'none';\n",
              "\n",
              "      async function convertToInteractive(key) {\n",
              "        const element = document.querySelector('#df-81f07ca9-2d89-434f-aa67-5bdf327a262b');\n",
              "        const dataTable =\n",
              "          await google.colab.kernel.invokeFunction('convertToInteractive',\n",
              "                                                    [key], {});\n",
              "        if (!dataTable) return;\n",
              "\n",
              "        const docLinkHtml = 'Like what you see? Visit the ' +\n",
              "          '<a target=\"_blank\" href=https://colab.research.google.com/notebooks/data_table.ipynb>data table notebook</a>'\n",
              "          + ' to learn more about interactive tables.';\n",
              "        element.innerHTML = '';\n",
              "        dataTable['output_type'] = 'display_data';\n",
              "        await google.colab.output.renderOutput(dataTable, element);\n",
              "        const docLink = document.createElement('div');\n",
              "        docLink.innerHTML = docLinkHtml;\n",
              "        element.appendChild(docLink);\n",
              "      }\n",
              "    </script>\n",
              "  </div>\n",
              "\n",
              "\n",
              "<div id=\"df-15599b2f-b9f0-475e-8f99-d3696d846b93\">\n",
              "  <button class=\"colab-df-quickchart\" onclick=\"quickchart('df-15599b2f-b9f0-475e-8f99-d3696d846b93')\"\n",
              "            title=\"Suggest charts\"\n",
              "            style=\"display:none;\">\n",
              "\n",
              "<svg xmlns=\"http://www.w3.org/2000/svg\" height=\"24px\"viewBox=\"0 0 24 24\"\n",
              "     width=\"24px\">\n",
              "    <g>\n",
              "        <path d=\"M19 3H5c-1.1 0-2 .9-2 2v14c0 1.1.9 2 2 2h14c1.1 0 2-.9 2-2V5c0-1.1-.9-2-2-2zM9 17H7v-7h2v7zm4 0h-2V7h2v10zm4 0h-2v-4h2v4z\"/>\n",
              "    </g>\n",
              "</svg>\n",
              "  </button>\n",
              "\n",
              "<style>\n",
              "  .colab-df-quickchart {\n",
              "      --bg-color: #E8F0FE;\n",
              "      --fill-color: #1967D2;\n",
              "      --hover-bg-color: #E2EBFA;\n",
              "      --hover-fill-color: #174EA6;\n",
              "      --disabled-fill-color: #AAA;\n",
              "      --disabled-bg-color: #DDD;\n",
              "  }\n",
              "\n",
              "  [theme=dark] .colab-df-quickchart {\n",
              "      --bg-color: #3B4455;\n",
              "      --fill-color: #D2E3FC;\n",
              "      --hover-bg-color: #434B5C;\n",
              "      --hover-fill-color: #FFFFFF;\n",
              "      --disabled-bg-color: #3B4455;\n",
              "      --disabled-fill-color: #666;\n",
              "  }\n",
              "\n",
              "  .colab-df-quickchart {\n",
              "    background-color: var(--bg-color);\n",
              "    border: none;\n",
              "    border-radius: 50%;\n",
              "    cursor: pointer;\n",
              "    display: none;\n",
              "    fill: var(--fill-color);\n",
              "    height: 32px;\n",
              "    padding: 0;\n",
              "    width: 32px;\n",
              "  }\n",
              "\n",
              "  .colab-df-quickchart:hover {\n",
              "    background-color: var(--hover-bg-color);\n",
              "    box-shadow: 0 1px 2px rgba(60, 64, 67, 0.3), 0 1px 3px 1px rgba(60, 64, 67, 0.15);\n",
              "    fill: var(--button-hover-fill-color);\n",
              "  }\n",
              "\n",
              "  .colab-df-quickchart-complete:disabled,\n",
              "  .colab-df-quickchart-complete:disabled:hover {\n",
              "    background-color: var(--disabled-bg-color);\n",
              "    fill: var(--disabled-fill-color);\n",
              "    box-shadow: none;\n",
              "  }\n",
              "\n",
              "  .colab-df-spinner {\n",
              "    border: 2px solid var(--fill-color);\n",
              "    border-color: transparent;\n",
              "    border-bottom-color: var(--fill-color);\n",
              "    animation:\n",
              "      spin 1s steps(1) infinite;\n",
              "  }\n",
              "\n",
              "  @keyframes spin {\n",
              "    0% {\n",
              "      border-color: transparent;\n",
              "      border-bottom-color: var(--fill-color);\n",
              "      border-left-color: var(--fill-color);\n",
              "    }\n",
              "    20% {\n",
              "      border-color: transparent;\n",
              "      border-left-color: var(--fill-color);\n",
              "      border-top-color: var(--fill-color);\n",
              "    }\n",
              "    30% {\n",
              "      border-color: transparent;\n",
              "      border-left-color: var(--fill-color);\n",
              "      border-top-color: var(--fill-color);\n",
              "      border-right-color: var(--fill-color);\n",
              "    }\n",
              "    40% {\n",
              "      border-color: transparent;\n",
              "      border-right-color: var(--fill-color);\n",
              "      border-top-color: var(--fill-color);\n",
              "    }\n",
              "    60% {\n",
              "      border-color: transparent;\n",
              "      border-right-color: var(--fill-color);\n",
              "    }\n",
              "    80% {\n",
              "      border-color: transparent;\n",
              "      border-right-color: var(--fill-color);\n",
              "      border-bottom-color: var(--fill-color);\n",
              "    }\n",
              "    90% {\n",
              "      border-color: transparent;\n",
              "      border-bottom-color: var(--fill-color);\n",
              "    }\n",
              "  }\n",
              "</style>\n",
              "\n",
              "  <script>\n",
              "    async function quickchart(key) {\n",
              "      const quickchartButtonEl =\n",
              "        document.querySelector('#' + key + ' button');\n",
              "      quickchartButtonEl.disabled = true;  // To prevent multiple clicks.\n",
              "      quickchartButtonEl.classList.add('colab-df-spinner');\n",
              "      try {\n",
              "        const charts = await google.colab.kernel.invokeFunction(\n",
              "            'suggestCharts', [key], {});\n",
              "      } catch (error) {\n",
              "        console.error('Error during call to suggestCharts:', error);\n",
              "      }\n",
              "      quickchartButtonEl.classList.remove('colab-df-spinner');\n",
              "      quickchartButtonEl.classList.add('colab-df-quickchart-complete');\n",
              "    }\n",
              "    (() => {\n",
              "      let quickchartButtonEl =\n",
              "        document.querySelector('#df-15599b2f-b9f0-475e-8f99-d3696d846b93 button');\n",
              "      quickchartButtonEl.style.display =\n",
              "        google.colab.kernel.accessAllowed ? 'block' : 'none';\n",
              "    })();\n",
              "  </script>\n",
              "</div>\n",
              "\n",
              "    </div>\n",
              "  </div>\n"
            ]
          },
          "metadata": {},
          "execution_count": 6
        }
      ]
    },
    {
      "cell_type": "code",
      "source": [
        "df[\"Flavour\"].unique()"
      ],
      "metadata": {
        "colab": {
          "base_uri": "https://localhost:8080/"
        },
        "id": "k5RF8BLqKeNJ",
        "outputId": "7f7e81f1-e932-409c-ca18-d5ede0eed901"
      },
      "execution_count": null,
      "outputs": [
        {
          "output_type": "execute_result",
          "data": {
            "text/plain": [
              "array(['Orange', 'Lemon', 'Cola'], dtype=object)"
            ]
          },
          "metadata": {},
          "execution_count": 9
        }
      ]
    },
    {
      "cell_type": "code",
      "source": [
        "df[\"Location\"].unique()"
      ],
      "metadata": {
        "colab": {
          "base_uri": "https://localhost:8080/"
        },
        "id": "-pjEqmHhKm01",
        "outputId": "0e1e066f-d12a-4251-dafc-faf540f420f4"
      },
      "execution_count": null,
      "outputs": [
        {
          "output_type": "execute_result",
          "data": {
            "text/plain": [
              "array(['West', 'East', 'North', 'South'], dtype=object)"
            ]
          },
          "metadata": {},
          "execution_count": 10
        }
      ]
    },
    {
      "cell_type": "markdown",
      "source": [
        "### STEP 1\n",
        "\n",
        "1. Main Effects\n",
        "  1. H0\n",
        "    - Flavour - No significant difference in sales between 3 flavours.\n",
        "    - Location - No significant difference in sales between 4 locations.\n",
        "  2. Ha\n",
        "    - Flavour - There is a significant difference in sales in atleast 2 flavours.\n",
        "    - Location - There is a significant difference in sales in atleast 2 locations.\n",
        "\n",
        "2. Alternate Effects\n",
        "  1. H0 - There is no interaction effect between the choice of flavour and location on sales.\n",
        "  2. Ha - There is significant interaction effect between the choice of flavour and location on sales."
      ],
      "metadata": {
        "id": "dCSEZsELK_Fd"
      }
    },
    {
      "cell_type": "markdown",
      "source": [
        "### STEP 2\n",
        "\n",
        "Distribution -> **GAUSSIAN**"
      ],
      "metadata": {
        "id": "7viLIZaLMWyV"
      }
    },
    {
      "cell_type": "code",
      "source": [
        "# STEP 3 -> Perform 2 Way ANOVA\n",
        "\n",
        "# Use ols() to fit a model on the dataframe -> linear model\n",
        "# ols(\"dependent_variable ~ independent_variable_1 * independent_variable_2\", data = df).fit()\n",
        "test = ols(\"Sales ~ Flavour * Location\", data = df).fit()\n",
        "\n",
        "# Creation of ANOVA table\n",
        "# type = 2 helps perform 2 Way Anova\n",
        "anova_table = sm.stats.anova_lm(test, typ = 2)"
      ],
      "metadata": {
        "id": "IG5RVDC-KumZ"
      },
      "execution_count": null,
      "outputs": []
    },
    {
      "cell_type": "code",
      "source": [
        "print(anova_table)"
      ],
      "metadata": {
        "colab": {
          "base_uri": "https://localhost:8080/"
        },
        "id": "lXOmgzXmO1Xc",
        "outputId": "54fd309b-a7e8-42f6-ec10-e7f7b553600c"
      },
      "execution_count": null,
      "outputs": [
        {
          "output_type": "stream",
          "name": "stdout",
          "text": [
            "                         sum_sq    df         F    PR(>F)\n",
            "Flavour             6919.558981   2.0  1.968465  0.145773\n",
            "Location            2059.273884   3.0  0.390546  0.760092\n",
            "Flavour:Location   11802.257765   6.0  1.119163  0.357804\n",
            "Residual          154669.016331  88.0       NaN       NaN\n"
          ]
        }
      ]
    },
    {
      "cell_type": "code",
      "source": [
        "# df -> degrees of freedom\n",
        "# F -> F Ratio\n",
        "# PR(>F) -> P Value"
      ],
      "metadata": {
        "id": "MCCLR6AMO3Le"
      },
      "execution_count": null,
      "outputs": []
    },
    {
      "cell_type": "markdown",
      "source": [
        "# KS TEST"
      ],
      "metadata": {
        "id": "9CVfSqGoRMvm"
      }
    },
    {
      "cell_type": "code",
      "source": [
        "'''\n",
        "Data Scientist in a pharma company.\n",
        "Need to evaluate the effectiveness of two different medicines M1 and M2. Comparison.\n",
        "\n",
        "In case of a Z Test -\n",
        "  1. Population needs to be normally distributed\n",
        "  2. We need info about population mean, std dev etc.\n",
        "\n",
        "KS Test -\n",
        "  1. Distribution Free -> Only compares similarity between the two given samples\n",
        "  2. Compares the overall distribution and not just the means.\n",
        "\n",
        "KS Statistic -> Signifies the similarity between two distributions. Will be close to zero in case they are similar.\n",
        "'''"
      ],
      "metadata": {
        "colab": {
          "base_uri": "https://localhost:8080/",
          "height": 87
        },
        "id": "poJIyLyqRL2B",
        "outputId": "d8808854-6d8e-4d2a-8763-89e06cbe80c5"
      },
      "execution_count": null,
      "outputs": [
        {
          "output_type": "execute_result",
          "data": {
            "text/plain": [
              "'\\nData Scientist in a pharma company.\\nNeed to evaluate the effectiveness of two different medicines M1 and M2. Comparison.\\n\\nIn case of a Z Test - \\n  1. Population needs to be normally distributed\\n  2. We need info about population mean, std dev etc.\\n\\nKS Test -\\n  1. Distribution Free -> Only compares similarity between the two given samples\\n  2. Compares the overall distribution and not just the means.\\n\\nKS Statistic -> Signifies the similarity between two distributions. Will be close to zero in case they are similar.\\n'"
            ],
            "application/vnd.google.colaboratory.intrinsic+json": {
              "type": "string"
            }
          },
          "metadata": {},
          "execution_count": 25
        }
      ]
    },
    {
      "cell_type": "code",
      "source": [
        "# H0: Both distributions are the same\n",
        "# Ha: Distribution of M1 is significantly different from that of M2"
      ],
      "metadata": {
        "id": "97esY62CPCIO"
      },
      "execution_count": null,
      "outputs": []
    },
    {
      "cell_type": "code",
      "source": [
        "from scipy import stats\n",
        "import matplotlib.pyplot as plt"
      ],
      "metadata": {
        "id": "_3HfmDwuVThP"
      },
      "execution_count": null,
      "outputs": []
    },
    {
      "cell_type": "code",
      "source": [
        "r1 = [8.82420842, 7.47774471, 7.55712098, 7.98131439, 6.82771606,\n",
        "       7.48566433, 9.15385732, 5.84040502, 8.26124313, 8.4728876 ,\n",
        "       6.82582186, 7.00490974, 8.43423058, 6.72099932, 6.97495982,\n",
        "       5.93748053, 5.40707847, 6.16385557, 6.71421056, 4.42396183,\n",
        "       6.87285228, 8.00313581, 6.69035041, 7.83622942, 8.70984957,\n",
        "       5.56284584, 9.08093437, 4.98165193, 7.67769408, 6.04738478,\n",
        "       7.64921582, 7.31051639, 6.74463303, 7.27356973, 8.16787232,\n",
        "       6.90990965, 7.06439167, 6.62921957, 6.08283539, 6.2458137 ,\n",
        "       8.65173634, 5.76080646, 6.20573219, 8.91561004, 6.22560201,\n",
        "       5.67542104, 6.97412435, 8.31354697, 8.14172701, 8.26099345,\n",
        "       7.87612791, 6.24835109, 9.95324783, 6.59504627, 6.17365145,\n",
        "       6.05676895, 7.23030223, 7.71311809, 7.37163804, 5.69798738,\n",
        "       5.71056902, 7.94556876, 7.47234105, 6.85346234, 4.77892053,\n",
        "       6.92631063, 6.10681151, 7.06277198, 7.18023164, 7.78285327,\n",
        "       7.85500885, 6.54349161, 8.25949958, 6.44289198, 7.16705977,\n",
        "       6.03517015, 7.61274786, 7.032845  , 6.78161745, 7.07917968,\n",
        "       6.21549342, 5.34267439, 6.73039933, 7.70562561, 8.15117049,\n",
        "       6.72564324, 6.68220904, 8.50359274, 7.52912703, 7.34572493,\n",
        "       5.95734283, 6.58259396, 6.49394335, 8.68069592, 8.60547125,\n",
        "       6.8905056 , 7.72575925, 6.84801609, 7.96999724, 7.10420915]"
      ],
      "metadata": {
        "id": "tliBOhyUVlmB"
      },
      "execution_count": null,
      "outputs": []
    },
    {
      "cell_type": "code",
      "source": [
        "r2 = [ 9.56597358,  7.49291458,  8.73841824,  7.63523452,  4.12559277,\n",
        "        7.3679259 ,  9.87873565,  6.14516559,  8.19923821,  7.30169992,\n",
        "       10.24606417,  6.83814477,  7.01611267,  6.15716049,  8.29590714,\n",
        "       12.3333305 ,  8.22144016,  6.06830071,  3.75820649,  6.69220157,\n",
        "       10.08721618,  9.70580422,  7.31050006, 11.40145721,  5.64818498,\n",
        "        7.38914449,  8.43740074,  6.3451435 ,  7.05694361,  8.1997151 ,\n",
        "        9.03059061,  7.76904679,  6.92375578,  5.78318543,  8.99027781,\n",
        "        7.56186529,  5.27095372,  8.32896688, 11.52935757,  7.08119961,\n",
        "        9.48825066,  9.14072759,  7.30357663,  8.62183754, 10.40999814,\n",
        "        8.70096763,  7.04645384,  6.378799  , 10.5098363 ,  7.36078888,\n",
        "        7.33403615,  8.07396248,  6.18309499,  7.24668404,  9.03430611,\n",
        "        8.99016584,  6.78606416,  8.436418  ,  6.85877947, 10.10405772,\n",
        "        6.74943076,  7.57812376,  7.12920671,  9.38065269,  9.57139966,\n",
        "        6.4484012 ,  6.93877043,  9.22141667,  8.34815638,  7.73980671,\n",
        "        7.17840767,  9.27913457,  6.49963224,  9.92287292,  7.63978639,\n",
        "        9.53931977,  9.02602273,  6.79374185,  8.59715131,  8.37747338,\n",
        "        8.78161815,  6.78716383,  8.28473394,  8.20283798, 12.50518811,\n",
        "       10.19772574,  8.93758457,  8.9540311 ,  8.28927558,  6.28935098,\n",
        "        7.69447559,  9.66777701, 10.33898342,  8.71199578,  5.12781581,\n",
        "        9.70954569,  9.13685031,  7.28989718,  8.0868909 ,  7.42937556,\n",
        "        7.31356749,  9.92345816,  8.60211814,  9.33228465,  8.14132658,\n",
        "        6.17871495, 10.28358242,  7.31898597,  7.95085527,  6.20331719,\n",
        "        9.19119762,  6.98600628,  7.05314883, 10.57921482,  6.83637574,\n",
        "        7.86199283,  8.23350975,  5.87625665,  7.78945364,  8.83612492]"
      ],
      "metadata": {
        "id": "Z2QZLCVeVq7x"
      },
      "execution_count": null,
      "outputs": []
    },
    {
      "cell_type": "code",
      "source": [
        "data_m1 = np.array(r1)\n",
        "data_m2 = np.array(r2)"
      ],
      "metadata": {
        "id": "jDbixD8EVtst"
      },
      "execution_count": null,
      "outputs": []
    },
    {
      "cell_type": "code",
      "source": [
        "n1 = len(data_m1)\n",
        "n2 = len(data_m2)"
      ],
      "metadata": {
        "id": "WtLc9n9zV0v5"
      },
      "execution_count": null,
      "outputs": []
    },
    {
      "cell_type": "code",
      "source": [
        "n1, n2"
      ],
      "metadata": {
        "colab": {
          "base_uri": "https://localhost:8080/"
        },
        "id": "BwlmSuz7WKix",
        "outputId": "8f112fd3-8259-4eb2-bc89-9f76340ef994"
      },
      "execution_count": null,
      "outputs": [
        {
          "output_type": "execute_result",
          "data": {
            "text/plain": [
              "(100, 120)"
            ]
          },
          "metadata": {},
          "execution_count": 23
        }
      ]
    },
    {
      "cell_type": "code",
      "source": [
        "statistic, p_value = stats.kstest(data_m1, data_m2)\n",
        "print(f\"KS Statistic - {statistic} \\nP Value - {p_value}\")"
      ],
      "metadata": {
        "colab": {
          "base_uri": "https://localhost:8080/"
        },
        "id": "eseqFDehWNup",
        "outputId": "8cf97987-5dc0-4b26-c280-cf465cef9a85"
      },
      "execution_count": null,
      "outputs": [
        {
          "output_type": "stream",
          "name": "stdout",
          "text": [
            "KS Statistic - 0.3233333333333333 \n",
            "P Value - 1.516338798228849e-05\n"
          ]
        }
      ]
    },
    {
      "cell_type": "code",
      "source": [
        "plt.grid()\n",
        "\n",
        "a = plt.hist(data_m1, bins = 100, cumulative = True, label = \"CDF\", density = True, histtype = \"step\")\n",
        "b = plt.hist(data_m2, bins = 100, cumulative = True, label = \"CDF\", density = True, histtype = \"step\")\n",
        "\n",
        "plt.show()"
      ],
      "metadata": {
        "colab": {
          "base_uri": "https://localhost:8080/",
          "height": 430
        },
        "id": "HMsQSkx_Wbt3",
        "outputId": "806a126a-2e6c-4b0b-8f16-ffcbf33d03b3"
      },
      "execution_count": null,
      "outputs": [
        {
          "output_type": "display_data",
          "data": {
            "text/plain": [
              "<Figure size 640x480 with 1 Axes>"
            ],
            "image/png": "[encoded data removed]"
          },
          "metadata": {}
        }
      ]
    },
    {
      "cell_type": "markdown",
      "source": [
        "# A / B TESTING"
      ],
      "metadata": {
        "id": "A6uez-wbYFhI"
      }
    },
    {
      "cell_type": "code",
      "source": [
        "# H0: Mean watch time of users given 2 ads == Mean watch time of users given 1 ad\n",
        "# Ha: Mean watch time of users given 2 ads != Mean watch time of users given 1 ad"
      ],
      "metadata": {
        "id": "Vf33K4iXXL97"
      },
      "execution_count": null,
      "outputs": []
    },
    {
      "cell_type": "code",
      "source": [
        "import seaborn as sns"
      ],
      "metadata": {
        "id": "vw41Mc0dZpac"
      },
      "execution_count": null,
      "outputs": []
    },
    {
      "cell_type": "code",
      "source": [
        "!gdown 1CS513bBqabMfrUhVcqm_nhlgrQheMNZ1"
      ],
      "metadata": {
        "colab": {
          "base_uri": "https://localhost:8080/"
        },
        "id": "47EbJ0XAZuDf",
        "outputId": "f8328adf-fa90-4a38-e0df-17b300fbb45a"
      },
      "execution_count": null,
      "outputs": [
        {
          "output_type": "stream",
          "name": "stdout",
          "text": [
            "Downloading...\n",
            "From: https://drive.google.com/uc?id=1CS513bBqabMfrUhVcqm_nhlgrQheMNZ1\n",
            "To: /content/ab_test_data.csv\n",
            "\r  0% 0.00/884k [00:00<?, ?B/s]\r100% 884k/884k [00:00<00:00, 106MB/s]\n"
          ]
        }
      ]
    },
    {
      "cell_type": "code",
      "source": [
        "ab_test_data = pd.read_csv(\"/content/ab_test_data.csv\")"
      ],
      "metadata": {
        "id": "4abUmFBbZzFw"
      },
      "execution_count": null,
      "outputs": []
    },
    {
      "cell_type": "code",
      "source": [
        "ab_test_data.head()"
      ],
      "metadata": {
        "colab": {
          "base_uri": "https://localhost:8080/",
          "height": 206
        },
        "id": "e7EJh6pvZ6h4",
        "outputId": "5a01c462-d152-4459-f683-7e3416fe6eaa"
      },
      "execution_count": null,
      "outputs": [
        {
          "output_type": "execute_result",
          "data": {
            "text/plain": [
              "         date  customer_id  premium  watch_time_hrs customer_segmnt\n",
              "0  2018-09-11          402        0        7.173618         control\n",
              "1  2018-02-28          227        0        0.836170         control\n",
              "2  2018-10-18          812        1        4.402078       treatment\n",
              "3  2018-05-22           43        0        3.982454         control\n",
              "4  2018-07-18          307        0        7.513302         control"
            ],
            "text/html": [
              "\n",
              "  <div id=\"df-d8c64cd2-d936-4e50-a3aa-ea4f785bbecf\" class=\"colab-df-container\">\n",
              "    <div>\n",
              "<style scoped>\n",
              "    .dataframe tbody tr th:only-of-type {\n",
              "        vertical-align: middle;\n",
              "    }\n",
              "\n",
              "    .dataframe tbody tr th {\n",
              "        vertical-align: top;\n",
              "    }\n",
              "\n",
              "    .dataframe thead th {\n",
              "        text-align: right;\n",
              "    }\n",
              "</style>\n",
              "<table border=\"1\" class=\"dataframe\">\n",
              "  <thead>\n",
              "    <tr style=\"text-align: right;\">\n",
              "      <th></th>\n",
              "      <th>date</th>\n",
              "      <th>customer_id</th>\n",
              "      <th>premium</th>\n",
              "      <th>watch_time_hrs</th>\n",
              "      <th>customer_segmnt</th>\n",
              "    </tr>\n",
              "  </thead>\n",
              "  <tbody>\n",
              "    <tr>\n",
              "      <th>0</th>\n",
              "      <td>2018-09-11</td>\n",
              "      <td>402</td>\n",
              "      <td>0</td>\n",
              "      <td>7.173618</td>\n",
              "      <td>control</td>\n",
              "    </tr>\n",
              "    <tr>\n",
              "      <th>1</th>\n",
              "      <td>2018-02-28</td>\n",
              "      <td>227</td>\n",
              "      <td>0</td>\n",
              "      <td>0.836170</td>\n",
              "      <td>control</td>\n",
              "    </tr>\n",
              "    <tr>\n",
              "      <th>2</th>\n",
              "      <td>2018-10-18</td>\n",
              "      <td>812</td>\n",
              "      <td>1</td>\n",
              "      <td>4.402078</td>\n",
              "      <td>treatment</td>\n",
              "    </tr>\n",
              "    <tr>\n",
              "      <th>3</th>\n",
              "      <td>2018-05-22</td>\n",
              "      <td>43</td>\n",
              "      <td>0</td>\n",
              "      <td>3.982454</td>\n",
              "      <td>control</td>\n",
              "    </tr>\n",
              "    <tr>\n",
              "      <th>4</th>\n",
              "      <td>2018-07-18</td>\n",
              "      <td>307</td>\n",
              "      <td>0</td>\n",
              "      <td>7.513302</td>\n",
              "      <td>control</td>\n",
              "    </tr>\n",
              "  </tbody>\n",
              "</table>\n",
              "</div>\n",
              "    <div class=\"colab-df-buttons\">\n",
              "\n",
              "  <div class=\"colab-df-container\">\n",
              "    <button class=\"colab-df-convert\" onclick=\"convertToInteractive('df-d8c64cd2-d936-4e50-a3aa-ea4f785bbecf')\"\n",
              "            title=\"Convert this dataframe to an interactive table.\"\n",
              "            style=\"display:none;\">\n",
              "\n",
              "  <svg xmlns=\"http://www.w3.org/2000/svg\" height=\"24px\" viewBox=\"0 -960 960 960\">\n",
              "    <path d=\"M120-120v-720h720v720H120Zm60-500h600v-160H180v160Zm220 220h160v-160H400v160Zm0 220h160v-160H400v160ZM180-400h160v-160H180v160Zm440 0h160v-160H620v160ZM180-180h160v-160H180v160Zm440 0h160v-160H620v160Z\"/>\n",
              "  </svg>\n",
              "    </button>\n",
              "\n",
              "  <style>\n",
              "    .colab-df-container {\n",
              "      display:flex;\n",
              "      gap: 12px;\n",
              "    }\n",
              "\n",
              "    .colab-df-convert {\n",
              "      background-color: #E8F0FE;\n",
              "      border: none;\n",
              "      border-radius: 50%;\n",
              "      cursor: pointer;\n",
              "      display: none;\n",
              "      fill: #1967D2;\n",
              "      height: 32px;\n",
              "      padding: 0 0 0 0;\n",
              "      width: 32px;\n",
              "    }\n",
              "\n",
              "    .colab-df-convert:hover {\n",
              "      background-color: #E2EBFA;\n",
              "      box-shadow: 0px 1px 2px rgba(60, 64, 67, 0.3), 0px 1px 3px 1px rgba(60, 64, 67, 0.15);\n",
              "      fill: #174EA6;\n",
              "    }\n",
              "\n",
              "    .colab-df-buttons div {\n",
              "      margin-bottom: 4px;\n",
              "    }\n",
              "\n",
              "    [theme=dark] .colab-df-convert {\n",
              "      background-color: #3B4455;\n",
              "      fill: #D2E3FC;\n",
              "    }\n",
              "\n",
              "    [theme=dark] .colab-df-convert:hover {\n",
              "      background-color: #434B5C;\n",
              "      box-shadow: 0px 1px 3px 1px rgba(0, 0, 0, 0.15);\n",
              "      filter: drop-shadow(0px 1px 2px rgba(0, 0, 0, 0.3));\n",
              "      fill: #FFFFFF;\n",
              "    }\n",
              "  </style>\n",
              "\n",
              "    <script>\n",
              "      const buttonEl =\n",
              "        document.querySelector('#df-d8c64cd2-d936-4e50-a3aa-ea4f785bbecf button.colab-df-convert');\n",
              "      buttonEl.style.display =\n",
              "        google.colab.kernel.accessAllowed ? 'block' : 'none';\n",
              "\n",
              "      async function convertToInteractive(key) {\n",
              "        const element = document.querySelector('#df-d8c64cd2-d936-4e50-a3aa-ea4f785bbecf');\n",
              "        const dataTable =\n",
              "          await google.colab.kernel.invokeFunction('convertToInteractive',\n",
              "                                                    [key], {});\n",
              "        if (!dataTable) return;\n",
              "\n",
              "        const docLinkHtml = 'Like what you see? Visit the ' +\n",
              "          '<a target=\"_blank\" href=https://colab.research.google.com/notebooks/data_table.ipynb>data table notebook</a>'\n",
              "          + ' to learn more about interactive tables.';\n",
              "        element.innerHTML = '';\n",
              "        dataTable['output_type'] = 'display_data';\n",
              "        await google.colab.output.renderOutput(dataTable, element);\n",
              "        const docLink = document.createElement('div');\n",
              "        docLink.innerHTML = docLinkHtml;\n",
              "        element.appendChild(docLink);\n",
              "      }\n",
              "    </script>\n",
              "  </div>\n",
              "\n",
              "\n",
              "<div id=\"df-70e6c956-8ca4-4d82-bae3-509e9d76cd89\">\n",
              "  <button class=\"colab-df-quickchart\" onclick=\"quickchart('df-70e6c956-8ca4-4d82-bae3-509e9d76cd89')\"\n",
              "            title=\"Suggest charts\"\n",
              "            style=\"display:none;\">\n",
              "\n",
              "<svg xmlns=\"http://www.w3.org/2000/svg\" height=\"24px\"viewBox=\"0 0 24 24\"\n",
              "     width=\"24px\">\n",
              "    <g>\n",
              "        <path d=\"M19 3H5c-1.1 0-2 .9-2 2v14c0 1.1.9 2 2 2h14c1.1 0 2-.9 2-2V5c0-1.1-.9-2-2-2zM9 17H7v-7h2v7zm4 0h-2V7h2v10zm4 0h-2v-4h2v4z\"/>\n",
              "    </g>\n",
              "</svg>\n",
              "  </button>\n",
              "\n",
              "<style>\n",
              "  .colab-df-quickchart {\n",
              "      --bg-color: #E8F0FE;\n",
              "      --fill-color: #1967D2;\n",
              "      --hover-bg-color: #E2EBFA;\n",
              "      --hover-fill-color: #174EA6;\n",
              "      --disabled-fill-color: #AAA;\n",
              "      --disabled-bg-color: #DDD;\n",
              "  }\n",
              "\n",
              "  [theme=dark] .colab-df-quickchart {\n",
              "      --bg-color: #3B4455;\n",
              "      --fill-color: #D2E3FC;\n",
              "      --hover-bg-color: #434B5C;\n",
              "      --hover-fill-color: #FFFFFF;\n",
              "      --disabled-bg-color: #3B4455;\n",
              "      --disabled-fill-color: #666;\n",
              "  }\n",
              "\n",
              "  .colab-df-quickchart {\n",
              "    background-color: var(--bg-color);\n",
              "    border: none;\n",
              "    border-radius: 50%;\n",
              "    cursor: pointer;\n",
              "    display: none;\n",
              "    fill: var(--fill-color);\n",
              "    height: 32px;\n",
              "    padding: 0;\n",
              "    width: 32px;\n",
              "  }\n",
              "\n",
              "  .colab-df-quickchart:hover {\n",
              "    background-color: var(--hover-bg-color);\n",
              "    box-shadow: 0 1px 2px rgba(60, 64, 67, 0.3), 0 1px 3px 1px rgba(60, 64, 67, 0.15);\n",
              "    fill: var(--button-hover-fill-color);\n",
              "  }\n",
              "\n",
              "  .colab-df-quickchart-complete:disabled,\n",
              "  .colab-df-quickchart-complete:disabled:hover {\n",
              "    background-color: var(--disabled-bg-color);\n",
              "    fill: var(--disabled-fill-color);\n",
              "    box-shadow: none;\n",
              "  }\n",
              "\n",
              "  .colab-df-spinner {\n",
              "    border: 2px solid var(--fill-color);\n",
              "    border-color: transparent;\n",
              "    border-bottom-color: var(--fill-color);\n",
              "    animation:\n",
              "      spin 1s steps(1) infinite;\n",
              "  }\n",
              "\n",
              "  @keyframes spin {\n",
              "    0% {\n",
              "      border-color: transparent;\n",
              "      border-bottom-color: var(--fill-color);\n",
              "      border-left-color: var(--fill-color);\n",
              "    }\n",
              "    20% {\n",
              "      border-color: transparent;\n",
              "      border-left-color: var(--fill-color);\n",
              "      border-top-color: var(--fill-color);\n",
              "    }\n",
              "    30% {\n",
              "      border-color: transparent;\n",
              "      border-left-color: var(--fill-color);\n",
              "      border-top-color: var(--fill-color);\n",
              "      border-right-color: var(--fill-color);\n",
              "    }\n",
              "    40% {\n",
              "      border-color: transparent;\n",
              "      border-right-color: var(--fill-color);\n",
              "      border-top-color: var(--fill-color);\n",
              "    }\n",
              "    60% {\n",
              "      border-color: transparent;\n",
              "      border-right-color: var(--fill-color);\n",
              "    }\n",
              "    80% {\n",
              "      border-color: transparent;\n",
              "      border-right-color: var(--fill-color);\n",
              "      border-bottom-color: var(--fill-color);\n",
              "    }\n",
              "    90% {\n",
              "      border-color: transparent;\n",
              "      border-bottom-color: var(--fill-color);\n",
              "    }\n",
              "  }\n",
              "</style>\n",
              "\n",
              "  <script>\n",
              "    async function quickchart(key) {\n",
              "      const quickchartButtonEl =\n",
              "        document.querySelector('#' + key + ' button');\n",
              "      quickchartButtonEl.disabled = true;  // To prevent multiple clicks.\n",
              "      quickchartButtonEl.classList.add('colab-df-spinner');\n",
              "      try {\n",
              "        const charts = await google.colab.kernel.invokeFunction(\n",
              "            'suggestCharts', [key], {});\n",
              "      } catch (error) {\n",
              "        console.error('Error during call to suggestCharts:', error);\n",
              "      }\n",
              "      quickchartButtonEl.classList.remove('colab-df-spinner');\n",
              "      quickchartButtonEl.classList.add('colab-df-quickchart-complete');\n",
              "    }\n",
              "    (() => {\n",
              "      let quickchartButtonEl =\n",
              "        document.querySelector('#df-70e6c956-8ca4-4d82-bae3-509e9d76cd89 button');\n",
              "      quickchartButtonEl.style.display =\n",
              "        google.colab.kernel.accessAllowed ? 'block' : 'none';\n",
              "    })();\n",
              "  </script>\n",
              "</div>\n",
              "\n",
              "    </div>\n",
              "  </div>\n"
            ]
          },
          "metadata": {},
          "execution_count": 32
        }
      ]
    },
    {
      "cell_type": "code",
      "source": [
        "ab_test_data.shape"
      ],
      "metadata": {
        "colab": {
          "base_uri": "https://localhost:8080/"
        },
        "id": "Z895TbYfZ8lG",
        "outputId": "3441f56d-ad1a-4d10-ffa2-d78b92a85671"
      },
      "execution_count": null,
      "outputs": [
        {
          "output_type": "execute_result",
          "data": {
            "text/plain": [
              "(19960, 5)"
            ]
          },
          "metadata": {},
          "execution_count": 33
        }
      ]
    },
    {
      "cell_type": "code",
      "source": [
        "sum((ab_test_data[\"premium\"] == 0) & (ab_test_data[\"customer_segmnt\"] == \"control\"))"
      ],
      "metadata": {
        "colab": {
          "base_uri": "https://localhost:8080/"
        },
        "id": "NwPPpI2CaKHL",
        "outputId": "da4ae420-7cd2-4f8e-a085-a3dbde9f9d4a"
      },
      "execution_count": null,
      "outputs": [
        {
          "output_type": "execute_result",
          "data": {
            "text/plain": [
              "8459"
            ]
          },
          "metadata": {},
          "execution_count": 36
        }
      ]
    },
    {
      "cell_type": "code",
      "source": [
        "sum((ab_test_data[\"premium\"] == 0) & (ab_test_data[\"customer_segmnt\"] == \"treatment\"))"
      ],
      "metadata": {
        "colab": {
          "base_uri": "https://localhost:8080/"
        },
        "id": "OVKELcgTajbt",
        "outputId": "22f158b6-228e-43b0-baf8-4dc9cd8cf6c0"
      },
      "execution_count": null,
      "outputs": [
        {
          "output_type": "execute_result",
          "data": {
            "text/plain": [
              "7975"
            ]
          },
          "metadata": {},
          "execution_count": 37
        }
      ]
    },
    {
      "cell_type": "code",
      "source": [
        "sum((ab_test_data[\"premium\"] == 1) & (ab_test_data[\"customer_segmnt\"] == \"control\"))"
      ],
      "metadata": {
        "colab": {
          "base_uri": "https://localhost:8080/"
        },
        "id": "VSaJ7KecaxH5",
        "outputId": "9ecc9016-8b1b-4459-b516-5b2b8055512e"
      },
      "execution_count": null,
      "outputs": [
        {
          "output_type": "execute_result",
          "data": {
            "text/plain": [
              "1514"
            ]
          },
          "metadata": {},
          "execution_count": 38
        }
      ]
    },
    {
      "cell_type": "code",
      "source": [
        "sum((ab_test_data[\"premium\"] == 1) & (ab_test_data[\"customer_segmnt\"] == \"treatment\"))"
      ],
      "metadata": {
        "colab": {
          "base_uri": "https://localhost:8080/"
        },
        "id": "ntBjRXwba0Zz",
        "outputId": "16982db2-51a1-49bb-de27-ee05112535cc"
      },
      "execution_count": null,
      "outputs": [
        {
          "output_type": "execute_result",
          "data": {
            "text/plain": [
              "2012"
            ]
          },
          "metadata": {},
          "execution_count": 39
        }
      ]
    },
    {
      "cell_type": "code",
      "source": [
        "sns.histplot(ab_test_data[\"watch_time_hrs\"], bins = 100)\n",
        "plt.show()"
      ],
      "metadata": {
        "colab": {
          "base_uri": "https://localhost:8080/",
          "height": 454
        },
        "id": "DORQtei-a5xe",
        "outputId": "75556cb1-c50c-4180-ecc7-9878bc0e6d69"
      },
      "execution_count": null,
      "outputs": [
        {
          "output_type": "display_data",
          "data": {
            "text/plain": [
              "<Figure size 640x480 with 1 Axes>"
            ],
            "image/png": "[encoded data removed]"
          },
          "metadata": {}
        }
      ]
    },
    {
      "cell_type": "code",
      "source": [
        "ab_test_data.groupby(\"customer_segmnt\")[\"watch_time_hrs\"].mean()"
      ],
      "metadata": {
        "colab": {
          "base_uri": "https://localhost:8080/"
        },
        "id": "V9Ygwv53bI8s",
        "outputId": "746c49e1-8502-4a33-95ad-d281163b634e"
      },
      "execution_count": null,
      "outputs": [
        {
          "output_type": "execute_result",
          "data": {
            "text/plain": [
              "customer_segmnt\n",
              "control      3.609960\n",
              "treatment    3.054294\n",
              "Name: watch_time_hrs, dtype: float64"
            ]
          },
          "metadata": {},
          "execution_count": 41
        }
      ]
    },
    {
      "cell_type": "code",
      "source": [
        "ab_test_data_control = ab_test_data[ab_test_data[\"customer_segmnt\"] == \"control\"]\n",
        "ab_test_data_treatment = ab_test_data[ab_test_data[\"customer_segmnt\"] == \"treatment\"]"
      ],
      "metadata": {
        "id": "Bx95oMEtbho2"
      },
      "execution_count": null,
      "outputs": []
    },
    {
      "cell_type": "code",
      "source": [
        "ab_test_data_control.shape"
      ],
      "metadata": {
        "colab": {
          "base_uri": "https://localhost:8080/"
        },
        "id": "EcuflNnSb3ml",
        "outputId": "64697be0-2280-42e4-b8a0-b5782fe58e00"
      },
      "execution_count": null,
      "outputs": [
        {
          "output_type": "execute_result",
          "data": {
            "text/plain": [
              "(9973, 5)"
            ]
          },
          "metadata": {},
          "execution_count": 43
        }
      ]
    },
    {
      "cell_type": "code",
      "source": [
        "ab_test_data_treatment.shape"
      ],
      "metadata": {
        "colab": {
          "base_uri": "https://localhost:8080/"
        },
        "id": "skTdAOAGb7z4",
        "outputId": "aa5946d5-105c-4f95-b0fc-1867dea47b46"
      },
      "execution_count": null,
      "outputs": [
        {
          "output_type": "execute_result",
          "data": {
            "text/plain": [
              "(9987, 5)"
            ]
          },
          "metadata": {},
          "execution_count": 44
        }
      ]
    },
    {
      "cell_type": "code",
      "source": [
        "statistic, p_val = stats.ttest_ind(ab_test_data_control[\"watch_time_hrs\"], ab_test_data_treatment[\"watch_time_hrs\"])"
      ],
      "metadata": {
        "id": "bKC2-rOMb-tj"
      },
      "execution_count": null,
      "outputs": []
    },
    {
      "cell_type": "code",
      "source": [
        "p_val"
      ],
      "metadata": {
        "colab": {
          "base_uri": "https://localhost:8080/"
        },
        "id": "qYBRPfKmcNJO",
        "outputId": "ceaf3340-560a-4823-80a9-9f13d9239ac0"
      },
      "execution_count": null,
      "outputs": [
        {
          "output_type": "execute_result",
          "data": {
            "text/plain": [
              "5.438408586231319e-57"
            ]
          },
          "metadata": {},
          "execution_count": 46
        }
      ]
    },
    {
      "cell_type": "code",
      "source": [
        "# Significance Level -> 0.01\n",
        "# p value is much much lesser than the significance level"
      ],
      "metadata": {
        "id": "EE1VRPHNcO6G"
      },
      "execution_count": null,
      "outputs": []
    },
    {
      "cell_type": "markdown",
      "source": [
        "#### <font color='pink'>Parametric Hypothesis Testing:</font>\n",
        "\n",
        "<font color='orange'>Assumptions:</font>\n",
        "\n",
        "- Parametric tests make specific assumptions about the population distribution from which the data is drawn.\n",
        "- Common assumptions include normality (data follows a normal distribution) and variance is constant across groups or conditions.\n",
        "- Parametric tests are typically used when the data reasonably follows the assumed distribution and other assumptions are met.\n",
        "- Parametric tests tend to be more powerful (i.e., better at detecting true effects) than non-parametric tests when the assumptions are met.\n",
        "- This is especially true when the sample size is large."
      ],
      "metadata": {
        "id": "Bl2rYTKyeTix"
      }
    },
    {
      "cell_type": "markdown",
      "source": [
        "#### <font color='pink'>Non-Parametric Hypothesis Testing:</font>\n",
        "\n",
        "<font color='orange'>Assumptions:</dont>\n",
        "\n",
        "- Non-parametric tests make fewer or no assumptions about the population distribution.\n",
        "- They are distribution-free or rely on fewer assumptions, such as independence of observations.\n",
        "- Non-parametric tests are useful when the assumptions for parametric tests are violated.\n",
        "- They are also suitable for data types that don't fit well with parametric assumptions, such as ordinal or skewed data.\n",
        "- Non-parametric tests are generally less powerful than parametric tests when data conforms to parametric assumptions.\n",
        "- However, they can be more robust and appropriate when dealing with non-normally distributed data."
      ],
      "metadata": {
        "id": "75hQIUsqeXak"
      }
    },
    {
      "cell_type": "markdown",
      "source": [
        "Let's see for each test we have learned till now, indicating whether it is parametric or non-parametric and the reasons why:\n",
        "\n",
        "<font color='pink'>**One Sample Z-Test:**</font>\n",
        "- Type: Parametric\n",
        "- Reason: Assumes a known population standard deviation and a normally distributed population.\n",
        "\n",
        "<font color='pink'>**Two Sample Z-Test:**</font>\n",
        "- Type: Parametric\n",
        "- Reason: Similar to the one-sample Z-test, it assumes known population standard deviations and normally distributed populations.\n",
        "\n",
        "<font color='pink'>**One Sample T-Test:**</font>\n",
        "- Type: Parametric\n",
        "- Reason: Assumes a normally distributed population but does not require knowledge of the population standard deviation.\n",
        "\n",
        "<font color='pink'>**Two Sample Independent T-Test:**</font>\n",
        "- Type: Parametric\n",
        "- Reason: Assumes normally distributed populations and equal variances between the two groups.\n",
        "\n",
        "<font color='pink'>**Paired T-Test:**</font>\n",
        "- Type: Parametric\n",
        "- Reason: Assumes normally distributed population differences.\n",
        "\n",
        "<font color='pink'>**One Sample Z-Test Proportion:**</font>\n",
        "- Type: Parametric\n",
        "- Reason: Assumes a known population proportion and sufficiently large sample sizes.\n",
        "\n",
        "<font color='pink'>**Two Sample Z-Test Proportion:**</font>\n",
        "- Type: Parametric\n",
        "- Reason: Similar to the one-sample proportion test, it assumes known population proportions and sufficiently large sample sizes.\n",
        "\n",
        "<font color='pink'>**Chi-Square Test:**</font>\n",
        "- Type: Non-parametric\n",
        "- Reason: Tests the association between categorical variables and doesn't make assumptions about the population distribution.\n",
        "\n",
        "<font color='pink'>**One Way ANOVA:**</font>\n",
        "- Type: Parametric\n",
        "- Reason: Assumes normally distributed populations and equal variances among multiple groups.\n",
        "\n",
        "<font color='pink'>**Kruskal-Wallis Test:**</font>\n",
        "- Type: Non-parametric\n",
        "- Reason: A non-parametric alternative to one-way ANOVA, used when the ANOVA assumptions are violated.\n",
        "\n",
        "<font color='pink'>**Shapiro-Wilk Test:**</font>\n",
        "- Type: Parametric (test for normality)\n",
        "- Reason: Used to check the normality of data. If p-value is low, data may not be normally distributed.\n",
        "\n",
        "<font color='pink'>**Levene's Test:**</font>\n",
        "- Type: Parametric (test for variance)\n",
        "- Reason: Used to check homogeneity of variances. If p-value is low, variances may not be equal.\n",
        "\n",
        "<font color='pink'>**Two-Way ANOVA:**</font>\n",
        "- Type: Parametric\n",
        "- Reason: Extends one-way ANOVA to study the effects of two independent variables on a dependent variable.\n",
        "\n",
        "<font color='pink'>**KS-Test (Kolmogorov-Smirnov Test):**</font>\n",
        "- Type: Non-parametric\n",
        "- Reason: Used to compare the distribution of two samples, making no assumptions about their population distributions.\n",
        "\n",
        "<font color='pink'>**A/B Testing:**</font>\n",
        "- Type: Typically parametric, but can be non-parametric\n",
        "- Reason: This can involve various tests depending on the specific metric being tested and the underlying data distribution.\n",
        "\n",
        "---"
      ],
      "metadata": {
        "id": "Xz7P7tuQeaca"
      }
    },
    {
      "cell_type": "markdown",
      "source": [
        "# Paired T Test"
      ],
      "metadata": {
        "id": "d_skeHRHe-9z"
      }
    },
    {
      "cell_type": "code",
      "source": [
        "!gdown 1X5XN_QwbYa18Ps3KlW_JVoK7G1C6iPVH"
      ],
      "metadata": {
        "colab": {
          "base_uri": "https://localhost:8080/"
        },
        "id": "9-P_ejQbcWjY",
        "outputId": "96111387-bf09-4e2c-acd7-7e7c48bfe169"
      },
      "execution_count": null,
      "outputs": [
        {
          "output_type": "stream",
          "name": "stdout",
          "text": [
            "Downloading...\n",
            "From: https://drive.google.com/uc?id=1X5XN_QwbYa18Ps3KlW_JVoK7G1C6iPVH\n",
            "To: /content/problem_solving.csv\n",
            "\r  0% 0.00/1.28k [00:00<?, ?B/s]\r100% 1.28k/1.28k [00:00<00:00, 5.83MB/s]\n"
          ]
        }
      ]
    },
    {
      "cell_type": "code",
      "source": [
        "df_ps = pd.read_csv(\"/content/problem_solving.csv\")"
      ],
      "metadata": {
        "id": "Tgz21BlbfqCv"
      },
      "execution_count": null,
      "outputs": []
    },
    {
      "cell_type": "code",
      "source": [
        "df_ps.head()"
      ],
      "metadata": {
        "colab": {
          "base_uri": "https://localhost:8080/",
          "height": 206
        },
        "id": "Dhv2gddZf3M3",
        "outputId": "60d5428b-a9ca-4f98-cb44-e2b002dcd289"
      },
      "execution_count": null,
      "outputs": [
        {
          "output_type": "execute_result",
          "data": {
            "text/plain": [
              "   id  test_1  test_2\n",
              "0   0      40      38\n",
              "1   1      49      44\n",
              "2   2      65      69\n",
              "3   3      59      63\n",
              "4   4      44      43"
            ],
            "text/html": [
              "\n",
              "  <div id=\"df-61e20f08-23c8-4418-9c20-48eb06c78848\" class=\"colab-df-container\">\n",
              "    <div>\n",
              "<style scoped>\n",
              "    .dataframe tbody tr th:only-of-type {\n",
              "        vertical-align: middle;\n",
              "    }\n",
              "\n",
              "    .dataframe tbody tr th {\n",
              "        vertical-align: top;\n",
              "    }\n",
              "\n",
              "    .dataframe thead th {\n",
              "        text-align: right;\n",
              "    }\n",
              "</style>\n",
              "<table border=\"1\" class=\"dataframe\">\n",
              "  <thead>\n",
              "    <tr style=\"text-align: right;\">\n",
              "      <th></th>\n",
              "      <th>id</th>\n",
              "      <th>test_1</th>\n",
              "      <th>test_2</th>\n",
              "    </tr>\n",
              "  </thead>\n",
              "  <tbody>\n",
              "    <tr>\n",
              "      <th>0</th>\n",
              "      <td>0</td>\n",
              "      <td>40</td>\n",
              "      <td>38</td>\n",
              "    </tr>\n",
              "    <tr>\n",
              "      <th>1</th>\n",
              "      <td>1</td>\n",
              "      <td>49</td>\n",
              "      <td>44</td>\n",
              "    </tr>\n",
              "    <tr>\n",
              "      <th>2</th>\n",
              "      <td>2</td>\n",
              "      <td>65</td>\n",
              "      <td>69</td>\n",
              "    </tr>\n",
              "    <tr>\n",
              "      <th>3</th>\n",
              "      <td>3</td>\n",
              "      <td>59</td>\n",
              "      <td>63</td>\n",
              "    </tr>\n",
              "    <tr>\n",
              "      <th>4</th>\n",
              "      <td>4</td>\n",
              "      <td>44</td>\n",
              "      <td>43</td>\n",
              "    </tr>\n",
              "  </tbody>\n",
              "</table>\n",
              "</div>\n",
              "    <div class=\"colab-df-buttons\">\n",
              "\n",
              "  <div class=\"colab-df-container\">\n",
              "    <button class=\"colab-df-convert\" onclick=\"convertToInteractive('df-61e20f08-23c8-4418-9c20-48eb06c78848')\"\n",
              "            title=\"Convert this dataframe to an interactive table.\"\n",
              "            style=\"display:none;\">\n",
              "\n",
              "  <svg xmlns=\"http://www.w3.org/2000/svg\" height=\"24px\" viewBox=\"0 -960 960 960\">\n",
              "    <path d=\"M120-120v-720h720v720H120Zm60-500h600v-160H180v160Zm220 220h160v-160H400v160Zm0 220h160v-160H400v160ZM180-400h160v-160H180v160Zm440 0h160v-160H620v160ZM180-180h160v-160H180v160Zm440 0h160v-160H620v160Z\"/>\n",
              "  </svg>\n",
              "    </button>\n",
              "\n",
              "  <style>\n",
              "    .colab-df-container {\n",
              "      display:flex;\n",
              "      gap: 12px;\n",
              "    }\n",
              "\n",
              "    .colab-df-convert {\n",
              "      background-color: #E8F0FE;\n",
              "      border: none;\n",
              "      border-radius: 50%;\n",
              "      cursor: pointer;\n",
              "      display: none;\n",
              "      fill: #1967D2;\n",
              "      height: 32px;\n",
              "      padding: 0 0 0 0;\n",
              "      width: 32px;\n",
              "    }\n",
              "\n",
              "    .colab-df-convert:hover {\n",
              "      background-color: #E2EBFA;\n",
              "      box-shadow: 0px 1px 2px rgba(60, 64, 67, 0.3), 0px 1px 3px 1px rgba(60, 64, 67, 0.15);\n",
              "      fill: #174EA6;\n",
              "    }\n",
              "\n",
              "    .colab-df-buttons div {\n",
              "      margin-bottom: 4px;\n",
              "    }\n",
              "\n",
              "    [theme=dark] .colab-df-convert {\n",
              "      background-color: #3B4455;\n",
              "      fill: #D2E3FC;\n",
              "    }\n",
              "\n",
              "    [theme=dark] .colab-df-convert:hover {\n",
              "      background-color: #434B5C;\n",
              "      box-shadow: 0px 1px 3px 1px rgba(0, 0, 0, 0.15);\n",
              "      filter: drop-shadow(0px 1px 2px rgba(0, 0, 0, 0.3));\n",
              "      fill: #FFFFFF;\n",
              "    }\n",
              "  </style>\n",
              "\n",
              "    <script>\n",
              "      const buttonEl =\n",
              "        document.querySelector('#df-61e20f08-23c8-4418-9c20-48eb06c78848 button.colab-df-convert');\n",
              "      buttonEl.style.display =\n",
              "        google.colab.kernel.accessAllowed ? 'block' : 'none';\n",
              "\n",
              "      async function convertToInteractive(key) {\n",
              "        const element = document.querySelector('#df-61e20f08-23c8-4418-9c20-48eb06c78848');\n",
              "        const dataTable =\n",
              "          await google.colab.kernel.invokeFunction('convertToInteractive',\n",
              "                                                    [key], {});\n",
              "        if (!dataTable) return;\n",
              "\n",
              "        const docLinkHtml = 'Like what you see? Visit the ' +\n",
              "          '<a target=\"_blank\" href=https://colab.research.google.com/notebooks/data_table.ipynb>data table notebook</a>'\n",
              "          + ' to learn more about interactive tables.';\n",
              "        element.innerHTML = '';\n",
              "        dataTable['output_type'] = 'display_data';\n",
              "        await google.colab.output.renderOutput(dataTable, element);\n",
              "        const docLink = document.createElement('div');\n",
              "        docLink.innerHTML = docLinkHtml;\n",
              "        element.appendChild(docLink);\n",
              "      }\n",
              "    </script>\n",
              "  </div>\n",
              "\n",
              "\n",
              "<div id=\"df-668f0ce5-bc3e-4e15-8a2d-3942e3524c4e\">\n",
              "  <button class=\"colab-df-quickchart\" onclick=\"quickchart('df-668f0ce5-bc3e-4e15-8a2d-3942e3524c4e')\"\n",
              "            title=\"Suggest charts\"\n",
              "            style=\"display:none;\">\n",
              "\n",
              "<svg xmlns=\"http://www.w3.org/2000/svg\" height=\"24px\"viewBox=\"0 0 24 24\"\n",
              "     width=\"24px\">\n",
              "    <g>\n",
              "        <path d=\"M19 3H5c-1.1 0-2 .9-2 2v14c0 1.1.9 2 2 2h14c1.1 0 2-.9 2-2V5c0-1.1-.9-2-2-2zM9 17H7v-7h2v7zm4 0h-2V7h2v10zm4 0h-2v-4h2v4z\"/>\n",
              "    </g>\n",
              "</svg>\n",
              "  </button>\n",
              "\n",
              "<style>\n",
              "  .colab-df-quickchart {\n",
              "      --bg-color: #E8F0FE;\n",
              "      --fill-color: #1967D2;\n",
              "      --hover-bg-color: #E2EBFA;\n",
              "      --hover-fill-color: #174EA6;\n",
              "      --disabled-fill-color: #AAA;\n",
              "      --disabled-bg-color: #DDD;\n",
              "  }\n",
              "\n",
              "  [theme=dark] .colab-df-quickchart {\n",
              "      --bg-color: #3B4455;\n",
              "      --fill-color: #D2E3FC;\n",
              "      --hover-bg-color: #434B5C;\n",
              "      --hover-fill-color: #FFFFFF;\n",
              "      --disabled-bg-color: #3B4455;\n",
              "      --disabled-fill-color: #666;\n",
              "  }\n",
              "\n",
              "  .colab-df-quickchart {\n",
              "    background-color: var(--bg-color);\n",
              "    border: none;\n",
              "    border-radius: 50%;\n",
              "    cursor: pointer;\n",
              "    display: none;\n",
              "    fill: var(--fill-color);\n",
              "    height: 32px;\n",
              "    padding: 0;\n",
              "    width: 32px;\n",
              "  }\n",
              "\n",
              "  .colab-df-quickchart:hover {\n",
              "    background-color: var(--hover-bg-color);\n",
              "    box-shadow: 0 1px 2px rgba(60, 64, 67, 0.3), 0 1px 3px 1px rgba(60, 64, 67, 0.15);\n",
              "    fill: var(--button-hover-fill-color);\n",
              "  }\n",
              "\n",
              "  .colab-df-quickchart-complete:disabled,\n",
              "  .colab-df-quickchart-complete:disabled:hover {\n",
              "    background-color: var(--disabled-bg-color);\n",
              "    fill: var(--disabled-fill-color);\n",
              "    box-shadow: none;\n",
              "  }\n",
              "\n",
              "  .colab-df-spinner {\n",
              "    border: 2px solid var(--fill-color);\n",
              "    border-color: transparent;\n",
              "    border-bottom-color: var(--fill-color);\n",
              "    animation:\n",
              "      spin 1s steps(1) infinite;\n",
              "  }\n",
              "\n",
              "  @keyframes spin {\n",
              "    0% {\n",
              "      border-color: transparent;\n",
              "      border-bottom-color: var(--fill-color);\n",
              "      border-left-color: var(--fill-color);\n",
              "    }\n",
              "    20% {\n",
              "      border-color: transparent;\n",
              "      border-left-color: var(--fill-color);\n",
              "      border-top-color: var(--fill-color);\n",
              "    }\n",
              "    30% {\n",
              "      border-color: transparent;\n",
              "      border-left-color: var(--fill-color);\n",
              "      border-top-color: var(--fill-color);\n",
              "      border-right-color: var(--fill-color);\n",
              "    }\n",
              "    40% {\n",
              "      border-color: transparent;\n",
              "      border-right-color: var(--fill-color);\n",
              "      border-top-color: var(--fill-color);\n",
              "    }\n",
              "    60% {\n",
              "      border-color: transparent;\n",
              "      border-right-color: var(--fill-color);\n",
              "    }\n",
              "    80% {\n",
              "      border-color: transparent;\n",
              "      border-right-color: var(--fill-color);\n",
              "      border-bottom-color: var(--fill-color);\n",
              "    }\n",
              "    90% {\n",
              "      border-color: transparent;\n",
              "      border-bottom-color: var(--fill-color);\n",
              "    }\n",
              "  }\n",
              "</style>\n",
              "\n",
              "  <script>\n",
              "    async function quickchart(key) {\n",
              "      const quickchartButtonEl =\n",
              "        document.querySelector('#' + key + ' button');\n",
              "      quickchartButtonEl.disabled = true;  // To prevent multiple clicks.\n",
              "      quickchartButtonEl.classList.add('colab-df-spinner');\n",
              "      try {\n",
              "        const charts = await google.colab.kernel.invokeFunction(\n",
              "            'suggestCharts', [key], {});\n",
              "      } catch (error) {\n",
              "        console.error('Error during call to suggestCharts:', error);\n",
              "      }\n",
              "      quickchartButtonEl.classList.remove('colab-df-spinner');\n",
              "      quickchartButtonEl.classList.add('colab-df-quickchart-complete');\n",
              "    }\n",
              "    (() => {\n",
              "      let quickchartButtonEl =\n",
              "        document.querySelector('#df-668f0ce5-bc3e-4e15-8a2d-3942e3524c4e button');\n",
              "      quickchartButtonEl.style.display =\n",
              "        google.colab.kernel.accessAllowed ? 'block' : 'none';\n",
              "    })();\n",
              "  </script>\n",
              "</div>\n",
              "\n",
              "    </div>\n",
              "  </div>\n"
            ]
          },
          "metadata": {},
          "execution_count": 50
        }
      ]
    },
    {
      "cell_type": "code",
      "source": [
        "from scipy.stats import ttest_rel"
      ],
      "metadata": {
        "id": "rYp9X8e3gW_g"
      },
      "execution_count": null,
      "outputs": []
    },
    {
      "cell_type": "code",
      "source": [
        "# CASE 1\n",
        "# H0: PS session has no effect on the test scores\n",
        "# Ha: Average Score before PS != Average Score after PS"
      ],
      "metadata": {
        "id": "DGSruO5wf49a"
      },
      "execution_count": null,
      "outputs": []
    },
    {
      "cell_type": "code",
      "source": [
        "stat, p_val = ttest_rel(df_ps[\"test_1\"], df_ps[\"test_2\"])\n",
        "\n",
        "print(p_val)"
      ],
      "metadata": {
        "colab": {
          "base_uri": "https://localhost:8080/"
        },
        "id": "glXHVnVTgLyl",
        "outputId": "74e0fc6e-23b2-413e-c003-aef567b22424"
      },
      "execution_count": null,
      "outputs": [
        {
          "output_type": "stream",
          "name": "stdout",
          "text": [
            "1.795840353792313e-07\n"
          ]
        }
      ]
    },
    {
      "cell_type": "code",
      "source": [
        "# CASE 2\n",
        "# H0: PS session has no effect on the test scores\n",
        "# Ha: Average Score before PS < Average Score after PS"
      ],
      "metadata": {
        "id": "_cjrBsaVgQWU"
      },
      "execution_count": null,
      "outputs": []
    },
    {
      "cell_type": "code",
      "source": [
        "stat, p_val = ttest_rel(df_ps[\"test_1\"], df_ps[\"test_2\"], alternative = \"less\")\n",
        "\n",
        "print(p_val)"
      ],
      "metadata": {
        "colab": {
          "base_uri": "https://localhost:8080/"
        },
        "id": "tSNVvcu8guMA",
        "outputId": "65221374-ef44-44df-cf6e-aa9743283c76"
      },
      "execution_count": null,
      "outputs": [
        {
          "output_type": "stream",
          "name": "stdout",
          "text": [
            "8.979201768961566e-08\n"
          ]
        }
      ]
    },
    {
      "cell_type": "code",
      "source": [
        "# CASE 3\n",
        "# H0: PS session has no effect on the test scores\n",
        "# Ha: Average Score before PS > Average Score after PS"
      ],
      "metadata": {
        "id": "OM-Uwhmzgxpy"
      },
      "execution_count": null,
      "outputs": []
    },
    {
      "cell_type": "code",
      "source": [
        "stat, p_val = ttest_rel(df_ps[\"test_1\"], df_ps[\"test_2\"], alternative = \"greater\")\n",
        "\n",
        "print(p_val)"
      ],
      "metadata": {
        "colab": {
          "base_uri": "https://localhost:8080/"
        },
        "id": "kNeIR0YuhA_1",
        "outputId": "dd70eb87-441b-4f0f-9513-121adc393408"
      },
      "execution_count": null,
      "outputs": [
        {
          "output_type": "stream",
          "name": "stdout",
          "text": [
            "0.9999999102079823\n"
          ]
        }
      ]
    },
    {
      "cell_type": "code",
      "source": [],
      "metadata": {
        "id": "5927dQdchETp"
      },
      "execution_count": null,
      "outputs": []
    }
  ]
}