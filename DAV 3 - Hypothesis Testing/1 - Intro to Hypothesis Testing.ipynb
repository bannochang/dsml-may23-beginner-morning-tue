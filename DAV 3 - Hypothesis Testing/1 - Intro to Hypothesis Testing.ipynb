{
 "cells": [
  {
   "cell_type": "code",
   "execution_count": 1,
   "id": "baef1cba",
   "metadata": {},
   "outputs": [
    {
     "data": {
      "text/plain": [
       "'\\nA security system is designed to detect intruders in a restricted area. The null hypothesis (H0) is that there is no intruder, and the alternate hypothesis (H1) is that there is an intruder. What is a Type II error in this context?\\n'"
      ]
     },
     "execution_count": 1,
     "metadata": {},
     "output_type": "execute_result"
    }
   ],
   "source": [
    "'''\n",
    "A security system is designed to detect intruders in a restricted area. The null hypothesis (H0) is that there is no intruder, and the alternate hypothesis (H1) is that there is an intruder. What is a Type II error in this context?\n",
    "'''"
   ]
  },
  {
   "cell_type": "code",
   "execution_count": 2,
   "id": "5c744eb0",
   "metadata": {},
   "outputs": [
    {
     "data": {
      "text/plain": [
       "'\\nCASE 1 -> No Intruder (Real) | No Intruder (Result) -> True Positive\\nCASE 2 -> No Intruder (Real) | Intruder (Result) -> False Positive\\nCASE 3 -> Intruder (Real) | No Intruder (Result) -> False Negative\\nCASE 4 -> Intruder (Real) | Intruder (Real) -> True Negative\\n'"
      ]
     },
     "execution_count": 2,
     "metadata": {},
     "output_type": "execute_result"
    }
   ],
   "source": [
    "'''\n",
    "CASE 1 -> No Intruder (Real) | No Intruder (Result) -> True Positive\n",
    "CASE 2 -> No Intruder (Real) | Intruder (Result) -> False Positive\n",
    "CASE 3 -> Intruder (Real) | No Intruder (Result) -> False Negative\n",
    "CASE 4 -> Intruder (Real) | Intruder (Real) -> True Negative\n",
    "'''"
   ]
  },
  {
   "cell_type": "code",
   "execution_count": 3,
   "id": "4db2678f",
   "metadata": {},
   "outputs": [],
   "source": [
    "# -> Corona Virus\n",
    "# -> Coin Toss\n",
    "# -> 3rd Umpire\n",
    "# -> Youtube\n",
    "# -> Flipkart"
   ]
  },
  {
   "cell_type": "code",
   "execution_count": null,
   "id": "7b5e25a7",
   "metadata": {},
   "outputs": [],
   "source": []
  }
 ],
 "metadata": {
  "kernelspec": {
   "display_name": "Python 3 (ipykernel)",
   "language": "python",
   "name": "python3"
  },
  "language_info": {
   "codemirror_mode": {
    "name": "ipython",
    "version": 3
   },
   "file_extension": ".py",
   "mimetype": "text/x-python",
   "name": "python",
   "nbconvert_exporter": "python",
   "pygments_lexer": "ipython3",
   "version": "3.9.5"
  }
 },
 "nbformat": 4,
 "nbformat_minor": 5
}
